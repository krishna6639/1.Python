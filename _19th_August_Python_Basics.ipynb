{
 "cells": [
  {
   "cell_type": "markdown",
   "id": "91579113-8603-433c-b427-82dd71dc62d0",
   "metadata": {},
   "source": [
    "TOPIC: Python Basics Variable\n",
    "-----------------------------"
   ]
  },
  {
   "cell_type": "markdown",
   "id": "37e86643-acb9-42f5-bc61-fac97aaa541d",
   "metadata": {},
   "source": [
    "1. Declare two variables, `x` and `y`, and assign them integer values. Swap the\n",
    "values of these variables without using any temporary variable."
   ]
  },
  {
   "cell_type": "code",
   "execution_count": 1,
   "id": "1cad1938-c32b-4476-a627-6e91f4478306",
   "metadata": {},
   "outputs": [],
   "source": [
    "x = 10"
   ]
  },
  {
   "cell_type": "code",
   "execution_count": 2,
   "id": "6bed41f5-3498-4690-881f-110790df026e",
   "metadata": {},
   "outputs": [],
   "source": [
    "y = 20"
   ]
  },
  {
   "cell_type": "code",
   "execution_count": 3,
   "id": "e930185c-e709-468b-9b56-de6da6346cb0",
   "metadata": {},
   "outputs": [],
   "source": [
    "## Swapping of two variables \n",
    "## without using third variable\n",
    "x, y = y, x"
   ]
  },
  {
   "cell_type": "code",
   "execution_count": 4,
   "id": "34de362f-1550-446c-ac09-558bf17802f9",
   "metadata": {},
   "outputs": [
    {
     "name": "stdout",
     "output_type": "stream",
     "text": [
      "20\n"
     ]
    }
   ],
   "source": [
    "print(x)"
   ]
  },
  {
   "cell_type": "code",
   "execution_count": 5,
   "id": "afcb2ae4-05de-490e-808b-6c656584aea6",
   "metadata": {},
   "outputs": [
    {
     "name": "stdout",
     "output_type": "stream",
     "text": [
      "10\n"
     ]
    }
   ],
   "source": [
    "print(y)"
   ]
  },
  {
   "cell_type": "markdown",
   "id": "2b95b05a-2126-4418-8abe-297ab08d5891",
   "metadata": {},
   "source": [
    "2. Create a program that calculates the area of a rectangle. Take the length and\n",
    "width as inputs from the user and store them in variables. Calculate and\n",
    "display the area."
   ]
  },
  {
   "cell_type": "code",
   "execution_count": 9,
   "id": "23cee6c6-1f60-4339-9782-4d8d849a3803",
   "metadata": {},
   "outputs": [
    {
     "name": "stdin",
     "output_type": "stream",
     "text": [
      "Enter the length of the rectangle:  5\n",
      "Enter the width of the rectangle:  5\n"
     ]
    }
   ],
   "source": [
    "## Get the length and width from the user\n",
    "length = int(input(\"Enter the length of the rectangle: \"))\n",
    "width = int(input(\"Enter the width of the rectangle: \"))"
   ]
  },
  {
   "cell_type": "code",
   "execution_count": 10,
   "id": "d458f239-3d40-44aa-9757-fae55edf43b8",
   "metadata": {},
   "outputs": [],
   "source": [
    "## calculate area of rectangle\n",
    "area = length * width"
   ]
  },
  {
   "cell_type": "code",
   "execution_count": 11,
   "id": "98704fe8-e444-4cf7-9129-ed145042fd2f",
   "metadata": {},
   "outputs": [
    {
     "name": "stdout",
     "output_type": "stream",
     "text": [
      "25\n"
     ]
    }
   ],
   "source": [
    "print(area)"
   ]
  },
  {
   "cell_type": "markdown",
   "id": "ad70d4fc-9743-45d4-b32d-56949f94138a",
   "metadata": {},
   "source": [
    "3. Write a Python program that converts temperatures from Celsius to\n",
    "Fahrenheit. Take the temperature in Celsius as input, store it in a variable,\n",
    "convert it to Fahrenheit, and display the result."
   ]
  },
  {
   "cell_type": "code",
   "execution_count": 14,
   "id": "beca5172-012a-4383-8c35-eedf72cf5d75",
   "metadata": {},
   "outputs": [
    {
     "name": "stdin",
     "output_type": "stream",
     "text": [
      "Enter temperature in celsius :  23\n"
     ]
    }
   ],
   "source": [
    "## input temperature in celsius\n",
    "c = float(input('Enter temperature in celsius : '))"
   ]
  },
  {
   "cell_type": "code",
   "execution_count": 15,
   "id": "c0453a67-fc1f-413c-a76f-258974e277b3",
   "metadata": {},
   "outputs": [],
   "source": [
    "# Convert Celsius to Fahrenheit\n",
    "F = ( c * 9/5 ) + 32"
   ]
  },
  {
   "cell_type": "code",
   "execution_count": 16,
   "id": "5fc00b7a-103b-4eba-a1a8-963a4893bb04",
   "metadata": {},
   "outputs": [
    {
     "name": "stdout",
     "output_type": "stream",
     "text": [
      "Temperatore in fahrenheit  :  73.4\n"
     ]
    }
   ],
   "source": [
    "print('Temperatore in fahrenheit  : ',F)"
   ]
  },
  {
   "cell_type": "markdown",
   "id": "98df6dab-de16-482e-aaf1-899e8cf6118b",
   "metadata": {},
   "source": [
    "TOPIC: String Based Questions\n",
    "-----------------------------"
   ]
  },
  {
   "cell_type": "markdown",
   "id": "78bb281e-3b96-419f-9969-3d83e0ee7544",
   "metadata": {},
   "source": [
    "1. Write a Python program that takes a string as input and prints the length of\n",
    "the string.\n"
   ]
  },
  {
   "cell_type": "code",
   "execution_count": 17,
   "id": "8c6da611-2226-4dc2-bae8-b2bf47650a15",
   "metadata": {},
   "outputs": [
    {
     "name": "stdin",
     "output_type": "stream",
     "text": [
      "Enter the string :  krishna\n"
     ]
    }
   ],
   "source": [
    "s1 = input(\"Enter the string : \")"
   ]
  },
  {
   "cell_type": "code",
   "execution_count": 18,
   "id": "ef1c2d73-e95f-493b-8eeb-9c8bdda206f6",
   "metadata": {},
   "outputs": [
    {
     "name": "stdout",
     "output_type": "stream",
     "text": [
      "7\n"
     ]
    }
   ],
   "source": [
    "print(len(s1))"
   ]
  },
  {
   "cell_type": "markdown",
   "id": "08c33f8b-3fb0-4085-a40f-d8d07e213e01",
   "metadata": {},
   "source": [
    "2. Create a program that takes a sentence from the user and counts the number\n",
    "of vowels (a, e, i, o, u) in the string."
   ]
  },
  {
   "cell_type": "code",
   "execution_count": 19,
   "id": "a3998ca5-36d4-43bc-b138-03de06f001d6",
   "metadata": {},
   "outputs": [
    {
     "name": "stdin",
     "output_type": "stream",
     "text": [
      " my name is krishna\n"
     ]
    }
   ],
   "source": [
    "## take a sentence from the user\n",
    "s1 = input()"
   ]
  },
  {
   "cell_type": "code",
   "execution_count": 22,
   "id": "cab5368d-4283-4ca5-8732-640292a587a0",
   "metadata": {},
   "outputs": [
    {
     "data": {
      "text/plain": [
       "2"
      ]
     },
     "execution_count": 22,
     "metadata": {},
     "output_type": "execute_result"
    }
   ],
   "source": [
    "s1.count('a')"
   ]
  },
  {
   "cell_type": "code",
   "execution_count": 23,
   "id": "c1aa7847-8ec5-45b0-bfa7-c62283df51d3",
   "metadata": {},
   "outputs": [
    {
     "data": {
      "text/plain": [
       "1"
      ]
     },
     "execution_count": 23,
     "metadata": {},
     "output_type": "execute_result"
    }
   ],
   "source": [
    "s1.count('e')"
   ]
  },
  {
   "cell_type": "code",
   "execution_count": 24,
   "id": "c94e5851-0e86-4552-8772-2e5b2f2932f4",
   "metadata": {},
   "outputs": [
    {
     "data": {
      "text/plain": [
       "2"
      ]
     },
     "execution_count": 24,
     "metadata": {},
     "output_type": "execute_result"
    }
   ],
   "source": [
    "s1.count('i')"
   ]
  },
  {
   "cell_type": "code",
   "execution_count": 25,
   "id": "26f63caf-c258-4e99-8059-eeba02861fdc",
   "metadata": {},
   "outputs": [
    {
     "data": {
      "text/plain": [
       "0"
      ]
     },
     "execution_count": 25,
     "metadata": {},
     "output_type": "execute_result"
    }
   ],
   "source": [
    "s1.count('u')"
   ]
  },
  {
   "cell_type": "markdown",
   "id": "20151e7d-5948-4ef3-ae92-f876c345eb10",
   "metadata": {},
   "source": [
    "3. Given a string, reverse the order of characters using string slicing and print\n",
    "the reversed string."
   ]
  },
  {
   "cell_type": "code",
   "execution_count": 31,
   "id": "4cd3c9cc-071d-40c1-915a-2cc5cd048f6c",
   "metadata": {},
   "outputs": [],
   "source": [
    "## assig string in variable s1\n",
    "s1 = 'hello'"
   ]
  },
  {
   "cell_type": "code",
   "execution_count": 34,
   "id": "148a2b9f-b6a1-409d-a861-3629c1a5b99b",
   "metadata": {},
   "outputs": [
    {
     "name": "stdout",
     "output_type": "stream",
     "text": [
      "olleh\n"
     ]
    }
   ],
   "source": [
    "print(s1[::-1])"
   ]
  },
  {
   "cell_type": "markdown",
   "id": "f3e0d1e4-4a1e-4a64-a614-d7842948b862",
   "metadata": {},
   "source": [
    "4. Write a program that takes a string as input and checks if it is a palindrome\n",
    "(reads the same forwards and backwards)."
   ]
  },
  {
   "cell_type": "code",
   "execution_count": 35,
   "id": "0223e882-8912-4ef1-a31c-7e16cb1d77e4",
   "metadata": {},
   "outputs": [
    {
     "name": "stdin",
     "output_type": "stream",
     "text": [
      " kok\n"
     ]
    }
   ],
   "source": [
    "## takes a string as input\n",
    "s1 = input()"
   ]
  },
  {
   "cell_type": "code",
   "execution_count": 41,
   "id": "649cb918-ceba-43fc-9cb8-3dba18c85f64",
   "metadata": {},
   "outputs": [],
   "source": [
    "s2 = s1[::-1]"
   ]
  },
  {
   "cell_type": "code",
   "execution_count": 46,
   "id": "05b538a3-3741-445c-b0c5-72a19dbf7622",
   "metadata": {},
   "outputs": [
    {
     "name": "stdout",
     "output_type": "stream",
     "text": [
      "palindrome\n"
     ]
    }
   ],
   "source": [
    "## check if it is a palindrone\n",
    "if s1 == s2 :\n",
    "    print('palindrome')\n",
    "else:\n",
    "    print('not palindrone')"
   ]
  },
  {
   "cell_type": "markdown",
   "id": "42425541-e7fb-451e-94dc-8f36c04f4a3b",
   "metadata": {},
   "source": [
    "5. Create a program that takes a string as input and removes all the spaces from\n",
    "it. Print the modified string without spaces."
   ]
  },
  {
   "cell_type": "code",
   "execution_count": 47,
   "id": "851abe48-214e-4439-abbb-984dbb60bea7",
   "metadata": {},
   "outputs": [
    {
     "name": "stdin",
     "output_type": "stream",
     "text": [
      " hello pwskills\n"
     ]
    }
   ],
   "source": [
    "s1 = input()\n"
   ]
  },
  {
   "cell_type": "code",
   "execution_count": 48,
   "id": "4fb1f36b-18d3-4a69-b143-aa94f31fceec",
   "metadata": {},
   "outputs": [
    {
     "name": "stdout",
     "output_type": "stream",
     "text": [
      "hellopwskills\n"
     ]
    }
   ],
   "source": [
    "print(s1.replace(\" \",\"\"))"
   ]
  },
  {
   "cell_type": "code",
   "execution_count": null,
   "id": "b48966b6-f857-41f0-80e7-b817080b5229",
   "metadata": {},
   "outputs": [],
   "source": []
  }
 ],
 "metadata": {
  "kernelspec": {
   "display_name": "Python 3 (ipykernel)",
   "language": "python",
   "name": "python3"
  },
  "language_info": {
   "codemirror_mode": {
    "name": "ipython",
    "version": 3
   },
   "file_extension": ".py",
   "mimetype": "text/x-python",
   "name": "python",
   "nbconvert_exporter": "python",
   "pygments_lexer": "ipython3",
   "version": "3.10.8"
  }
 },
 "nbformat": 4,
 "nbformat_minor": 5
}

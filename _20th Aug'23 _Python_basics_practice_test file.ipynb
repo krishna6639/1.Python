{
 "cells": [
  {
   "cell_type": "markdown",
   "id": "916bf251-80b4-4213-94fe-054199031106",
   "metadata": {},
   "source": [
    "TOPIC: String Based Assignment Problem\n",
    "---------------------------------------"
   ]
  },
  {
   "cell_type": "markdown",
   "id": "53beab75-033d-41cf-8bbb-725389d244ba",
   "metadata": {},
   "source": [
    "1. Write a program to reverse a string."
   ]
  },
  {
   "cell_type": "code",
   "execution_count": 1,
   "id": "0bde313a-811e-42c5-90a8-567eb6a3561b",
   "metadata": {},
   "outputs": [
    {
     "name": "stdout",
     "output_type": "stream",
     "text": [
      "dlrow olleh\n"
     ]
    }
   ],
   "source": [
    "s = \"hello world\"\n",
    "s1 = s[::-1]\n",
    "print(s1)"
   ]
  },
  {
   "cell_type": "markdown",
   "id": "37d3132c-45e6-4e2a-bc4a-0d335c8eb995",
   "metadata": {},
   "source": [
    "2. Check if a string is a palindrome.\n"
   ]
  },
  {
   "cell_type": "code",
   "execution_count": 5,
   "id": "b2dbeeec-0697-4896-bb23-ec51c730f09c",
   "metadata": {},
   "outputs": [
    {
     "name": "stdout",
     "output_type": "stream",
     "text": [
      "string is a palindrome\n"
     ]
    }
   ],
   "source": [
    "S = \"kok\"\n",
    "if S == S[::-1]:\n",
    "    print(\"string is a palindrome\")\n",
    "else:\n",
    "    print(\"Not a palindrome\")"
   ]
  },
  {
   "cell_type": "markdown",
   "id": "2ec7f952-2bfc-414d-9a8a-9dcb2bbd8b05",
   "metadata": {},
   "source": [
    "3. Convert a string to uppercase\n"
   ]
  },
  {
   "cell_type": "code",
   "execution_count": 11,
   "id": "1b655ed5-d14c-432c-96c5-7549ac298a98",
   "metadata": {},
   "outputs": [
    {
     "name": "stdout",
     "output_type": "stream",
     "text": [
      "KRISHNA\n"
     ]
    }
   ],
   "source": [
    "s = \"krishna\"\n",
    "s = s.upper()\n",
    "print(s)"
   ]
  },
  {
   "cell_type": "markdown",
   "id": "09453fe3-eac2-4272-b78f-fb3f4a900b39",
   "metadata": {},
   "source": [
    "4. Convert a string to lowercase.\n"
   ]
  },
  {
   "cell_type": "code",
   "execution_count": 12,
   "id": "346e5a01-1e88-4c7a-8677-11618bba2c78",
   "metadata": {},
   "outputs": [
    {
     "name": "stdout",
     "output_type": "stream",
     "text": [
      "krishna\n"
     ]
    }
   ],
   "source": [
    "s = \"KRISHNA\"\n",
    "s = s.lower()\n",
    "print(s)"
   ]
  },
  {
   "cell_type": "markdown",
   "id": "e0b84d89-c96f-4467-8366-c4a2bf849927",
   "metadata": {},
   "source": [
    "5. Count the number of vowels in a string.\n"
   ]
  },
  {
   "cell_type": "code",
   "execution_count": 17,
   "id": "95bb849d-a89f-43a9-bf0b-384b23ccec1b",
   "metadata": {},
   "outputs": [
    {
     "name": "stdout",
     "output_type": "stream",
     "text": [
      "number of vowels is :  3\n"
     ]
    }
   ],
   "source": [
    "s = \"hello world\"\n",
    "count = 0\n",
    "\n",
    "for i in s:\n",
    "    if i in \"aeiou\":\n",
    "        count = count + 1\n",
    "print('number of vowels is : ',count)\n",
    "\n",
    "        "
   ]
  },
  {
   "cell_type": "markdown",
   "id": "debee152-2163-4e30-827f-0f93b4b1b10a",
   "metadata": {},
   "source": [
    "6. Count the number of consonants in a string."
   ]
  },
  {
   "cell_type": "code",
   "execution_count": 20,
   "id": "17f65a7b-6d7c-4296-942e-4fee4d5b247a",
   "metadata": {},
   "outputs": [
    {
     "name": "stdout",
     "output_type": "stream",
     "text": [
      "number of Consonants is :  7\n"
     ]
    }
   ],
   "source": [
    "s = \"hello world\"\n",
    "vowels = 0\n",
    "space = 0\n",
    "for i in s:\n",
    "    if i in \"aeiou\":\n",
    "        vowels = vowels + 1\n",
    "    elif i in \" \":\n",
    "        space = space + 1\n",
    "        \n",
    "Consonants = len(s) - vowels - space\n",
    "print('number of Consonants is : ',Consonants)\n"
   ]
  },
  {
   "cell_type": "markdown",
   "id": "939fd1cb-5f41-4cc0-8e1c-34d29c1977be",
   "metadata": {},
   "source": [
    "7. Remove all whitespaces from a string."
   ]
  },
  {
   "cell_type": "code",
   "execution_count": 24,
   "id": "1fbfc107-0e6a-4cff-9da7-b3a7ce39f282",
   "metadata": {},
   "outputs": [
    {
     "name": "stdout",
     "output_type": "stream",
     "text": [
      "kmmmggg\n"
     ]
    }
   ],
   "source": [
    "s = \"k m  m      m   g g g \"\n",
    "\n",
    "s = s.replace(\" \", \"\")\n",
    "print(s)"
   ]
  },
  {
   "cell_type": "markdown",
   "id": "27ebf627-b15a-45aa-906f-f628e9127d88",
   "metadata": {},
   "source": [
    "8. Find the length of a string without using the `len()` function.\n"
   ]
  },
  {
   "cell_type": "code",
   "execution_count": 25,
   "id": "773e4f78-9181-4980-916f-9dd16e18cbca",
   "metadata": {},
   "outputs": [
    {
     "name": "stdout",
     "output_type": "stream",
     "text": [
      "Length of a String :  8\n"
     ]
    }
   ],
   "source": [
    "s = \"pwskills\"\n",
    "count = 0\n",
    "for i in s:\n",
    "    count += 1\n",
    "print(\"Length of a String : \",count)\n"
   ]
  },
  {
   "cell_type": "markdown",
   "id": "a6f717ea-0d08-44db-bc54-4bb49fdedc48",
   "metadata": {},
   "source": [
    "9. Check if a string contains a specific word."
   ]
  },
  {
   "cell_type": "code",
   "execution_count": 26,
   "id": "b337bb4e-dc72-472d-982b-f206c9230699",
   "metadata": {},
   "outputs": [
    {
     "name": "stdout",
     "output_type": "stream",
     "text": [
      "yes, string contains specific word\n"
     ]
    }
   ],
   "source": [
    "s = \"This is string.\"\n",
    "sub_s = \"is\"\n",
    "\n",
    "if sub_s in s:\n",
    "    print(\"yes, string contains specific word\" )\n",
    "else:\n",
    "    print(\"No, string contains specific word\")"
   ]
  },
  {
   "cell_type": "markdown",
   "id": "7ff92c19-ea66-44cf-becc-c1c8a7045456",
   "metadata": {},
   "source": [
    "10. Replace a word in a string with another word."
   ]
  },
  {
   "cell_type": "code",
   "execution_count": 30,
   "id": "44ff16c3-e9cd-479d-9437-19684de38185",
   "metadata": {},
   "outputs": [
    {
     "name": "stdout",
     "output_type": "stream",
     "text": [
      "hii world\n"
     ]
    }
   ],
   "source": [
    "s = \"hello world\"\n",
    "s = s.replace(\"hello\",\"hii\")\n",
    "print(s)"
   ]
  },
  {
   "cell_type": "markdown",
   "id": "bcaed5c7-f656-4b57-90b5-e449a4451097",
   "metadata": {},
   "source": [
    "11. Count the occurrences of a word in a string."
   ]
  },
  {
   "cell_type": "code",
   "execution_count": 32,
   "id": "6a60165d-64df-4fa8-8a3b-b093a873038f",
   "metadata": {},
   "outputs": [
    {
     "name": "stdout",
     "output_type": "stream",
     "text": [
      "2\n"
     ]
    }
   ],
   "source": [
    "s1 = \"hello world hello\"\n",
    "s = s1.count(\"hello\")\n",
    "print(s)"
   ]
  },
  {
   "cell_type": "markdown",
   "id": "6680da08-3625-4785-8d2e-11708744d4fd",
   "metadata": {},
   "source": [
    "12. Find the first occurrence of a word in a string."
   ]
  },
  {
   "cell_type": "code",
   "execution_count": 35,
   "id": "4a3384fa-d280-4ee1-9499-7d5736c8ce07",
   "metadata": {},
   "outputs": [
    {
     "name": "stdout",
     "output_type": "stream",
     "text": [
      "first occurrence of a word in a string index : 0\n"
     ]
    }
   ],
   "source": [
    "s1 = \"hello world hello\"\n",
    "s = s1.find(\"hello\")\n",
    "print(\"first occurrence of a word in a string index :\",s)"
   ]
  },
  {
   "cell_type": "markdown",
   "id": "42e665c1-9ccf-4bca-bbdd-ebe19866a554",
   "metadata": {},
   "source": [
    "13. Find the last occurrence of a word in a string"
   ]
  },
  {
   "cell_type": "code",
   "execution_count": 37,
   "id": "9aae2136-a917-4126-bc02-54a14409a3ea",
   "metadata": {},
   "outputs": [
    {
     "name": "stdout",
     "output_type": "stream",
     "text": [
      "last occurrence of a word in a string index : 12\n"
     ]
    }
   ],
   "source": [
    "s1 = \"hello world hello\"\n",
    "s = s1.rfind(\"hello\")\n",
    "print(\"last occurrence of a word in a string index :\",s)"
   ]
  },
  {
   "cell_type": "markdown",
   "id": "faa4a227-ad10-434c-9c69-db5089cb3587",
   "metadata": {},
   "source": [
    "14. Split a string into a list of words.\n"
   ]
  },
  {
   "cell_type": "code",
   "execution_count": 39,
   "id": "0e2fddff-8a34-4901-9b43-8d93c64b263b",
   "metadata": {},
   "outputs": [
    {
     "name": "stdout",
     "output_type": "stream",
     "text": [
      "['hello', 'world']\n"
     ]
    }
   ],
   "source": [
    "s = \"   hello world\"\n",
    "words = s.split()\n",
    "print(words)"
   ]
  },
  {
   "cell_type": "markdown",
   "id": "79ad3f57-c85b-41cb-9852-6ca29c337192",
   "metadata": {},
   "source": [
    "15. Join a list of words into a string."
   ]
  },
  {
   "cell_type": "code",
   "execution_count": 40,
   "id": "805080e4-d0f6-42fa-b434-3bc3a6400851",
   "metadata": {},
   "outputs": [
    {
     "name": "stdout",
     "output_type": "stream",
     "text": [
      "This is a sample text.\n"
     ]
    }
   ],
   "source": [
    "words = [\"This\", \"is\", \"a\", \"sample\", \"text.\"]\n",
    "joined_string = \" \".join(words)\n",
    "print(joined_string)"
   ]
  },
  {
   "cell_type": "markdown",
   "id": "b3e499f1-3f03-44a2-a773-f11e87e644de",
   "metadata": {},
   "source": [
    "16. Convert a string where words are separated by spaces to one where words\n",
    "are separated by underscores."
   ]
  },
  {
   "cell_type": "code",
   "execution_count": 41,
   "id": "2ab2f858-56cb-489d-9133-865ee01c19d3",
   "metadata": {},
   "outputs": [
    {
     "name": "stdout",
     "output_type": "stream",
     "text": [
      "This_is_a_sample_text.\n"
     ]
    }
   ],
   "source": [
    "original_string = \"This is a sample text.\"\n",
    "underscore_string = original_string.replace(\" \", \"_\")\n",
    "print(underscore_string)"
   ]
  },
  {
   "cell_type": "markdown",
   "id": "56b14c5d-1213-4003-9f5f-e7f19911db0e",
   "metadata": {},
   "source": [
    "17. Check if a string starts with a specific word or phrase."
   ]
  },
  {
   "cell_type": "code",
   "execution_count": 3,
   "id": "aff966d4-c360-461a-8811-c13d4364bbf0",
   "metadata": {},
   "outputs": [
    {
     "name": "stdout",
     "output_type": "stream",
     "text": [
      "Yes ,string starts with a specific word or phrase. \n"
     ]
    }
   ],
   "source": [
    "s = \"Hello world\"\n",
    "\n",
    "if s.startswith(\"Hello\") :\n",
    "    print(\"Yes ,string starts with a specific word or phrase. \")\n",
    "else :\n",
    "    print(\"NO ,string starts with a specific word or phrase.\")\n",
    "     \n",
    "    "
   ]
  },
  {
   "cell_type": "markdown",
   "id": "98ee22d0-c3cb-46f4-9886-f9799e89f63f",
   "metadata": {},
   "source": [
    "18. Check if a string ends with a specific word or phrase.\n"
   ]
  },
  {
   "cell_type": "code",
   "execution_count": 12,
   "id": "da8cf85d-1932-4dcd-8ede-42f2cb59c984",
   "metadata": {},
   "outputs": [
    {
     "name": "stdin",
     "output_type": "stream",
     "text": [
      "enter word or phars World\n"
     ]
    },
    {
     "name": "stdout",
     "output_type": "stream",
     "text": [
      "Yes , string ends with a specific word or phrase.is - World\n"
     ]
    }
   ],
   "source": [
    "s = \"Hello World\"\n",
    "last_word = input(\"enter word or phars\")\n",
    "if s.endswith(last_word):\n",
    "    print(\"Yes , string ends with a specific word or phrase.is -\",last_word )\n",
    "else:\n",
    "    print(\"No , string ends with a specific word or phrase\")"
   ]
  },
  {
   "cell_type": "markdown",
   "id": "7b675a8a-1aa3-4a35-938c-6d4299e1927f",
   "metadata": {},
   "source": [
    "19. Convert a string to title case (e.g., \"hello world\" to \"Hello World\").\n"
   ]
  },
  {
   "cell_type": "code",
   "execution_count": 15,
   "id": "82229262-a95b-424c-b964-f05f435784b0",
   "metadata": {},
   "outputs": [
    {
     "name": "stdout",
     "output_type": "stream",
     "text": [
      "Hello World\n"
     ]
    }
   ],
   "source": [
    "s = \"hello world\"\n",
    "s = s.title()\n",
    "print(s)"
   ]
  },
  {
   "cell_type": "markdown",
   "id": "0d117514-2897-4c44-b9c5-d1aa899d9862",
   "metadata": {},
   "source": [
    "20. Find the longest word in a string"
   ]
  },
  {
   "cell_type": "code",
   "execution_count": 29,
   "id": "c858b43b-2f8f-4387-be2b-a45ba7f504b5",
   "metadata": {},
   "outputs": [
    {
     "data": {
      "text/plain": [
       "'hhhhhhhhhhh'"
      ]
     },
     "execution_count": 29,
     "metadata": {},
     "output_type": "execute_result"
    }
   ],
   "source": [
    "s = \"krishna kk hhhhhhhhhhh\"\n",
    "s = s.split()\n",
    "max(s,key = len)\n"
   ]
  },
  {
   "cell_type": "markdown",
   "id": "94cebd2d-76d3-4493-aee7-61714933c437",
   "metadata": {},
   "source": [
    "21. Find the shortest word in a string"
   ]
  },
  {
   "cell_type": "code",
   "execution_count": 30,
   "id": "3377aba0-ef64-4763-ac21-4269c930a9db",
   "metadata": {},
   "outputs": [
    {
     "data": {
      "text/plain": [
       "'kk'"
      ]
     },
     "execution_count": 30,
     "metadata": {},
     "output_type": "execute_result"
    }
   ],
   "source": [
    "s = \"krishna kk hhhhhhhhhhh\"\n",
    "s = s.split()\n",
    "min(s,key = len)"
   ]
  },
  {
   "cell_type": "markdown",
   "id": "0c5cf6da-3683-414f-b74f-f5e94e9c26a2",
   "metadata": {},
   "source": [
    "22. Reverse the order of words in a string"
   ]
  },
  {
   "cell_type": "code",
   "execution_count": 37,
   "id": "f7a7df9a-e045-4836-80cd-d762edfd9cc0",
   "metadata": {},
   "outputs": [
    {
     "name": "stdout",
     "output_type": "stream",
     "text": [
      "words. the reverse to string sample a is This\n"
     ]
    }
   ],
   "source": [
    "s = \"This is a sample string to reverse the words.\"\n",
    "s = s.split()\n",
    "reversed_words = s[::-1]\n",
    "s1 = \" \".join(reversed_words)\n",
    "print(s1)\n"
   ]
  },
  {
   "cell_type": "markdown",
   "id": "d9badf91-03e8-437f-8bda-fdfefb918be1",
   "metadata": {},
   "source": [
    "23. Check if a string is alphanumeric."
   ]
  },
  {
   "cell_type": "code",
   "execution_count": 38,
   "id": "65e2a694-857d-4c1e-aaa3-e3ddd86c9093",
   "metadata": {},
   "outputs": [
    {
     "name": "stdin",
     "output_type": "stream",
     "text": [
      "Enter the string kk11\n"
     ]
    },
    {
     "name": "stdout",
     "output_type": "stream",
     "text": [
      "Yes ,string is alphanumeric\n"
     ]
    }
   ],
   "source": [
    "s = input(\"Enter the string\")\n",
    "if s.isalnum() :\n",
    "    print(\"Yes ,string is alphanumeric\")\n",
    "else :\n",
    "    print(\"No ,string is not alphanumeric\")\n",
    "\n"
   ]
  },
  {
   "cell_type": "markdown",
   "id": "f35106a0-7bd4-4a5c-bab7-d66dedb2cd4d",
   "metadata": {},
   "source": [
    "24. Extract all digits from a string\n"
   ]
  },
  {
   "cell_type": "code",
   "execution_count": 45,
   "id": "1bf4fb28-f981-457e-9c7a-51c823921ef7",
   "metadata": {},
   "outputs": [
    {
     "name": "stdout",
     "output_type": "stream",
     "text": [
      "199925"
     ]
    }
   ],
   "source": [
    "s = \"The price is $19.99, and you have 25 items.\"\n",
    "\n",
    "# Extract digit string \n",
    "#using for loop\n",
    "for i in s:\n",
    "  # using isdigit() function\n",
    "  if(i.isdigit()):\n",
    "    print(i,end=\"\")"
   ]
  },
  {
   "cell_type": "markdown",
   "id": "d0623dcf-7a5b-416f-a5b5-5d62d53d2466",
   "metadata": {},
   "source": [
    "25. Extract all alphabets from a string.\n"
   ]
  },
  {
   "cell_type": "code",
   "execution_count": 50,
   "id": "b96d04f4-984b-43c2-82c1-f6bda6dc3762",
   "metadata": {},
   "outputs": [
    {
     "name": "stdout",
     "output_type": "stream",
     "text": [
      "krishna"
     ]
    }
   ],
   "source": [
    "s = \"@#$krishna234\"\n",
    "for i in s:\n",
    "    if i.isalpha():\n",
    "        print(i,end=\"\")\n",
    "        \n",
    "    \n"
   ]
  },
  {
   "cell_type": "markdown",
   "id": "9402a4a0-11ce-4fa9-abf0-a3b6b192753c",
   "metadata": {},
   "source": [
    "26. Count the number of uppercase letters in a string.\n"
   ]
  },
  {
   "cell_type": "code",
   "execution_count": 51,
   "id": "b52280d5-ff73-46d0-ae33-1ef443a01088",
   "metadata": {},
   "outputs": [
    {
     "name": "stdout",
     "output_type": "stream",
     "text": [
      "Count the number of uppercase is : 4\n"
     ]
    }
   ],
   "source": [
    "s = \"PWS skillS\"\n",
    "c = 0\n",
    "for i in s:\n",
    "    if i.isupper():\n",
    "        c = c + 1\n",
    "print(\"Count the number of uppercase is :\",c)"
   ]
  },
  {
   "cell_type": "markdown",
   "id": "6afbcc7a-5005-471c-a376-36629f13d002",
   "metadata": {},
   "source": [
    "27. Count the number of lowercase letters in a string.\n"
   ]
  },
  {
   "cell_type": "code",
   "execution_count": 52,
   "id": "3cb08b08-3915-457b-ac12-222e78cb88bd",
   "metadata": {},
   "outputs": [
    {
     "name": "stdout",
     "output_type": "stream",
     "text": [
      "Count the number of uppercase is : 5\n"
     ]
    }
   ],
   "source": [
    "s = \"PWS skillS\"\n",
    "c = 0\n",
    "for i in s:\n",
    "    if i.islower():\n",
    "        c = c + 1\n",
    "print(\"Count the number of uppercase is :\",c)"
   ]
  },
  {
   "cell_type": "markdown",
   "id": "248f39fb-0d31-4b24-adb8-01c3977b5274",
   "metadata": {},
   "source": [
    "28. Swap the case of each character in a string"
   ]
  },
  {
   "cell_type": "code",
   "execution_count": 53,
   "id": "3dd4568f-52b2-4d32-b180-e5237096b497",
   "metadata": {},
   "outputs": [
    {
     "name": "stdout",
     "output_type": "stream",
     "text": [
      "hELLO, wORLD!\n"
     ]
    }
   ],
   "source": [
    "s= \"Hello, World!\"\n",
    "\n",
    "s = s.swapcase()\n",
    "print(s)\n"
   ]
  },
  {
   "cell_type": "markdown",
   "id": "e515d1a3-c3b1-4a86-ac19-8be506f60ec3",
   "metadata": {},
   "source": [
    "29. Remove a specific word from a string.\n"
   ]
  },
  {
   "cell_type": "code",
   "execution_count": 56,
   "id": "01a072fa-a180-43df-940e-c16d7d851069",
   "metadata": {},
   "outputs": [
    {
     "name": "stdout",
     "output_type": "stream",
     "text": [
      "Hello,  World!\n"
     ]
    }
   ],
   "source": [
    "s= \"Hello,is  World!\"\n",
    "\n",
    "s = s.replace(\"is\",\"\")\n",
    "print(s)"
   ]
  },
  {
   "cell_type": "markdown",
   "id": "e9b131a5-b33e-40b9-91b2-4546b0f1fd4f",
   "metadata": {},
   "source": [
    "30. Check if a string is a valid email address."
   ]
  },
  {
   "cell_type": "code",
   "execution_count": 62,
   "id": "0dc083b4-4aaa-4cb9-a2d5-e14e0a4048a4",
   "metadata": {},
   "outputs": [
    {
     "name": "stdin",
     "output_type": "stream",
     "text": [
      "Enter email address krishna@gmail.com\n"
     ]
    },
    {
     "name": "stdout",
     "output_type": "stream",
     "text": [
      "valid email address\n"
     ]
    }
   ],
   "source": [
    "email = input(\"Enter email address\")\n",
    "pattern = \"@gmail.com\"\n",
    "if paten in email:\n",
    "    print(\"valid email address\")\n",
    "else:\n",
    "    print(\"not valid email\")"
   ]
  },
  {
   "cell_type": "markdown",
   "id": "0fe939fd-ecc0-429e-8154-a8b20a1e763a",
   "metadata": {},
   "source": [
    "31. Extract the username from an email address string.\n"
   ]
  },
  {
   "cell_type": "code",
   "execution_count": 14,
   "id": "d667b001-8ba6-4116-b819-fd3403ca87ed",
   "metadata": {},
   "outputs": [
    {
     "name": "stdout",
     "output_type": "stream",
     "text": [
      "krishna"
     ]
    }
   ],
   "source": [
    "s = \"krishna123@gmail.com\"\n",
    "s = s[:s.index('@')]\n",
    "for i in s:\n",
    "    if i.isalpha():\n",
    "        print(i,end=\"\");\n",
    "    \n"
   ]
  },
  {
   "cell_type": "markdown",
   "id": "262448b4-2997-4785-a17f-4036e43910dd",
   "metadata": {},
   "source": [
    "32. Extract the domain name from an email address string."
   ]
  },
  {
   "cell_type": "code",
   "execution_count": 15,
   "id": "78704da5-d4ca-4c1b-8d09-7b0c184dae15",
   "metadata": {},
   "outputs": [
    {
     "name": "stdout",
     "output_type": "stream",
     "text": [
      "gmailcom"
     ]
    }
   ],
   "source": [
    "s = \"krishna123@gmail.com\"\n",
    "s = s[s.index('@'):]\n",
    "for i in s:\n",
    "    if i.isalpha():\n",
    "        print(i,end=\"\");"
   ]
  },
  {
   "cell_type": "markdown",
   "id": "03ad32a4-b262-4900-b39e-bfba30f0ff8c",
   "metadata": {},
   "source": [
    "33. Replace multiple spaces in a string with a single space."
   ]
  },
  {
   "cell_type": "code",
   "execution_count": 24,
   "id": "91382b82-1066-4587-9fae-e63794dd57c2",
   "metadata": {},
   "outputs": [
    {
     "name": "stdout",
     "output_type": "stream",
     "text": [
      "Welcome to pw skills\n"
     ]
    }
   ],
   "source": [
    "s = \"   Welcome    to   pw   skills   \";\n",
    "s = s.split()\n",
    "s1 = \" \".join(s)\n",
    "print(s1)"
   ]
  },
  {
   "cell_type": "markdown",
   "id": "e5534d85-9dc4-49c8-98df-a5425a6f846d",
   "metadata": {},
   "source": [
    "34. Check if a string is a valid URL."
   ]
  },
  {
   "cell_type": "code",
   "execution_count": 34,
   "id": "3506463a-3967-40d8-8eed-a5dc8af53cb0",
   "metadata": {},
   "outputs": [
    {
     "name": "stdout",
     "output_type": "stream",
     "text": [
      "Valid URL\n"
     ]
    }
   ],
   "source": [
    "from urllib.parse import urlparse\n",
    "\n",
    "def is_valid_url(url):\n",
    "    try:\n",
    "        result = urlparse(url)\n",
    "        \n",
    "        # Check if the scheme (e.g., http, https) and netloc (e.g., domain) are both present\n",
    "        return all([result.scheme, result.netloc])\n",
    "        \n",
    "    except ValueError:\n",
    "        return False\n",
    "\n",
    "# Example usage:\n",
    "url = \"https://www.google.com\"\n",
    "if is_valid_url(url):\n",
    "    print(\"Valid URL\")\n",
    "else:\n",
    "    print(\"Not a valid URL\")\n"
   ]
  },
  {
   "cell_type": "markdown",
   "id": "a74c77a8-be1d-4dd7-abc1-fcc7f9c6d23a",
   "metadata": {},
   "source": [
    "35. Extract the protocol (http or https) from a URL string.\n"
   ]
  },
  {
   "cell_type": "code",
   "execution_count": 30,
   "id": "5941892c-f151-41c0-ad66-a0ce5ed5ac14",
   "metadata": {},
   "outputs": [
    {
     "name": "stdout",
     "output_type": "stream",
     "text": [
      "Protocol: https\n"
     ]
    }
   ],
   "source": [
    "from urllib.parse import urlparse\n",
    "\n",
    "def extract_protocol(url):\n",
    "    parsed_url = urlparse(url)\n",
    "    return parsed_url.scheme\n",
    "\n",
    "# Example usage:\n",
    "url = \"https://www.example.com\"\n",
    "protocol = extract_protocol(url)\n",
    "print(\"Protocol:\", protocol)\n"
   ]
  },
  {
   "cell_type": "markdown",
   "id": "df5dbda6-ec04-49c3-8c4b-c26578735043",
   "metadata": {},
   "source": [
    "36. Find the frequency of each character in a string"
   ]
  },
  {
   "cell_type": "code",
   "execution_count": 50,
   "id": "571d3e0f-77c9-4aef-a593-0ad76a75c203",
   "metadata": {},
   "outputs": [
    {
     "name": "stdout",
     "output_type": "stream",
     "text": [
      "h : 1\n",
      "e : 1\n",
      "l : 3\n",
      "l : 3\n",
      "o : 2\n",
      "  : 1\n",
      "w : 1\n",
      "o : 2\n",
      "r : 1\n",
      "l : 3\n",
      "d : 1\n"
     ]
    }
   ],
   "source": [
    "s = \"hello world\"\n",
    "for i in s:\n",
    "    s1 = s.count(i)\n",
    "    print(i,\":\",s1)\n",
    "\n"
   ]
  },
  {
   "cell_type": "markdown",
   "id": "5546ef32-af24-4b04-aba0-66fc69e6e3e6",
   "metadata": {},
   "source": [
    "37. Remove all punctuation from a string"
   ]
  },
  {
   "cell_type": "code",
   "execution_count": 51,
   "id": "586a8618-d051-406b-8e96-b686ff70d8e6",
   "metadata": {},
   "outputs": [
    {
     "name": "stdout",
     "output_type": "stream",
     "text": [
      "Hello World This is an example string with some punctuation\n"
     ]
    }
   ],
   "source": [
    "s = \"Hello, World! This is an example string with some punctuation.\"\n",
    "s = s.replace(\".\",\"\")\n",
    "s = s.replace(\",\",\"\")\n",
    "s = s.replace(\"!\",\"\")\n",
    "print(s)"
   ]
  },
  {
   "cell_type": "markdown",
   "id": "875bb696-bef7-46e7-8bc0-f65b8036cf36",
   "metadata": {},
   "source": [
    "38. Check if a string contains only digits.\n"
   ]
  },
  {
   "cell_type": "code",
   "execution_count": 53,
   "id": "49a37683-dba9-4fa4-ad58-5d5783235c9e",
   "metadata": {},
   "outputs": [
    {
     "name": "stdin",
     "output_type": "stream",
     "text": [
      "Enter string 1234\n"
     ]
    },
    {
     "name": "stdout",
     "output_type": "stream",
     "text": [
      "YES, string contains only digits. \n"
     ]
    }
   ],
   "source": [
    "s = input(\"Enter string\")\n",
    "\n",
    "if s.isdigit():\n",
    "    print(\"YES, string contains only digits. \")\n",
    "else:\n",
    "    print(\"NO, string NOT contains only digits. \")"
   ]
  },
  {
   "cell_type": "markdown",
   "id": "09d57fb5-e9ec-4778-b3b1-1d9d1ac56fa2",
   "metadata": {},
   "source": [
    "39. Check if a string contains only alphabets.\n"
   ]
  },
  {
   "cell_type": "code",
   "execution_count": 58,
   "id": "912a4d67-cfdd-449c-a777-9ada49ab0f44",
   "metadata": {},
   "outputs": [
    {
     "name": "stdin",
     "output_type": "stream",
     "text": [
      "Enter string ABCD\n"
     ]
    },
    {
     "name": "stdout",
     "output_type": "stream",
     "text": [
      "YES, string contains only alphabets. \n"
     ]
    }
   ],
   "source": [
    "s = input(\"Enter string\")\n",
    "\n",
    "if s.isalpha():\n",
    "    print(\"YES, string contains only alphabets. \")\n",
    "else:\n",
    "    print(\"NO, string NOT contains only alphabets. \")"
   ]
  },
  {
   "cell_type": "markdown",
   "id": "1f00147d-01ac-4bd0-9ec4-189411c72259",
   "metadata": {},
   "source": [
    "40. Convert a string to a list of characters"
   ]
  },
  {
   "cell_type": "code",
   "execution_count": 62,
   "id": "d98a904e-4d21-4fdd-a572-1a7b2b57f831",
   "metadata": {},
   "outputs": [
    {
     "name": "stdout",
     "output_type": "stream",
     "text": [
      "['h', 'e', 'l', 'l', 'o', ' ', 'w', 'o', 'r', 'l', 'd']\n"
     ]
    }
   ],
   "source": [
    "S = \"hello world\"\n",
    "char_list = []\n",
    "for i in S:\n",
    "    l = char_list.append(i)\n",
    "print(char_list)"
   ]
  },
  {
   "cell_type": "markdown",
   "id": "f6512f8a-eea4-415f-ae20-a1cd9c38cb49",
   "metadata": {},
   "source": [
    "41. Check if two strings are anagrams."
   ]
  },
  {
   "cell_type": "code",
   "execution_count": 78,
   "id": "f55a08a3-7e9c-4ca7-8155-601ee753e9f5",
   "metadata": {},
   "outputs": [
    {
     "name": "stdout",
     "output_type": "stream",
     "text": [
      "Yes, two strings are anagrams.\n"
     ]
    }
   ],
   "source": [
    "s1 = \"ABCD\"\n",
    "s2 = \"bdca\"\n",
    "\n",
    "s1 = s1.replace(\" \",\"\").lower()\n",
    "s2 = s2.replace(\" \",\"\").lower()\n",
    "if sorted(s1) == sorted(s2):\n",
    "    print(\"Yes, two strings are anagrams.\")\n",
    "else:\n",
    "    print(\"NO, two strings are NOT anagrams\")"
   ]
  },
  {
   "cell_type": "markdown",
   "id": "bad2bd03-d897-4c28-b9a4-d27b1a278eee",
   "metadata": {},
   "source": [
    "42. Encode a string using a Caesar cipher."
   ]
  },
  {
   "cell_type": "code",
   "execution_count": 96,
   "id": "4e5ef6d9-0b68-4006-bb99-564c8423f788",
   "metadata": {},
   "outputs": [
    {
     "name": "stdin",
     "output_type": "stream",
     "text": [
      "Enter plain text : PWskillsA\n"
     ]
    },
    {
     "name": "stdout",
     "output_type": "stream",
     "text": [
      "Shift : 1\n",
      "Encode a string:  QXtljmmtB\n"
     ]
    }
   ],
   "source": [
    "p = input(\"Enter plain text :\")\n",
    "s = 1\n",
    "result = \"\"\n",
    "for i in range(len(p)):\n",
    "    char = p[i]\n",
    "    if char.islower():\n",
    "        result += chr((ord(char) + s -97)% 26+ 97)\n",
    "    elif char.isupper():\n",
    "        result += chr((ord(char) + s -65)% 26+ 65)\n",
    "print(\"Shift :\",s)\n",
    "print(\"Encode a string: \",result)"
   ]
  },
  {
   "cell_type": "markdown",
   "id": "1216b23d-aac2-45bd-bb9e-e317945155ce",
   "metadata": {},
   "source": [
    "43. Decode a Caesar cipher encoded string.\n"
   ]
  },
  {
   "cell_type": "code",
   "execution_count": 100,
   "id": "9b9adcf4-02c7-414e-a263-3077e5bbead0",
   "metadata": {},
   "outputs": [
    {
     "name": "stdin",
     "output_type": "stream",
     "text": [
      "Enter plain text : QXtljmmtB\n"
     ]
    },
    {
     "name": "stdout",
     "output_type": "stream",
     "text": [
      "Shift : 1\n",
      "Encode a string:  PWskillsA\n"
     ]
    }
   ],
   "source": [
    "p = input(\"Enter plain text :\")\n",
    "s = 1\n",
    "result = \"\"\n",
    "for i in range(len(p)):\n",
    "    char = p[i]\n",
    "    if char.islower():\n",
    "        result += chr((ord(char) - s -97)% 26+ 97)\n",
    "    elif char.isupper():\n",
    "        result += chr((ord(char) - s -65)% 26+ 65)\n",
    "print(\"Shift :\",s)\n",
    "print(\"Encode a string: \",result)"
   ]
  },
  {
   "cell_type": "markdown",
   "id": "dcf72828-39f9-491a-9973-f53fca03b5a5",
   "metadata": {},
   "source": [
    "44. Find the most frequent word in a string.\n"
   ]
  },
  {
   "cell_type": "code",
   "execution_count": 121,
   "id": "caf94d71-2193-43cb-8da4-64b5b621f870",
   "metadata": {},
   "outputs": [
    {
     "name": "stdout",
     "output_type": "stream",
     "text": [
      "the most frequent word in a string. \n",
      " L : 3\n"
     ]
    }
   ],
   "source": [
    "s = \"heLLo worLd\"\n",
    "val = max(s , key = lambda x: s.count(x))\n",
    "print(\"the most frequent word in a string. \\n\",val,\":\",s.count(val))"
   ]
  },
  {
   "cell_type": "markdown",
   "id": "d1151921-4dae-4c8a-bfcb-8f000d0ccc2f",
   "metadata": {},
   "source": [
    "45. Find all unique words in a string."
   ]
  },
  {
   "cell_type": "code",
   "execution_count": 126,
   "id": "f4146e78-e754-4fb0-9bae-652ef2ec56a5",
   "metadata": {},
   "outputs": [
    {
     "name": "stdout",
     "output_type": "stream",
     "text": [
      "only\n",
      "is\n",
      "be\n",
      "in\n",
      "emergency,\n",
      "were\n",
      "would\n",
      "a\n",
      "real\n",
      "test.\n",
      "we\n",
      "this\n",
      "trouble.\n",
      "If\n",
      "This\n"
     ]
    }
   ],
   "source": [
    "\n",
    "str = \"This is a test. This is only a test. If this were a real emergency, we would be in trouble.\"\n",
    "# storing string in the form of list of words\n",
    "s = set(str.split(\" \"))\n",
    "# for loop for iterating\n",
    "for i in s:\n",
    "    print(i)\n"
   ]
  },
  {
   "cell_type": "markdown",
   "id": "91200001-18eb-40e2-b5fe-d9c4c79e8447",
   "metadata": {},
   "source": [
    "46. Count the number of syllables in a string"
   ]
  },
  {
   "cell_type": "code",
   "execution_count": 189,
   "id": "89067216-3858-47b3-afb0-5b645ad4a836",
   "metadata": {},
   "outputs": [
    {
     "name": "stdout",
     "output_type": "stream",
     "text": [
      "The word elephant has  3 syllables.\n"
     ]
    }
   ],
   "source": [
    "s = \"elephant\"\n",
    "s.split()\n",
    "c = 0\n",
    "for i in s:\n",
    "    if i in \"aeiouy\":\n",
    "        c += 1\n",
    "print('The word',s,\"has \",c, 'syllables.')\n",
    "\n"
   ]
  },
  {
   "cell_type": "markdown",
   "id": "448d40a0-a3d0-4f52-8eaa-78d2c7f6908a",
   "metadata": {},
   "source": [
    "47. Check if a string contains any special characters."
   ]
  },
  {
   "cell_type": "code",
   "execution_count": 182,
   "id": "9ab3e3d7-8a6a-4680-ac9d-ed39fc58278a",
   "metadata": {},
   "outputs": [
    {
     "name": "stdout",
     "output_type": "stream",
     "text": [
      "string contains any special characters.\n"
     ]
    }
   ],
   "source": [
    "s = \"Hello, World!\"\n",
    "s.split()\n",
    "pattern = r'[!@#$%^&*()_+{}\\[\\]:;\"\\'<>,.?/\\\\|]'\n",
    "c = 0\n",
    "for i in range(len(s)):\n",
    "    # checking if any special character is present in given string or not\n",
    "    if s[i] in pattern:\n",
    "        c += 1  # if special character found then add 1 to the c\n",
    "        \n",
    "if c:\n",
    "    print(\"string contains any special characters.\")\n",
    "else:\n",
    "    print(\"string accepted\")"
   ]
  },
  {
   "cell_type": "markdown",
   "id": "9b260574-5f7c-45d7-91c2-b1f0f010e4a7",
   "metadata": {},
   "source": [
    "48. Remove the nth word from a string."
   ]
  },
  {
   "cell_type": "code",
   "execution_count": 196,
   "id": "0861cedc-e81a-4ce7-88a2-60436206ee97",
   "metadata": {},
   "outputs": [
    {
     "name": "stdin",
     "output_type": "stream",
     "text": [
      "n:  1\n"
     ]
    },
    {
     "name": "stdout",
     "output_type": "stream",
     "text": [
      "Original string:  my name is krishna\n",
      "String after removing the nth word:  name is krishna\n"
     ]
    }
   ],
   "source": [
    "s1 = \"my name is krishna\"\n",
    "n = int(input(\"n: \"))\n",
    "s = s1.split()\n",
    "\n",
    "if n >= 1 and n <= len(s):\n",
    "    s.pop(n - 1)\n",
    "    result = \" \".join(s)\n",
    "    print(\"Original string: \", s1)\n",
    "    print(\"String after removing the nth word: \", result)\n",
    "else:\n",
    "    print(\"Invalid value of n. Please enter a valid position within the range.\")\n"
   ]
  },
  {
   "cell_type": "markdown",
   "id": "857e105e-b831-407c-9f84-906c799bc9c3",
   "metadata": {},
   "source": [
    "49. Insert a word at the nth position in a string."
   ]
  },
  {
   "cell_type": "code",
   "execution_count": 198,
   "id": "2ac96550-e281-4543-ac7d-641efe5b761f",
   "metadata": {},
   "outputs": [
    {
     "name": "stdin",
     "output_type": "stream",
     "text": [
      "Insert a word at the nth position : hiii,\n",
      "n:  1\n"
     ]
    },
    {
     "name": "stdout",
     "output_type": "stream",
     "text": [
      "Original string:  my name is krishna\n",
      "Insert a word at the nth position in a string.:  hiii, my name is krishna\n"
     ]
    }
   ],
   "source": [
    "s1 = \"my name is krishna\"\n",
    "w = input(\"Insert a word at the nth position :\")\n",
    "n = int(input(\"n: \"))\n",
    "s = s1.split()\n",
    "\n",
    "if n >= 1 and n <= len(s):\n",
    "    s.insert(n - 1,w)\n",
    "    result = \" \".join(s)\n",
    "    print(\"Original string: \", s1)\n",
    "    print(\"Insert a word at the nth position in a string.: \", result)\n",
    "else:\n",
    "    print(\"Invalid value of n. Please enter a valid position within the range.\")\n"
   ]
  },
  {
   "cell_type": "markdown",
   "id": "c968ded2-ca02-4d70-8955-f17d56211a62",
   "metadata": {},
   "source": [
    "50. Convert a CSV string to a list of lists.\n"
   ]
  },
  {
   "cell_type": "code",
   "execution_count": 199,
   "id": "3df7f722-64c6-474c-8fb8-ac7a501aa078",
   "metadata": {},
   "outputs": [
    {
     "name": "stdout",
     "output_type": "stream",
     "text": [
      "['Name', 'Age', 'Location']\n",
      "['Alice', '30', 'New York']\n",
      "['Bob', '25', 'Los Angeles']\n",
      "['Charlie', '35', 'Chicago']\n"
     ]
    }
   ],
   "source": [
    "import csv\n",
    "from io import StringIO\n",
    "\n",
    "def csv_string_to_list(csv_string):\n",
    "    # Use a StringIO object to simulate a file\n",
    "    csv_file = StringIO(csv_string)\n",
    "\n",
    "    # Initialize a CSV reader with a comma as the delimiter\n",
    "    csv_reader = csv.reader(csv_file, delimiter=',')\n",
    "\n",
    "    # Convert the CSV data into a list of lists\n",
    "    data = [row for row in csv_reader]\n",
    "\n",
    "    return data\n",
    "\n",
    "# Example usage:\n",
    "csv_string = \"Name,Age,Location\\nAlice,30,New York\\nBob,25,Los Angeles\\nCharlie,35,Chicago\"\n",
    "csv_list = csv_string_to_list(csv_string)\n",
    "for row in csv_list:\n",
    "    print(row)\n"
   ]
  },
  {
   "cell_type": "markdown",
   "id": "ee04329f-664f-459c-9c17-38dbcbaf1908",
   "metadata": {},
   "source": [
    "List Based Practice Problem :\n",
    "====="
   ]
  },
  {
   "cell_type": "markdown",
   "id": "93b6eef3-a187-49bb-ace1-031070652e78",
   "metadata": {},
   "source": [
    "1. Create a list with integers from 1 to 10"
   ]
  },
  {
   "cell_type": "code",
   "execution_count": 2,
   "id": "1055a7c7-2c7e-4a46-8a2b-45a9ac170e8b",
   "metadata": {},
   "outputs": [
    {
     "data": {
      "text/plain": [
       "[1, 2, 3, 4, 5, 6, 7, 8, 9, 10]"
      ]
     },
     "execution_count": 2,
     "metadata": {},
     "output_type": "execute_result"
    }
   ],
   "source": [
    "l = [1,2,3,4,5,6,7,8,9,10]\n",
    "l"
   ]
  },
  {
   "cell_type": "markdown",
   "id": "0f3ad977-607f-49f5-8fc0-dbb6bddc6764",
   "metadata": {},
   "source": [
    "2. Find the length of a list without using the `len()` function."
   ]
  },
  {
   "cell_type": "code",
   "execution_count": 4,
   "id": "82fc6728-7841-40fd-a210-972bdfaff788",
   "metadata": {},
   "outputs": [
    {
     "name": "stdout",
     "output_type": "stream",
     "text": [
      "lenth of a list is : 10\n"
     ]
    }
   ],
   "source": [
    "l = [1,2,3,4,5,6,7,8,9,10]\n",
    "c = 0\n",
    "for i in l:\n",
    "    c += 1\n",
    "print(\"lenth of a list is :\",c)"
   ]
  },
  {
   "cell_type": "markdown",
   "id": "a27d3e3a-add0-4798-ad38-60faf8e6f197",
   "metadata": {},
   "source": [
    "3. Append an element to the end of a list."
   ]
  },
  {
   "cell_type": "code",
   "execution_count": 9,
   "id": "9c9827de-71b9-461a-beac-d5137fc0df96",
   "metadata": {},
   "outputs": [
    {
     "data": {
      "text/plain": [
       "[1, 2, 3, 4, 5, 6, 7, 8, 9, 10, 'krishna']"
      ]
     },
     "execution_count": 9,
     "metadata": {},
     "output_type": "execute_result"
    }
   ],
   "source": [
    "l = [1,2,3,4,5,6,7,8,9,10]\n",
    "l.append(\"krishna\")\n",
    "l"
   ]
  },
  {
   "cell_type": "markdown",
   "id": "e516d37b-55b1-41a9-8d1d-9fc9debc73bd",
   "metadata": {},
   "source": [
    "4. Insert an element at a specific index in a list."
   ]
  },
  {
   "cell_type": "code",
   "execution_count": 11,
   "id": "27b50399-70a1-4218-9809-8a2ecc3bf0b4",
   "metadata": {},
   "outputs": [
    {
     "data": {
      "text/plain": [
       "[1, 'pwskills', 2, 3, 4, 5, 6, 7, 8, 9, 10, 'krishna']"
      ]
     },
     "execution_count": 11,
     "metadata": {},
     "output_type": "execute_result"
    }
   ],
   "source": [
    "## inser an element at a specific index use : insert(index,element) funtion\n",
    "l = [1, 2, 3, 4, 5, 6, 7, 8, 9, 10, 'krishna']\n",
    "l.insert(1 , \"pwskills\")\n",
    "l"
   ]
  },
  {
   "cell_type": "markdown",
   "id": "cd50c377-a4f2-416f-b7c4-2576be013007",
   "metadata": {},
   "source": [
    "5. Remove an element from a list by its value.\n"
   ]
  },
  {
   "cell_type": "code",
   "execution_count": 12,
   "id": "7332cd8d-80b4-4bf0-86d5-5fe6b4f7afdd",
   "metadata": {},
   "outputs": [
    {
     "data": {
      "text/plain": [
       "['pwskills', 2, 3, 4, 5, 6, 7, 8, 9, 10, 'krishna']"
      ]
     },
     "execution_count": 12,
     "metadata": {},
     "output_type": "execute_result"
    }
   ],
   "source": [
    "## remove an element from a list by its value use : remove(value) funtion\n",
    "l = [1, 'pwskills', 2, 3, 4, 5, 6, 7, 8, 9, 10, 'krishna']\n",
    "l.remove(1)\n",
    "l"
   ]
  },
  {
   "cell_type": "markdown",
   "id": "b4078eb7-2889-4599-bf66-b30c29280022",
   "metadata": {},
   "source": [
    "6. Remove an element from a list by its index"
   ]
  },
  {
   "cell_type": "code",
   "execution_count": 16,
   "id": "7b2e8046-a592-4b71-8c8a-d7a1ca5908dd",
   "metadata": {},
   "outputs": [
    {
     "data": {
      "text/plain": [
       "[True, 'Hello', 3, 4, 5, 6, 7, 8, 9, 10, 'krishna']"
      ]
     },
     "execution_count": 16,
     "metadata": {},
     "output_type": "execute_result"
    }
   ],
   "source": [
    "## remove an element from a list by its inedex use : pop(index) method\n",
    "l = ['pwskills', True, \"Hello\" , 3, 4, 5, 6, 7, 8, 9, 10, 'krishna']\n",
    "l.pop(0)\n",
    "l"
   ]
  },
  {
   "cell_type": "markdown",
   "id": "1719aa71-443b-4a07-84fa-46b04a1b9227",
   "metadata": {},
   "source": [
    "7. Check if an element exists in a list."
   ]
  },
  {
   "cell_type": "code",
   "execution_count": 17,
   "id": "bfa09dd0-8480-4c99-b19d-c01e018220a7",
   "metadata": {},
   "outputs": [
    {
     "name": "stdout",
     "output_type": "stream",
     "text": [
      "Yes ,  3 exists in the list.\n"
     ]
    }
   ],
   "source": [
    "## Check if an element exists in a list. use : if in\n",
    "l = ['pwskills', True, \"Hello\" , 3, 4, 5, 6, 7, 8, 9, 10, 'krishna']\n",
    "element = 3\n",
    "if element in l:\n",
    "    print(\"Yes , \",element,\"exists in the list.\")\n",
    "else:\n",
    "    print(\"No , does not exist in the list.\")"
   ]
  },
  {
   "cell_type": "markdown",
   "id": "2d72732a-c30a-423f-888a-67df52e8955a",
   "metadata": {},
   "source": [
    "8. Find the index of the first occurrence of an element in a list"
   ]
  },
  {
   "cell_type": "code",
   "execution_count": 21,
   "id": "0fccf3c4-25f8-4177-9e8c-5624f5bfcde4",
   "metadata": {},
   "outputs": [
    {
     "data": {
      "text/plain": [
       "0"
      ]
     },
     "execution_count": 21,
     "metadata": {},
     "output_type": "execute_result"
    }
   ],
   "source": [
    "## Find the index of the first occurrence of an element in a list use : index() funtion\n",
    "l = ['pwskills', True, \"Hello\" , 3, 4, 5, 6, 7, 8, 9, 10, 'krishna']\n",
    "l.index('pwskills')\n"
   ]
  },
  {
   "cell_type": "markdown",
   "id": "99c97e12-2464-4d15-8338-1dea3ccf4609",
   "metadata": {},
   "source": [
    "9. Count the occurrences of an element in a list."
   ]
  },
  {
   "cell_type": "code",
   "execution_count": 24,
   "id": "4ee64ea3-f70b-4d60-ac6c-5e129fb60b7b",
   "metadata": {},
   "outputs": [
    {
     "name": "stdout",
     "output_type": "stream",
     "text": [
      "pwskills : 1\n",
      "True : 1\n",
      "Hello : 1\n",
      "3 : 2\n",
      "4 : 2\n",
      "5 : 1\n",
      "6 : 1\n",
      "7 : 1\n",
      "8 : 1\n",
      "3 : 2\n",
      "4 : 2\n",
      "krishna : 2\n",
      "9 : 1\n",
      "10 : 1\n",
      "krishna : 2\n"
     ]
    }
   ],
   "source": [
    "l = ['pwskills', True, \"Hello\" , 3, 4, 5, 6, 7, 8, 3,4,\"krishna\", 9, 10, 'krishna']\n",
    "for i in l:\n",
    "    c = l.count(i)\n",
    "    print(i,\":\",c)"
   ]
  },
  {
   "cell_type": "markdown",
   "id": "0fd9e340-afae-4dfc-be99-24b6034d58ac",
   "metadata": {},
   "source": [
    "10. Reverse the order of elements in a list."
   ]
  },
  {
   "cell_type": "code",
   "execution_count": 28,
   "id": "be0a9c43-3acf-40fa-8479-3b4938f8a79a",
   "metadata": {},
   "outputs": [
    {
     "data": {
      "text/plain": [
       "['krishna', 10, 9, 'krishna', 6, 5, 4, 3, 'Hello', True, 'pwskills']"
      ]
     },
     "execution_count": 28,
     "metadata": {},
     "output_type": "execute_result"
    }
   ],
   "source": [
    "## Reverse the order of elements in a list.use reverse() funtion and [::-1]\n",
    "l = ['pwskills', True, \"Hello\" , 3, 4, 5, 6,\"krishna\", 9, 10, 'krishna']\n",
    "l.reverse()\n",
    "l"
   ]
  },
  {
   "cell_type": "markdown",
   "id": "3a3814da-2da3-459b-b0b8-74f6171b833b",
   "metadata": {},
   "source": [
    "11. Sort a list in ascending order"
   ]
  },
  {
   "cell_type": "code",
   "execution_count": 33,
   "id": "83812ae1-a3b7-46b8-b3ab-08b811e7a72e",
   "metadata": {},
   "outputs": [
    {
     "data": {
      "text/plain": [
       "[1, 2, 4, 5, 8, 9, 33, 66, 77]"
      ]
     },
     "execution_count": 33,
     "metadata": {},
     "output_type": "execute_result"
    }
   ],
   "source": [
    "## sort a list in ascending order use short() method\n",
    "l = [66,5,77,8,9,1,33,4,2,]\n",
    "l.sort()\n",
    "l"
   ]
  },
  {
   "cell_type": "markdown",
   "id": "211c8e74-deb8-42a7-bb56-88db4f847157",
   "metadata": {},
   "source": [
    "12. Sort a list in descending order.\n"
   ]
  },
  {
   "cell_type": "code",
   "execution_count": 34,
   "id": "f23865f1-7282-46ef-bb82-23bc44732ff9",
   "metadata": {},
   "outputs": [
    {
     "data": {
      "text/plain": [
       "[77, 66, 33, 9, 8, 5, 4, 2, 1]"
      ]
     },
     "execution_count": 34,
     "metadata": {},
     "output_type": "execute_result"
    }
   ],
   "source": [
    "## Sort a list in descending order. use sort(reverse = True) funtion\n",
    "l = [66,5,77,8,9,1,33,4,2,]\n",
    "l.sort(reverse = True)\n",
    "l"
   ]
  },
  {
   "cell_type": "markdown",
   "id": "93ff3f36-79fb-4d0d-b72b-2fb1b9518864",
   "metadata": {},
   "source": [
    "13. Create a list of even numbers from 1 to 20"
   ]
  },
  {
   "cell_type": "code",
   "execution_count": 38,
   "id": "e7c84494-a7a2-43d5-b401-43a93c62a5f2",
   "metadata": {},
   "outputs": [
    {
     "data": {
      "text/plain": [
       "[2, 4, 6, 8, 10, 12, 14, 16, 18, 20]"
      ]
     },
     "execution_count": 38,
     "metadata": {},
     "output_type": "execute_result"
    }
   ],
   "source": [
    "list = []\n",
    "for i in range(1,21):\n",
    "    if i % 2 == 0:     ## if event condition\n",
    "        list.append(i)\n",
    "list"
   ]
  },
  {
   "cell_type": "markdown",
   "id": "d06e51b0-8b60-4c49-b6dc-08f188106b46",
   "metadata": {},
   "source": [
    "14. Create a list of odd numbers from 1 to 20."
   ]
  },
  {
   "cell_type": "code",
   "execution_count": 41,
   "id": "010ef2af-ef03-4db8-bfe5-b9f85252a03c",
   "metadata": {},
   "outputs": [
    {
     "data": {
      "text/plain": [
       "[1, 3, 5, 7, 9, 11, 13, 15, 17, 19]"
      ]
     },
     "execution_count": 41,
     "metadata": {},
     "output_type": "execute_result"
    }
   ],
   "source": [
    "list = []\n",
    "for i in range(1,21):\n",
    "    if i % 2 != 0:   ## if odd condition\n",
    "        list.append(i)\n",
    "list        "
   ]
  },
  {
   "cell_type": "markdown",
   "id": "cfa35dad-31c4-4e75-9d3e-610ac5f18b2d",
   "metadata": {},
   "source": [
    "15. Find the sum of all elements in a list"
   ]
  },
  {
   "cell_type": "code",
   "execution_count": 42,
   "id": "07890ce8-05d4-4b48-bb3e-7f9a9dbdc09f",
   "metadata": {},
   "outputs": [
    {
     "name": "stdout",
     "output_type": "stream",
     "text": [
      "sum of all elements =  15\n"
     ]
    }
   ],
   "source": [
    "list = [1,2,3,4,5]\n",
    "sum = 0\n",
    "for i in list:\n",
    "    if i > 0:\n",
    "        sum += i\n",
    "print(\"sum of all elements = \",sum)"
   ]
  },
  {
   "cell_type": "markdown",
   "id": "b65f5d29-8220-430a-8726-dc7d10a47f31",
   "metadata": {},
   "source": [
    "16. Find the maximum value in a list.\n"
   ]
  },
  {
   "cell_type": "code",
   "execution_count": 45,
   "id": "25c19b5a-849c-44c6-9910-997077939195",
   "metadata": {},
   "outputs": [
    {
     "data": {
      "text/plain": [
       "77"
      ]
     },
     "execution_count": 45,
     "metadata": {},
     "output_type": "execute_result"
    }
   ],
   "source": [
    "## Find the maximum value in a list. use:  max(list) funtion \n",
    "l = [13,4,5,6,7,8,9,66,77]\n",
    "l = max(l)\n",
    "l"
   ]
  },
  {
   "cell_type": "markdown",
   "id": "3a3f2210-7772-4e6e-b5e4-ce0f6f25acb8",
   "metadata": {},
   "source": [
    "17. Find the minimum value in a list."
   ]
  },
  {
   "cell_type": "code",
   "execution_count": 47,
   "id": "9fcf093e-c2bb-4e03-adb6-3448aedb98e7",
   "metadata": {},
   "outputs": [
    {
     "data": {
      "text/plain": [
       "4"
      ]
     },
     "execution_count": 47,
     "metadata": {},
     "output_type": "execute_result"
    }
   ],
   "source": [
    "## Find the minimum value in a list. use : min(list) funtion\n",
    "l = [13,4,5,6,7,8,9,66,77]\n",
    "l = min(l)\n",
    "l"
   ]
  },
  {
   "cell_type": "markdown",
   "id": "1add281d-157e-42a1-966e-84e78db19c38",
   "metadata": {},
   "source": [
    "18. Create a list of squares of numbers from 1 to 10."
   ]
  },
  {
   "cell_type": "code",
   "execution_count": 50,
   "id": "22a1432a-d6b9-41f8-938b-e38f2c2ffe2e",
   "metadata": {},
   "outputs": [
    {
     "data": {
      "text/plain": [
       "[1, 4, 9, 16, 25, 36, 49, 64, 81, 100]"
      ]
     },
     "execution_count": 50,
     "metadata": {},
     "output_type": "execute_result"
    }
   ],
   "source": [
    "list = []\n",
    "for i in range(1,11):\n",
    "    list.append(i**2)\n",
    "list"
   ]
  },
  {
   "cell_type": "markdown",
   "id": "713b42d3-27f6-4aed-a2ac-2a2078d758e1",
   "metadata": {},
   "source": [
    "19. Create a list of random numbers."
   ]
  },
  {
   "cell_type": "code",
   "execution_count": 53,
   "id": "22aa0ef6-c89b-4b92-8bde-74737da52397",
   "metadata": {},
   "outputs": [
    {
     "name": "stdout",
     "output_type": "stream",
     "text": [
      "Random number list is : [2, 3, 4, 5, 9, 1, 6]\n"
     ]
    }
   ],
   "source": [
    "# to generate random number list\n",
    "# using random.sample()\n",
    "import random\n",
    " \n",
    "# using random.sample()\n",
    "# to generate random number list\n",
    "res = random.sample(range(1, 10), 7)\n",
    " \n",
    "# printing result\n",
    "print (\"Random number list is : \" +  str(res))\n"
   ]
  },
  {
   "cell_type": "markdown",
   "id": "5237f18f-0e78-42f3-969e-16e9a87ebf9f",
   "metadata": {},
   "source": [
    "20. Remove duplicates from a list.\n"
   ]
  },
  {
   "cell_type": "code",
   "execution_count": 72,
   "id": "aeb6fdad-1e83-42a2-8fd0-e330f6cf8f57",
   "metadata": {},
   "outputs": [
    {
     "data": {
      "text/plain": [
       "[1, 2, 3, 4, 5, 6]"
      ]
     },
     "execution_count": 72,
     "metadata": {},
     "output_type": "execute_result"
    }
   ],
   "source": [
    "l = [1,1,1,1,2,2,2,3,4,5,6,6]\n",
    "l = set(l)\n",
    "l1 = []\n",
    "for i in l:\n",
    "    l1.append(i)\n",
    "l1"
   ]
  },
  {
   "cell_type": "markdown",
   "id": "e8272046-16f4-412d-bee3-c9db4e193a38",
   "metadata": {},
   "source": [
    "21. Find the common elements between two lists."
   ]
  },
  {
   "cell_type": "code",
   "execution_count": 76,
   "id": "3c72bad3-7332-4e06-8bea-a1cecf9012f6",
   "metadata": {},
   "outputs": [
    {
     "data": {
      "text/plain": [
       "[3, 4, 5]"
      ]
     },
     "execution_count": 76,
     "metadata": {},
     "output_type": "execute_result"
    }
   ],
   "source": [
    "list1 = [1, 2, 3, 4, 5]\n",
    "list2 = [3, 4, 5, 6, 7]\n",
    "\n",
    "# Using sets to find common elements\n",
    "common_elements = set(list1) & set(list2)\n",
    "\n",
    "l1 = []\n",
    "for i in common_elements:\n",
    "    l1.append(i)\n",
    "l1"
   ]
  },
  {
   "cell_type": "markdown",
   "id": "21cc59ab-8cec-49bb-933e-588312c3cc03",
   "metadata": {},
   "source": [
    "22. Find the difference between two lists.\n"
   ]
  },
  {
   "cell_type": "code",
   "execution_count": 8,
   "id": "d9ab706b-d112-411f-8882-1d50835b24be",
   "metadata": {},
   "outputs": [
    {
     "data": {
      "text/plain": [
       "['pwskills', 5, 'krishna']"
      ]
     },
     "execution_count": 8,
     "metadata": {},
     "output_type": "execute_result"
    }
   ],
   "source": [
    "l1 = [1 , 2, 3 ,\"krishna\" , True]\n",
    "l2 = [ 3 , 1 , True , \"pwskills\" ,2 ,5]\n",
    "l3 = set(l1) ^ set(l2)\n",
    "list(l3)"
   ]
  },
  {
   "cell_type": "markdown",
   "id": "73fd064c-2a9d-4e11-845c-65b648a2ab7c",
   "metadata": {},
   "source": [
    "23. Merge two lists"
   ]
  },
  {
   "cell_type": "code",
   "execution_count": 15,
   "id": "9eb05f24-997f-42dc-aaf1-24c23f8c118f",
   "metadata": {},
   "outputs": [
    {
     "data": {
      "text/plain": [
       "[1, 2, 3, 'krishna', True, 3, 1, True, 'pwskills', 2, 5]"
      ]
     },
     "execution_count": 15,
     "metadata": {},
     "output_type": "execute_result"
    }
   ],
   "source": [
    "l1 = [1 , 2, 3 ,\"krishna\" , True]\n",
    "l2 = [ 3 , 1 , True , \"pwskills\" ,2 ,5]\n",
    "l1 + l2"
   ]
  },
  {
   "cell_type": "markdown",
   "id": "29b6ba51-736e-450b-be0c-5db3eb3b9c14",
   "metadata": {},
   "source": [
    "24. Multiply all elements in a list by 2."
   ]
  },
  {
   "cell_type": "code",
   "execution_count": 16,
   "id": "f7036cc0-f23a-4bd2-88ce-a9a65f73f763",
   "metadata": {},
   "outputs": [
    {
     "data": {
      "text/plain": [
       "[2, 4, 6, 8, 10, 12]"
      ]
     },
     "execution_count": 16,
     "metadata": {},
     "output_type": "execute_result"
    }
   ],
   "source": [
    "l =[1,2,3,4,5,6]\n",
    "l1 = []\n",
    "\n",
    "for i in l:\n",
    "    l1.append(i*2)\n",
    "l1"
   ]
  },
  {
   "cell_type": "markdown",
   "id": "b1b82432-54db-48cb-aee8-9a06d84fc435",
   "metadata": {},
   "source": [
    "25. Filter out all even numbers from a list"
   ]
  },
  {
   "cell_type": "code",
   "execution_count": 21,
   "id": "b79b276b-42a8-407d-a91f-64a4516c00eb",
   "metadata": {},
   "outputs": [
    {
     "data": {
      "text/plain": [
       "[2, 4, 6, 8, 10]"
      ]
     },
     "execution_count": 21,
     "metadata": {},
     "output_type": "execute_result"
    }
   ],
   "source": [
    "l = [1 ,2 ,3 ,4, 5, 6, 7,8,9 ,10]\n",
    "l1 = []\n",
    "\n",
    "for i in l:\n",
    "    if i % 2 == 0:\n",
    "        l1.append(i)\n",
    "l1"
   ]
  },
  {
   "cell_type": "markdown",
   "id": "3d214e74-3894-4bce-b693-d278ee7b6a0e",
   "metadata": {},
   "source": [
    "26. Convert a list of strings to a list of integers."
   ]
  },
  {
   "cell_type": "code",
   "execution_count": 22,
   "id": "6e216762-57f3-4269-940f-07969a24cec4",
   "metadata": {},
   "outputs": [
    {
     "data": {
      "text/plain": [
       "[1, 2, 3, 4]"
      ]
     },
     "execution_count": 22,
     "metadata": {},
     "output_type": "execute_result"
    }
   ],
   "source": [
    "l = [\"1\" , \"2\" ,\"3\" ,\"4\"]\n",
    "l1 = []\n",
    "for i in l:\n",
    "        l1.append(int(i))\n",
    "l1"
   ]
  },
  {
   "cell_type": "markdown",
   "id": "33eef00d-32a4-49fa-b9a5-a568d96f9d52",
   "metadata": {},
   "source": [
    "27. Convert a list of integers to a list of strings."
   ]
  },
  {
   "cell_type": "code",
   "execution_count": 23,
   "id": "9117a09b-904d-4816-a6bf-8f315087f2a0",
   "metadata": {},
   "outputs": [
    {
     "data": {
      "text/plain": [
       "['1', '2', '3', '4', '5', '6', '7', '8', '9', '10']"
      ]
     },
     "execution_count": 23,
     "metadata": {},
     "output_type": "execute_result"
    }
   ],
   "source": [
    "l = [1 ,2 ,3 ,4, 5, 6, 7,8,9 ,10]\n",
    "l1 = []\n",
    "\n",
    "for i in l:\n",
    "        l1.append(str(i))\n",
    "l1"
   ]
  },
  {
   "cell_type": "markdown",
   "id": "612cd527-1d4d-4a90-be00-473ce11302c7",
   "metadata": {},
   "source": [
    "28. Flatten a nested list.\n"
   ]
  },
  {
   "cell_type": "code",
   "execution_count": 27,
   "id": "336f97d6-be5b-446d-ae8b-72f23d6b87b0",
   "metadata": {},
   "outputs": [
    {
     "data": {
      "text/plain": [
       "[1, 2, 3, 4, 5, 6, 7, 8]"
      ]
     },
     "execution_count": 27,
     "metadata": {},
     "output_type": "execute_result"
    }
   ],
   "source": [
    "l = [[1, 2, 3], [4, 5], [6, 7, 8]]\n",
    "l1 = []\n",
    "\n",
    "for i in l:\n",
    "    l1.extend(i) ## using extend() funtion nested list to flatten\n",
    "l1"
   ]
  },
  {
   "cell_type": "markdown",
   "id": "16e1d0f3-f582-4c70-99ee-fdc1802ce2bd",
   "metadata": {},
   "source": [
    "29. Create a list of the first 10 Fibonacci numbers.\n"
   ]
  },
  {
   "cell_type": "code",
   "execution_count": 30,
   "id": "599b35d7-4c05-4724-a959-60e58baf429f",
   "metadata": {},
   "outputs": [
    {
     "name": "stdout",
     "output_type": "stream",
     "text": [
      "[0, 1, 1, 2, 3, 5, 8, 13, 21, 34]\n"
     ]
    }
   ],
   "source": [
    "# Initialize the first two Fibonacci numbers\n",
    "fibonacci_numbers = [0, 1]\n",
    "\n",
    "# Generate the first 10 Fibonacci numbers\n",
    "for i in range(2, 10):\n",
    "    next_fibonacci = fibonacci_numbers[i-1] + fibonacci_numbers[i-2]\n",
    "    fibonacci_numbers.append(next_fibonacci)\n",
    "\n",
    "print(fibonacci_numbers)\n",
    "   "
   ]
  },
  {
   "cell_type": "markdown",
   "id": "e9dfb792-7179-490d-907c-b0b035aa0135",
   "metadata": {},
   "source": [
    "30. Check if a list is sorted"
   ]
  },
  {
   "cell_type": "code",
   "execution_count": 58,
   "id": "929e1171-b5a4-435d-8d44-ccd06982674a",
   "metadata": {},
   "outputs": [
    {
     "name": "stdout",
     "output_type": "stream",
     "text": [
      "No, the list is not sorted.\n"
     ]
    }
   ],
   "source": [
    "l = [5, 6, 7, 8, 1, 2]\n",
    "\n",
    "c = 0\n",
    "for i in range(0, len(l) - 1):\n",
    "    if l[i] > l[i + 1]:\n",
    "        c = 1\n",
    "        break\n",
    "    else:\n",
    "        c = 0\n",
    "\n",
    "if c == 1:\n",
    "    print(\"No, the list is not sorted.\")\n",
    "else:\n",
    "    print(\"Yes, the list is sorted.\")\n"
   ]
  },
  {
   "cell_type": "markdown",
   "id": "b62d2914-f06f-435b-bf94-d0f1bd7f43b4",
   "metadata": {},
   "source": [
    "31. Rotate a list to the left by `n` positions."
   ]
  },
  {
   "cell_type": "code",
   "execution_count": 5,
   "id": "859e7539-8a45-4a1f-af53-6ed2c11291c4",
   "metadata": {},
   "outputs": [
    {
     "name": "stdin",
     "output_type": "stream",
     "text": [
      "enter n position:  3\n"
     ]
    },
    {
     "data": {
      "text/plain": [
       "[4, 5, 6, 7, 'krishan', 1, 2, 3]"
      ]
     },
     "execution_count": 5,
     "metadata": {},
     "output_type": "execute_result"
    }
   ],
   "source": [
    "l = [1,2,3,4,5,6,7,\"krishan\"]\n",
    "n = int(input(\"enter n position: \"))\n",
    "l = l[n:] + l[:n]\n",
    "l"
   ]
  },
  {
   "cell_type": "markdown",
   "id": "88eb6841-624a-42c4-8338-8a9789b1b363",
   "metadata": {},
   "source": [
    "32. Rotate a list to the right by `n` positions"
   ]
  },
  {
   "cell_type": "code",
   "execution_count": 7,
   "id": "adbd173f-f8cc-430a-81be-9812abfa1df7",
   "metadata": {},
   "outputs": [
    {
     "name": "stdin",
     "output_type": "stream",
     "text": [
      "enter n position:  -3\n"
     ]
    },
    {
     "data": {
      "text/plain": [
       "[1, 2, 3, 4, 5, 6, 7, 'krishan']"
      ]
     },
     "execution_count": 7,
     "metadata": {},
     "output_type": "execute_result"
    }
   ],
   "source": [
    "l = [4, 5, 6, 7, 'krishan', 1, 2, 3]\n",
    "n = int(input(\"enter n position: \"))\n",
    "l = l[n:] + l[:n]\n",
    "l"
   ]
  },
  {
   "cell_type": "markdown",
   "id": "d52f1ce7-e319-49eb-ba3e-72ab298d6f6c",
   "metadata": {},
   "source": [
    "33. Create a list of prime numbers up to 50."
   ]
  },
  {
   "cell_type": "code",
   "execution_count": 5,
   "id": "4c83554c-5ea8-4ec6-84a7-9597248392c0",
   "metadata": {},
   "outputs": [
    {
     "name": "stdout",
     "output_type": "stream",
     "text": [
      "5 25\n",
      "5 29\n",
      "5 31\n",
      "5 35\n",
      "5 37\n",
      "5 41\n",
      "5 43\n",
      "5 47\n",
      "5 49\n",
      "List of prime numbers up to 50: [2, 3, 5, 7, 11, 13, 17, 19, 23, 29, 31, 37, 41, 43, 47]\n"
     ]
    }
   ],
   "source": [
    "# Function to check if a number is prime\n",
    "def is_prime(num):\n",
    "    if num <= 1:\n",
    "        return False\n",
    "    if num <= 3:\n",
    "        return True\n",
    "    if num % 2 == 0 or num % 3 == 0:\n",
    "        return False\n",
    "    i = 5\n",
    "    while i * i <= num:\n",
    "      print(i,num)\n",
    "      if num % i == 0 or num % (i + 2) == 0:\n",
    "          return False\n",
    "      i += 6\n",
    "    return True\n",
    "\n",
    "# Create a list of prime numbers up to 50\n",
    "prime_numbers = [num for num in range(2,50) if is_prime(num)]\n",
    "\n",
    "# Print the list of prime numbers\n",
    "print(\"List of prime numbers up to 50:\", prime_numbers)"
   ]
  },
  {
   "cell_type": "markdown",
   "id": "c0293433-11d5-4158-96c1-96bc697b6856",
   "metadata": {},
   "source": [
    "34. Split a list into chunks of size `n`.\n"
   ]
  },
  {
   "cell_type": "code",
   "execution_count": 15,
   "id": "59bee55d-fdd7-40e5-8155-eacf77f1c53e",
   "metadata": {},
   "outputs": [
    {
     "name": "stdout",
     "output_type": "stream",
     "text": [
      "[[1, 2, 3, 4], [5, 6, 7, 8], [9]]\n"
     ]
    }
   ],
   "source": [
    "l = [1, 2, 3, 4, 5, 6, 7, 8, 9] \n",
    "\n",
    "# How many elements each \n",
    "# list should have \n",
    "n = 4\n",
    "\n",
    "# using list comprehension \n",
    "x = [l[i:i + n] for i in range(0, len(l), n)] \n",
    "print(x) \n"
   ]
  },
  {
   "cell_type": "markdown",
   "id": "e0445e73-c89b-40ba-a54b-1266a9c8869a",
   "metadata": {},
   "source": [
    "35. Find the second largest number in a list."
   ]
  },
  {
   "cell_type": "code",
   "execution_count": 32,
   "id": "9b4adb23-466d-47a1-9744-c0d431e4d24e",
   "metadata": {},
   "outputs": [
    {
     "data": {
      "text/plain": [
       "9"
      ]
     },
     "execution_count": 32,
     "metadata": {},
     "output_type": "execute_result"
    }
   ],
   "source": [
    "l = [4,5,6,7,8,9,10]\n",
    "l1 = sorted(l)\n",
    "l1[-2]"
   ]
  },
  {
   "cell_type": "markdown",
   "id": "98a9d783-f767-454d-a6cc-65cab616b1e8",
   "metadata": {},
   "source": [
    "36. Replace every element in a list with its square.\n"
   ]
  },
  {
   "cell_type": "code",
   "execution_count": 34,
   "id": "903664b6-9672-48c2-8aa3-391aa31c6bcb",
   "metadata": {},
   "outputs": [
    {
     "data": {
      "text/plain": [
       "[1, 4, 9, 16, 25, 36, 49, 64, 81]"
      ]
     },
     "execution_count": 34,
     "metadata": {},
     "output_type": "execute_result"
    }
   ],
   "source": [
    "l = [1,2,3,4,5,6,7,8,9]\n",
    "l1 = []\n",
    "\n",
    "for i in l:\n",
    "    l1.append(i**2)\n",
    "l1"
   ]
  },
  {
   "cell_type": "markdown",
   "id": "90c018fc-8fb1-44b0-a4fa-9addf8131d3d",
   "metadata": {},
   "source": [
    "37. Convert a list to a dictionary where list elements become keys and their\n",
    "indices become values.\n"
   ]
  },
  {
   "cell_type": "code",
   "execution_count": 36,
   "id": "6fc01b55-b461-4731-9450-a6678b80c863",
   "metadata": {},
   "outputs": [
    {
     "name": "stdout",
     "output_type": "stream",
     "text": [
      "Converted dictionary: {'apple': 0, 'banana': 1, 'cherry': 2, 'date': 3, 'elderberry': 4}\n"
     ]
    }
   ],
   "source": [
    "# Example list\n",
    "my_list = ['apple', 'banana', 'cherry', 'date', 'elderberry']\n",
    "\n",
    "# Convert list to dictionary using dictionary comprehension\n",
    "my_dict = {element: index for index, element in enumerate(my_list)}\n",
    "\n",
    "# Print the resulting dictionary\n",
    "print(\"Converted dictionary:\", my_dict)"
   ]
  },
  {
   "cell_type": "markdown",
   "id": "94d746ae-0668-48d4-bcf2-2ed33b972ff6",
   "metadata": {},
   "source": [
    "38. Shuffle the elements of a list randomly.\n"
   ]
  },
  {
   "cell_type": "code",
   "execution_count": 39,
   "id": "0aef56a9-cc2c-497d-a3ce-e649d1bc387f",
   "metadata": {},
   "outputs": [
    {
     "name": "stdout",
     "output_type": "stream",
     "text": [
      "Shuffled list: [3, 8, 2, 6, 9, 4, 1, 7, 10, 5]\n"
     ]
    }
   ],
   "source": [
    "import random\n",
    "\n",
    "# Example list\n",
    "my_list = [1, 2, 3, 4, 5, 6, 7, 8, 9, 10]\n",
    "\n",
    "# Shuffle the list randomly\n",
    "random.shuffle(my_list)\n",
    "\n",
    "# Print the shuffled list\n",
    "print(\"Shuffled list:\", my_list)"
   ]
  },
  {
   "cell_type": "markdown",
   "id": "c3dbba26-229b-4705-afe2-4ec229f01738",
   "metadata": {},
   "source": [
    "39. Create a list of the first 10 factorial numbers"
   ]
  },
  {
   "cell_type": "code",
   "execution_count": 49,
   "id": "48c25d44-46f7-40b5-bab9-10fc6c5db2ec",
   "metadata": {},
   "outputs": [
    {
     "name": "stdout",
     "output_type": "stream",
     "text": [
      "list of 10 factorial number :  [1, 1, 2, 6, 24, 120, 720, 5040, 40320, 362880]\n"
     ]
    }
   ],
   "source": [
    "def facto(n):\n",
    "    if n == 0 or n==1:\n",
    "        return 1\n",
    "    else:\n",
    "        return n * facto(n-1)\n",
    "\n",
    "l = [facto(i) for i in range(10)]\n",
    "print(\"list of 10 factorial number : \", l)"
   ]
  },
  {
   "cell_type": "markdown",
   "id": "8d966961-36dd-44b8-8b69-bb87a4a34488",
   "metadata": {},
   "source": [
    "40. Check if two lists have at least one element in common."
   ]
  },
  {
   "cell_type": "code",
   "execution_count": 52,
   "id": "f36ec2ae-d020-4f2d-834b-7a877dbb6983",
   "metadata": {},
   "outputs": [
    {
     "name": "stdout",
     "output_type": "stream",
     "text": [
      "yes , two lists have at least one element in common.\n"
     ]
    }
   ],
   "source": [
    "def has_common_element(l1 , l2):\n",
    "    for item in l1:\n",
    "        if item in l2:\n",
    "            return True\n",
    "        else:\n",
    "            return False\n",
    "\n",
    "l1 = [1,2,3,4,5,6]\n",
    "l2 = [1,5,6,7,89,9]\n",
    "if has_common_element(l1,l2):\n",
    "    print(\"yes , two lists have at least one element in common.\")\n",
    "else:\n",
    "    print(\"No , two lists have no common.element\")\n"
   ]
  },
  {
   "cell_type": "markdown",
   "id": "902df6df-2556-4265-9628-8888f96bbb42",
   "metadata": {},
   "source": [
    "41. Remove all elements from a list"
   ]
  },
  {
   "cell_type": "code",
   "execution_count": 55,
   "id": "58bed9fa-80cc-497e-ab2f-325dc92dc0a2",
   "metadata": {},
   "outputs": [
    {
     "data": {
      "text/plain": [
       "[]"
      ]
     },
     "execution_count": 55,
     "metadata": {},
     "output_type": "execute_result"
    }
   ],
   "source": [
    "l = [12,4,5,6,7]\n",
    "l.clear()\n",
    "l"
   ]
  },
  {
   "cell_type": "markdown",
   "id": "2da179d3-b56e-4fd7-8d70-82eeb02b5210",
   "metadata": {},
   "source": [
    "42. Replace negative numbers in a list with 0"
   ]
  },
  {
   "cell_type": "code",
   "execution_count": 58,
   "id": "8d5a3033-6abd-4482-a856-ba6ae480bcfb",
   "metadata": {},
   "outputs": [
    {
     "name": "stdout",
     "output_type": "stream",
     "text": [
      "[1, 2, 3, 0, 0, 0, 6]\n"
     ]
    }
   ],
   "source": [
    "my_list = [1,2,3,-2,-4,-6,6]\n",
    "\n",
    "for i in range(len(my_list)):\n",
    "    if my_list[i] < 0:\n",
    "        my_list[i] = 0\n",
    "print(my_list)"
   ]
  },
  {
   "cell_type": "markdown",
   "id": "af0757ae-d9a2-459b-afdf-0c1eaa108ff6",
   "metadata": {},
   "source": [
    "43. Convert a string into a list of words"
   ]
  },
  {
   "cell_type": "code",
   "execution_count": 59,
   "id": "4946d16f-b831-4b53-9736-6f5d9de00279",
   "metadata": {},
   "outputs": [
    {
     "name": "stdout",
     "output_type": "stream",
     "text": [
      "List of words: ['Hello,', 'this', 'is', 'a', 'sample', 'sentence.']\n"
     ]
    }
   ],
   "source": [
    "# Example string\n",
    "my_string = \"Hello, this is a sample sentence.\"\n",
    "\n",
    "# Convert the string into a list of words\n",
    "word_list = my_string.split()\n",
    "\n",
    "# Print the list of words\n",
    "print(\"List of words:\", word_list)"
   ]
  },
  {
   "cell_type": "markdown",
   "id": "bcd48a6a-eb03-48f6-9742-2b3dda1eca9e",
   "metadata": {},
   "source": [
    "44. Convert a list of words into a string."
   ]
  },
  {
   "cell_type": "code",
   "execution_count": 61,
   "id": "4cb8c872-576e-49cd-8229-644b5fcba062",
   "metadata": {},
   "outputs": [
    {
     "data": {
      "text/plain": [
       "'Hello, this is a sample sentence.'"
      ]
     },
     "execution_count": 61,
     "metadata": {},
     "output_type": "execute_result"
    }
   ],
   "source": [
    "l = ['Hello,', 'this', 'is', 'a', 'sample', 'sentence.']\n",
    "l1 = \" \".join(l)\n",
    "l1"
   ]
  },
  {
   "cell_type": "markdown",
   "id": "3527ebca-7741-4122-82eb-8ffb2f4a0f63",
   "metadata": {},
   "source": [
    "45. Create a list of the first `n` powers of 2."
   ]
  },
  {
   "cell_type": "code",
   "execution_count": 63,
   "id": "54b88a8f-1312-4c6d-93ea-3895e4365559",
   "metadata": {},
   "outputs": [
    {
     "name": "stdin",
     "output_type": "stream",
     "text": [
      "enter list element 10\n"
     ]
    },
    {
     "name": "stdout",
     "output_type": "stream",
     "text": [
      "Create a list of the first n powers of 2. [1, 2, 4, 8, 16, 32, 64, 128, 256, 512]\n"
     ]
    }
   ],
   "source": [
    "n = int(input(\"enter list element\"))\n",
    "l = [2**i for i in range(n) ]\n",
    "print(\"Create a list of the first n powers of 2.\" , l)"
   ]
  },
  {
   "cell_type": "markdown",
   "id": "14790da6-6612-4bd8-9611-b7bcf20b20af",
   "metadata": {},
   "source": [
    "46. Find the longest string in a list of strings."
   ]
  },
  {
   "cell_type": "code",
   "execution_count": 64,
   "id": "457fd225-799a-4682-be6b-11204047cbf7",
   "metadata": {},
   "outputs": [
    {
     "name": "stdout",
     "output_type": "stream",
     "text": [
      "longest string in list is : elderberry\n"
     ]
    }
   ],
   "source": [
    "string_list = [\"apple\", \"banana\", \"cherry\", \"date\", \"elderberry\"]\n",
    "\n",
    "log_str = \"\"\n",
    "for s in string_list:\n",
    "    if len(s) > len(log_str):\n",
    "        log_str = s\n",
    "print(\"longest string in list is :\",log_str)"
   ]
  },
  {
   "cell_type": "markdown",
   "id": "66bafc76-5adb-4379-bdeb-9f2adab186f4",
   "metadata": {},
   "source": [
    "47. Find the shortest string in a list of strings.\n"
   ]
  },
  {
   "cell_type": "code",
   "execution_count": 65,
   "id": "62e31079-8e63-454c-b411-1b7feda6205e",
   "metadata": {},
   "outputs": [
    {
     "name": "stdout",
     "output_type": "stream",
     "text": [
      "longest string in list is : date\n"
     ]
    }
   ],
   "source": [
    "string_list = [\"apple\", \"banana\", \"cherry\", \"date\", \"elderberry\"]\n",
    "\n",
    "short_str = string_list[0]\n",
    "for s in string_list:\n",
    "    if len(s) < len(short_str):\n",
    "        short_str = s\n",
    "print(\"longest string in list is :\",short_str)"
   ]
  },
  {
   "cell_type": "markdown",
   "id": "ace5f619-cfa7-45b9-9904-e3918f9c05cf",
   "metadata": {},
   "source": [
    "48. Create a list of the first `n` triangular numbers"
   ]
  },
  {
   "cell_type": "code",
   "execution_count": 66,
   "id": "567ffaf7-0947-4abc-808e-cbf51029025d",
   "metadata": {},
   "outputs": [
    {
     "name": "stdout",
     "output_type": "stream",
     "text": [
      "List of the first 5 triangular numbers: [1, 3, 6, 10, 15]\n"
     ]
    }
   ],
   "source": [
    "# Function to calculate triangular numbers\n",
    "def triangular_numbers(n):\n",
    "    return [i * (i + 1) // 2 for i in range(1, n + 1)]\n",
    "\n",
    "# Specify the value of n\n",
    "n = 5\n",
    "\n",
    "# Create a list of the first n triangular numbers\n",
    "triangular_list = triangular_numbers(n)\n",
    "\n",
    "# Print the list of triangular numbers\n",
    "print(\"List of the first\", n, \"triangular numbers:\", triangular_list)"
   ]
  },
  {
   "cell_type": "markdown",
   "id": "d7dae7ba-5371-43f9-8909-fc679d0c0274",
   "metadata": {},
   "source": [
    "49. Check if a list contains another list as a subsequence."
   ]
  },
  {
   "cell_type": "code",
   "execution_count": 72,
   "id": "5f11309a-b4d6-489d-aa5f-576b07d5c9a2",
   "metadata": {},
   "outputs": [
    {
     "name": "stdout",
     "output_type": "stream",
     "text": [
      "yes , list contains another list as a subsequence.\n"
     ]
    }
   ],
   "source": [
    "def subsequence(main_list,sub_list):\n",
    "    sub_i = 0\n",
    "    for element in main_list:\n",
    "        if element == sub_list[sub_i]:\n",
    "            sub_i += 1\n",
    "            if sub_i == len(sub_list):\n",
    "                return True\n",
    "    return False\n",
    "\n",
    "main_list = [1,2,3,4,5,6,7,8,9,10]\n",
    "sub_list = [2,7,9,10]\n",
    "\n",
    "if subsequence(main_list,sub_list):\n",
    "    print(\"yes , list contains another list as a subsequence.\")\n",
    "else:\n",
    "    print(\"no ,list is not contains another list as a subsequence.\")"
   ]
  },
  {
   "cell_type": "markdown",
   "id": "0cab307d-454e-4ce4-a160-40b14497a442",
   "metadata": {},
   "source": [
    "50. Swap two elements in a list by their indices."
   ]
  },
  {
   "cell_type": "code",
   "execution_count": 74,
   "id": "5336080a-8403-4f37-bf32-ae1fcfbf8ed2",
   "metadata": {},
   "outputs": [
    {
     "name": "stdout",
     "output_type": "stream",
     "text": [
      "[1, 4, 3, 2, 5]\n"
     ]
    }
   ],
   "source": [
    "mylist = [1, 2, 3, 4, 5]\n",
    "i1 = 1\n",
    "i2 = 3\n",
    "temp = mylist[i1]\n",
    "mylist[i1] = mylist[i2]\n",
    "mylist[i2] = temp\n",
    "print(mylist)"
   ]
  },
  {
   "cell_type": "markdown",
   "id": "e21130b5-f53c-435f-b5f2-9fb39df5a309",
   "metadata": {},
   "source": [
    "-----------------------------------"
   ]
  },
  {
   "cell_type": "markdown",
   "id": "f144a689-48a1-4bcd-83b5-a859f031c683",
   "metadata": {},
   "source": [
    "Tuple Based Practice Problem :\n",
    "----------------"
   ]
  },
  {
   "cell_type": "markdown",
   "id": "92e54e62-ff9b-4a9d-ac48-97f31824b2af",
   "metadata": {},
   "source": [
    "-----------------------------------------------------"
   ]
  },
  {
   "cell_type": "markdown",
   "id": "3e6c469c-49d0-4966-aca9-12a6a52ce796",
   "metadata": {},
   "source": [
    "1. Create a tuple with integers from 1 to 5."
   ]
  },
  {
   "cell_type": "code",
   "execution_count": 76,
   "id": "b610f0d8-dda9-4d5f-9e6d-b97d35985f44",
   "metadata": {},
   "outputs": [],
   "source": [
    "tuple = (1,2,3,4,5)"
   ]
  },
  {
   "cell_type": "markdown",
   "id": "445474aa-755a-40bf-8590-f57774b34a81",
   "metadata": {},
   "source": [
    "2. Access the third element of a tuple"
   ]
  },
  {
   "cell_type": "code",
   "execution_count": 78,
   "id": "2af27bf8-1ba2-4361-a82a-d1f3fcf44cf6",
   "metadata": {},
   "outputs": [
    {
     "data": {
      "text/plain": [
       "3"
      ]
     },
     "execution_count": 78,
     "metadata": {},
     "output_type": "execute_result"
    }
   ],
   "source": [
    "t = (1,2,3,4,5)\n",
    "t[2]"
   ]
  },
  {
   "cell_type": "markdown",
   "id": "219ba58a-019e-4842-aada-5f251f15dd75",
   "metadata": {},
   "source": [
    "3. Find the length of a tuple without using the `len()` function."
   ]
  },
  {
   "cell_type": "code",
   "execution_count": 81,
   "id": "5bcb4b1d-a9a8-41ea-90e9-381e4a01e796",
   "metadata": {},
   "outputs": [
    {
     "name": "stdout",
     "output_type": "stream",
     "text": [
      "length of tuple : 5\n"
     ]
    }
   ],
   "source": [
    "t = (1,2,3,4,5)\n",
    "n=0\n",
    "for i in t:\n",
    "    n +=1\n",
    "print(\"length of tuple :\",n)"
   ]
  },
  {
   "cell_type": "markdown",
   "id": "52f10c38-db73-43ea-8a33-387e62643065",
   "metadata": {},
   "source": [
    "4. Count the occurrences of an element in a tuple."
   ]
  },
  {
   "cell_type": "code",
   "execution_count": 83,
   "id": "7b524c63-de9a-494b-b7c3-fb8a8a979235",
   "metadata": {},
   "outputs": [
    {
     "name": "stdin",
     "output_type": "stream",
     "text": [
      "enter element occurence : 2\n"
     ]
    },
    {
     "name": "stdout",
     "output_type": "stream",
     "text": [
      "count occurence element in a tuple :  4\n"
     ]
    }
   ],
   "source": [
    "t = (1,2,3,4,5,2,2,2)\n",
    "occurence_ele = int(input(\"enter element occurence :\"))\n",
    "c = 0\n",
    "for i in t:\n",
    "    if i == occurence_ele:\n",
    "        c += 1\n",
    "print(\"count occurence element in a tuple : \",c)"
   ]
  },
  {
   "cell_type": "markdown",
   "id": "605a90a9-7284-49ad-ac78-754ef64f03aa",
   "metadata": {},
   "source": [
    "5. Find the index of the first occurrence of an element in a tuple.\n"
   ]
  },
  {
   "cell_type": "code",
   "execution_count": 84,
   "id": "a66ebe38-0666-4289-b013-5e7fef7710b1",
   "metadata": {},
   "outputs": [
    {
     "name": "stdin",
     "output_type": "stream",
     "text": [
      "enter the element : 9\n"
     ]
    },
    {
     "name": "stdout",
     "output_type": "stream",
     "text": [
      "first occurence element 9 and its index is : 8\n"
     ]
    }
   ],
   "source": [
    "## tuple \n",
    "\n",
    "\n",
    "t = (1,2,3,4,5,6,7,8,9)\n",
    "element = int(input(\"enter the element :\"))\n",
    "occur_index = -1\n",
    "\n",
    "for k,v in enumerate(t):\n",
    "    if v == element:\n",
    "        occur_index = k\n",
    "        break\n",
    "    \n",
    "\n",
    "if occur_index != -1:\n",
    "    print(f\"first occurence element {element} and its index is : {occur_index}\")\n",
    "else:\n",
    "    print(f\"{element} is not found in a tuple\")"
   ]
  },
  {
   "cell_type": "markdown",
   "id": "64cfb6d0-b5db-49a9-9bb8-96ecefb0e3a2",
   "metadata": {},
   "source": [
    "6. Check if an element exists in a tuple"
   ]
  },
  {
   "cell_type": "code",
   "execution_count": 85,
   "id": "2fd02c27-444f-40c9-9bcd-889e08bcae6e",
   "metadata": {},
   "outputs": [
    {
     "name": "stdout",
     "output_type": "stream",
     "text": [
      "30 exists in the tuple.\n"
     ]
    }
   ],
   "source": [
    "# Step 1: Create a tuple\n",
    "my_tuple = (10, 20, 30, 40, 50)\n",
    "\n",
    "# Step 2: Choose the element to check for existence\n",
    "element_to_check = 30\n",
    "\n",
    "# Step 3: Check if the element exists in the tuple using the 'in' operator\n",
    "if element_to_check in my_tuple:\n",
    "    print(f\"{element_to_check} exists in the tuple.\")\n",
    "else:\n",
    "    print(f\"{element_to_check} does not exist in the tuple.\")"
   ]
  },
  {
   "cell_type": "markdown",
   "id": "379ec923-62ac-4171-84c5-943a0e874cb9",
   "metadata": {},
   "source": [
    "7. Convert a tuple to a list"
   ]
  },
  {
   "cell_type": "code",
   "execution_count": 86,
   "id": "adaca54c-b336-4ebb-861b-64657982d0e6",
   "metadata": {},
   "outputs": [
    {
     "name": "stdout",
     "output_type": "stream",
     "text": [
      "Tuple: (10, 20, 30, 40, 50)\n",
      "List: [10, 20, 30, 40, 50]\n"
     ]
    }
   ],
   "source": [
    "# Step 1: Create a tuple\n",
    "my_tuple = (10, 20, 30, 40, 50)\n",
    "\n",
    "# Step 2: Convert the tuple to a list\n",
    "my_list = list(my_tuple)\n",
    "\n",
    "# Step 3: Print the resulting list\n",
    "print(\"Tuple:\", my_tuple)\n",
    "print(\"List:\", my_list)"
   ]
  },
  {
   "cell_type": "markdown",
   "id": "26d64471-2a5a-41ab-b98b-ff84209ac081",
   "metadata": {},
   "source": [
    "8. Convert a list to a tuple"
   ]
  },
  {
   "cell_type": "code",
   "execution_count": 1,
   "id": "32eece66-0c59-4d05-b583-60fb77d03811",
   "metadata": {},
   "outputs": [
    {
     "name": "stdout",
     "output_type": "stream",
     "text": [
      "(1, 2, 3, 4)\n"
     ]
    }
   ],
   "source": [
    "# Python3 program to convert a \n",
    "# list into a tuple\n",
    "def convert(list):\n",
    "\treturn tuple(list)\n",
    "\n",
    "# Driver function\n",
    "list = [1, 2, 3, 4]\n",
    "print(convert(list))\n"
   ]
  },
  {
   "cell_type": "markdown",
   "id": "9e460124-b219-4876-9890-c24d617b0b4a",
   "metadata": {},
   "source": [
    "9. Unpack the elements of a tuple into variables.\n"
   ]
  },
  {
   "cell_type": "code",
   "execution_count": 2,
   "id": "f54ad9ef-6c3f-4532-8701-3d643bbfb151",
   "metadata": {},
   "outputs": [
    {
     "name": "stdout",
     "output_type": "stream",
     "text": [
      "1 2 krishna\n"
     ]
    }
   ],
   "source": [
    "## tuple to variable = unpack varable\n",
    "t = (1,2,\"krishna\")\n",
    "a,b,c = t\n",
    "print(a,b,c)"
   ]
  },
  {
   "cell_type": "markdown",
   "id": "df43bfc2-81a1-4e61-874d-e58a64ff89a5",
   "metadata": {},
   "source": [
    "10. Create a tuple of even numbers from 1 to 10.\n"
   ]
  },
  {
   "cell_type": "code",
   "execution_count": 4,
   "id": "3214ce8d-b0e4-46de-bdf6-7a0886f13012",
   "metadata": {},
   "outputs": [
    {
     "name": "stdout",
     "output_type": "stream",
     "text": [
      "(2, 4, 6, 8)\n"
     ]
    }
   ],
   "source": [
    "# Python3 program to convert a \n",
    "# list into a tuple\n",
    "def enven_tuple(list):\n",
    "\treturn tuple(list)\n",
    "\n",
    "# Driver function\n",
    "list = [i for i in range(1,10) if i%2 ==0]\n",
    "print(enven_tuple(list))\n"
   ]
  },
  {
   "cell_type": "markdown",
   "id": "78223813-6de9-4d2e-b520-4ec55c734698",
   "metadata": {},
   "source": [
    "11. Create a tuple of odd numbers from 1 to 10."
   ]
  },
  {
   "cell_type": "code",
   "execution_count": 7,
   "id": "26f47383-e5aa-44e3-ae54-a7052768e6a9",
   "metadata": {},
   "outputs": [
    {
     "name": "stdout",
     "output_type": "stream",
     "text": [
      "(1, 3, 5, 7, 9)\n"
     ]
    }
   ],
   "source": [
    "# Python3 program to convert a \n",
    "# list into a tuple\n",
    "def enven_tuple(list):\n",
    "\treturn tuple(list)\n",
    "\n",
    "# Driver function\n",
    "list = [i for i in range(1,10) if i%2 !=0]\n",
    "print(enven_tuple(list))\n"
   ]
  },
  {
   "cell_type": "markdown",
   "id": "02ec4ff8-cbdc-40c5-b8a3-27265309af19",
   "metadata": {},
   "source": [
    "12. Concatenate two tuples."
   ]
  },
  {
   "cell_type": "code",
   "execution_count": 8,
   "id": "fcb70def-e7d5-4d32-96de-150d48d0a61b",
   "metadata": {},
   "outputs": [
    {
     "name": "stdout",
     "output_type": "stream",
     "text": [
      "(1, 2, 3, 4, 5, 1, 2, 3, 4, 8, 9)\n"
     ]
    }
   ],
   "source": [
    "t = (1,2,3,4,5)\n",
    "t1 = (1,2,3,4,8,9)\n",
    "\n",
    "print(t+t1)"
   ]
  },
  {
   "cell_type": "markdown",
   "id": "3d10dade-913e-413a-9808-0730d854f2c9",
   "metadata": {},
   "source": [
    "13. Repeat a tuple three times."
   ]
  },
  {
   "cell_type": "code",
   "execution_count": 10,
   "id": "caaea3c7-4c83-489d-8b84-45a772a1fb86",
   "metadata": {},
   "outputs": [
    {
     "name": "stdout",
     "output_type": "stream",
     "text": [
      "(1, 2, 3, 1, 2, 3, 1, 2, 3)\n"
     ]
    }
   ],
   "source": [
    "t = (1,2,3)\n",
    "print(t*3)"
   ]
  },
  {
   "cell_type": "markdown",
   "id": "83454b68-adc4-4247-8658-74e3e70adace",
   "metadata": {},
   "source": [
    "14. Check if a tuple is empty"
   ]
  },
  {
   "cell_type": "code",
   "execution_count": 11,
   "id": "71f08f4a-3a51-4600-9e96-ebd4ffc5ce7a",
   "metadata": {},
   "outputs": [
    {
     "name": "stdout",
     "output_type": "stream",
     "text": [
      "tuple is not empty\n"
     ]
    }
   ],
   "source": [
    "t = (1,2,3,4,\"pw\")\n",
    "\n",
    "if len(t) == 0:\n",
    "    print(\"yes , tuple is empty\")\n",
    "else:\n",
    "    print(\"tuple is not empty\")"
   ]
  },
  {
   "cell_type": "markdown",
   "id": "a528924a-a7c8-4e40-a8ae-d71f38b00eab",
   "metadata": {},
   "source": [
    "15. Create a nested tuple.\n"
   ]
  },
  {
   "cell_type": "code",
   "execution_count": 14,
   "id": "a76ad496-2ae6-4f28-8e5a-e7209bb5ee3f",
   "metadata": {},
   "outputs": [
    {
     "data": {
      "text/plain": [
       "((1, 2, 3), ('a', 'b', 'c'), (True, False))"
      ]
     },
     "execution_count": 14,
     "metadata": {},
     "output_type": "execute_result"
    }
   ],
   "source": [
    "t = ((1, 2, 3), ('a', 'b', 'c'), (True, False))\n",
    "t"
   ]
  },
  {
   "cell_type": "markdown",
   "id": "43f48c57-d680-4e0a-9519-20ac88cedfe7",
   "metadata": {},
   "source": [
    "16. Access the first element of a nested tuple\n"
   ]
  },
  {
   "cell_type": "code",
   "execution_count": 15,
   "id": "99307d32-d6c5-473f-943c-6322dc7c26a0",
   "metadata": {},
   "outputs": [
    {
     "data": {
      "text/plain": [
       "1"
      ]
     },
     "execution_count": 15,
     "metadata": {},
     "output_type": "execute_result"
    }
   ],
   "source": [
    "t = ((1, 2, 3), ('a', 'b', 'c'), (True, False))\n",
    "t[0][0]"
   ]
  },
  {
   "cell_type": "markdown",
   "id": "b9a0ab3f-b7ae-4d7a-b435-680aae4c146d",
   "metadata": {},
   "source": [
    "17. Create a tuple with a single element."
   ]
  },
  {
   "cell_type": "code",
   "execution_count": 16,
   "id": "eab89f5c-298d-4541-a28f-0e25615ccee1",
   "metadata": {},
   "outputs": [
    {
     "data": {
      "text/plain": [
       "1"
      ]
     },
     "execution_count": 16,
     "metadata": {},
     "output_type": "execute_result"
    }
   ],
   "source": [
    "t= (1)\n",
    "t"
   ]
  },
  {
   "cell_type": "markdown",
   "id": "adaea71b-1937-4715-b752-673d0957b1e1",
   "metadata": {},
   "source": [
    "18. Compare two tuples."
   ]
  },
  {
   "cell_type": "code",
   "execution_count": 17,
   "id": "a57fe5c6-097d-4f90-bb5b-64e29073d0d2",
   "metadata": {},
   "outputs": [
    {
     "name": "stdout",
     "output_type": "stream",
     "text": [
      "tuple1 == tuple2: False\n",
      "tuple1 != tuple2: True\n",
      "tuple1 < tuple2: True\n",
      "tuple1 <= tuple2: True\n",
      "tuple1 > tuple2: False\n",
      "tuple1 >= tuple2: False\n"
     ]
    }
   ],
   "source": [
    "# Step 1: Create two tuples\n",
    "tuple1 = (1, 2, 3)\n",
    "tuple2 = (1, 2, 4)\n",
    "\n",
    "# Step 2: Compare the two tuples using comparison operators\n",
    "print(\"tuple1 == tuple2:\", tuple1 == tuple2)  # Equality check\n",
    "print(\"tuple1 != tuple2:\", tuple1 != tuple2)  # Inequality check\n",
    "print(\"tuple1 < tuple2:\", tuple1 < tuple2)    # Less than check\n",
    "print(\"tuple1 <= tuple2:\", tuple1 <= tuple2)  # Less than or equal to check\n",
    "print(\"tuple1 > tuple2:\", tuple1 > tuple2)    # Greater than check\n",
    "print(\"tuple1 >= tuple2:\", tuple1 >= tuple2)  # Greater than or equal to check"
   ]
  },
  {
   "cell_type": "markdown",
   "id": "45fc5bd3-5e15-4232-9949-68b12b1af0e8",
   "metadata": {},
   "source": [
    "19. Delete a tuple."
   ]
  },
  {
   "cell_type": "code",
   "execution_count": 18,
   "id": "11009010-afdb-44e9-b566-36d678155db6",
   "metadata": {},
   "outputs": [
    {
     "ename": "NameError",
     "evalue": "name 'my_tuple' is not defined",
     "output_type": "error",
     "traceback": [
      "\u001b[0;31m---------------------------------------------------------------------------\u001b[0m",
      "\u001b[0;31mNameError\u001b[0m                                 Traceback (most recent call last)",
      "Cell \u001b[0;32mIn[18], line 8\u001b[0m\n\u001b[1;32m      5\u001b[0m \u001b[38;5;28;01mdel\u001b[39;00m my_tuple\n\u001b[1;32m      7\u001b[0m \u001b[38;5;66;03m# Step 3: Try to access the tuple (will raise a NameError)\u001b[39;00m\n\u001b[0;32m----> 8\u001b[0m \u001b[38;5;28mprint\u001b[39m(\u001b[43mmy_tuple\u001b[49m)\n",
      "\u001b[0;31mNameError\u001b[0m: name 'my_tuple' is not defined"
     ]
    }
   ],
   "source": [
    "# Step 1: Create a tuple\n",
    "my_tuple = (1, 2, 3, 4, 5)\n",
    "\n",
    "# Step 2: Delete the tuple using the 'del' statement\n",
    "del my_tuple\n",
    "\n",
    "# Step 3: Try to access the tuple (will raise a NameError)\n",
    "print(my_tuple)"
   ]
  },
  {
   "cell_type": "markdown",
   "id": "93f53ba0-f35d-4a8b-990f-b7b3f8aafb63",
   "metadata": {},
   "source": [
    "20. Slice a tuple"
   ]
  },
  {
   "cell_type": "code",
   "execution_count": 19,
   "id": "4b235372-60c2-4795-85cb-7a6da34034c0",
   "metadata": {},
   "outputs": [
    {
     "data": {
      "text/plain": [
       "(1, 2, 3)"
      ]
     },
     "execution_count": 19,
     "metadata": {},
     "output_type": "execute_result"
    }
   ],
   "source": [
    "my_tuple = (1, 2, 3, 4, 5)\n",
    "my_tuple[:3]"
   ]
  },
  {
   "cell_type": "markdown",
   "id": "2a30a56f-9c40-455d-b905-54caac2cd8c7",
   "metadata": {},
   "source": [
    "21. Find the maximum value in a tuple.\n"
   ]
  },
  {
   "cell_type": "code",
   "execution_count": 20,
   "id": "312f90ee-7e17-4a6a-9c93-1ed75c63f7a0",
   "metadata": {},
   "outputs": [
    {
     "data": {
      "text/plain": [
       "5"
      ]
     },
     "execution_count": 20,
     "metadata": {},
     "output_type": "execute_result"
    }
   ],
   "source": [
    "t = (1, 2, 3, 4, 5)\n",
    "t = max(t)\n",
    "t"
   ]
  },
  {
   "cell_type": "markdown",
   "id": "6766e76b-1d1b-4cd5-9428-3be7bf122c6f",
   "metadata": {},
   "source": [
    "22. Find the minimum value in a tuple.\n"
   ]
  },
  {
   "cell_type": "code",
   "execution_count": 21,
   "id": "0ff50d68-b1b1-480a-ad62-be5720ef9c9e",
   "metadata": {},
   "outputs": [
    {
     "data": {
      "text/plain": [
       "1"
      ]
     },
     "execution_count": 21,
     "metadata": {},
     "output_type": "execute_result"
    }
   ],
   "source": [
    "t = (1, 2, 3, 4, 5)\n",
    "t = min(t)\n",
    "t"
   ]
  },
  {
   "cell_type": "markdown",
   "id": "e2214f5b-dc41-4dfe-add7-0099b58b9d92",
   "metadata": {},
   "source": [
    "23. Convert a string to a tuple of characters.\n"
   ]
  },
  {
   "cell_type": "code",
   "execution_count": 22,
   "id": "2257f4b8-2f18-4530-859a-e7ba8b61314d",
   "metadata": {},
   "outputs": [
    {
     "name": "stdout",
     "output_type": "stream",
     "text": [
      "Tuple of characters: ('H', 'e', 'l', 'l', 'o', ',', ' ', 'W', 'o', 'r', 'l', 'd', '!')\n"
     ]
    }
   ],
   "source": [
    "# Step 1: Create a string\n",
    "my_string = \"Hello, World!\"\n",
    "\n",
    "# Step 2: Convert the string to a tuple of characters\n",
    "tuple_of_characters = tuple(my_string)\n",
    "\n",
    "# Step 3: Print the tuple of characters\n",
    "print(\"Tuple of characters:\", tuple_of_characters)"
   ]
  },
  {
   "cell_type": "markdown",
   "id": "08334cfb-e810-4532-9410-20cbe5485610",
   "metadata": {},
   "source": [
    "24. Convert a tuple of characters to a string."
   ]
  },
  {
   "cell_type": "code",
   "execution_count": 24,
   "id": "140e66f6-f69c-4870-baaf-f36b92fdf65a",
   "metadata": {},
   "outputs": [
    {
     "name": "stdout",
     "output_type": "stream",
     "text": [
      "Hello, World!\n"
     ]
    }
   ],
   "source": [
    "t = ('H', 'e', 'l', 'l', 'o', ',', ' ', 'W', 'o', 'r', 'l', 'd', '!')\n",
    "string = \"\".join(t)\n",
    "print(string)"
   ]
  },
  {
   "cell_type": "markdown",
   "id": "2f5e44e2-5d53-401b-a4e3-e269e71dd513",
   "metadata": {},
   "source": [
    "25. Create a tuple from multiple data types."
   ]
  },
  {
   "cell_type": "code",
   "execution_count": 25,
   "id": "0a569de9-2e35-4a75-9fd8-f7d2cfad7009",
   "metadata": {},
   "outputs": [
    {
     "name": "stdout",
     "output_type": "stream",
     "text": [
      "(1, 'hello', 3.14, True)\n"
     ]
    }
   ],
   "source": [
    "mixed_tuple = (1, \"hello\", 3.14, True)\n",
    "\n",
    "# Printing the tuple\n",
    "print(mixed_tuple)"
   ]
  },
  {
   "cell_type": "markdown",
   "id": "728eff23-cef4-4f71-89e4-4ee1783cb985",
   "metadata": {},
   "source": [
    "26. Check if two tuples are identical.\n"
   ]
  },
  {
   "cell_type": "code",
   "execution_count": 26,
   "id": "408bae64-2f17-4d84-be8e-3023d535ea58",
   "metadata": {},
   "outputs": [
    {
     "name": "stdout",
     "output_type": "stream",
     "text": [
      "tuple1 and tuple2 are identical: True\n",
      "tuple1 and tuple3 are identical: False\n"
     ]
    }
   ],
   "source": [
    "# Step 1: Create two tuples\n",
    "tuple1 = (1, 2, 3)\n",
    "tuple2 = (1, 2, 3)\n",
    "tuple3 = (4, 5, 6)\n",
    "\n",
    "# Step 2: Compare the tuples for identity using the equality operator\n",
    "are_identical1 = tuple1 == tuple2\n",
    "are_identical2 = tuple1 == tuple3\n",
    "\n",
    "# Step 3: Print the results\n",
    "print(\"tuple1 and tuple2 are identical:\", are_identical1)\n",
    "print(\"tuple1 and tuple3 are identical:\", are_identical2)"
   ]
  },
  {
   "cell_type": "markdown",
   "id": "2782c60e-4858-475c-be91-e1e2f263ef0c",
   "metadata": {},
   "source": [
    "27. Sort the elements of a tuple"
   ]
  },
  {
   "cell_type": "code",
   "execution_count": 27,
   "id": "04ca76b7-8a57-4f6b-8558-59c39d069fd5",
   "metadata": {},
   "outputs": [
    {
     "name": "stdout",
     "output_type": "stream",
     "text": [
      "Sorted tuple: (1, 2, 3, 5, 8)\n"
     ]
    }
   ],
   "source": [
    "# Step 1: Create a tuple\n",
    "my_tuple = (5, 2, 8, 1, 3)\n",
    "\n",
    "# Step 2: Convert the tuple to a list, sort the list, and convert it back to a tuple\n",
    "sorted_tuple = tuple(sorted(my_tuple))\n",
    "\n",
    "# Step 3: Print the sorted tuple\n",
    "print(\"Sorted tuple:\", sorted_tuple)\n"
   ]
  },
  {
   "cell_type": "markdown",
   "id": "0f2fe9e9-49d3-4a5c-913d-f90ed7b6d2a8",
   "metadata": {},
   "source": [
    "28. Convert a tuple of integers to a tuple of strings."
   ]
  },
  {
   "cell_type": "code",
   "execution_count": 39,
   "id": "cfd22776-c7f6-4a12-9e0e-eaf1022242b6",
   "metadata": {},
   "outputs": [
    {
     "name": "stdout",
     "output_type": "stream",
     "text": [
      "Tuple of strings: ('1', '2', '3', '4', '5')\n"
     ]
    }
   ],
   "source": [
    "# Step 1: Create a tuple of integers\n",
    "tuple_of_integers = (1, 2, 3, 4, 5)\n",
    "\n",
    "# Step 2: Convert the tuple of integers to a tuple of strings using a list comprehension\n",
    "tuple_of_strings = tuple(str(item) for item in tuple_of_integers)\n",
    "\n",
    "# Step 3: Print the tuple of strings\n",
    "print(\"Tuple of strings:\", tuple_of_strings)"
   ]
  },
  {
   "cell_type": "markdown",
   "id": "b9f3e8ff-b1ec-485a-a8f9-d760862a68ed",
   "metadata": {},
   "source": [
    "29. Convert a tuple of strings to a tuple of integers."
   ]
  },
  {
   "cell_type": "code",
   "execution_count": 41,
   "id": "543f4bdb-ff73-4ae9-b1d3-772034c41232",
   "metadata": {},
   "outputs": [
    {
     "name": "stdout",
     "output_type": "stream",
     "text": [
      "Tuple of int: (1, 2, 3, 4, 5)\n"
     ]
    }
   ],
   "source": [
    "t = ('1', '2', '3', '4', '5')\n",
    "\n",
    "# Step 2: Convert the tuple of integers to a tuple of strings using a list comprehension\n",
    "tuple_int = tuple(item for item in tuple_of_integers)\n",
    "\n",
    "# Step 3: Print the tuple of strings\n",
    "print(\"Tuple of int:\", tuple_int)"
   ]
  },
  {
   "cell_type": "markdown",
   "id": "e8b11e63-c164-4878-820b-12a6dd4f6fd4",
   "metadata": {},
   "source": [
    "30. Merge two tuples."
   ]
  },
  {
   "cell_type": "code",
   "execution_count": 42,
   "id": "85d9357d-47b4-4575-a80b-365ce29c9338",
   "metadata": {},
   "outputs": [
    {
     "name": "stdout",
     "output_type": "stream",
     "text": [
      "Merged tuple: (1, 2, 3, 4, 5, 6)\n"
     ]
    }
   ],
   "source": [
    "# Step 1: Create two tuples\n",
    "tuple1 = (1, 2, 3)\n",
    "tuple2 = (4, 5, 6)\n",
    "\n",
    "# Step 2: Merge the two tuples using the '+' operator\n",
    "merged_tuple = tuple1 + tuple2\n",
    "\n",
    "# Step 3: Print the merged tuple\n",
    "print(\"Merged tuple:\", merged_tuple)"
   ]
  },
  {
   "cell_type": "markdown",
   "id": "3bcc51b1-7ef3-4f98-9d83-ceb0834de02f",
   "metadata": {},
   "source": [
    "31. Flatten a nested tuple.\n"
   ]
  },
  {
   "cell_type": "code",
   "execution_count": 5,
   "id": "32bf979e-157d-443e-b003-643e5e863a73",
   "metadata": {},
   "outputs": [
    {
     "name": "stdout",
     "output_type": "stream",
     "text": [
      "((1, 2, 3), (4, 5, 6), (7, 8, 9))\n",
      "flatten tuple :  (1, 2, 3, 4, 5, 6, 7, 8, 9)\n"
     ]
    }
   ],
   "source": [
    "def flatten_tuple(nested_tuple):\n",
    "    flaten_tu = []\n",
    "    for item in nested_tuple:\n",
    "        if isinstance(item , tuple):\n",
    "            flaten_tu.extend(item)\n",
    "        else:\n",
    "            flaten_tu.append(item)\n",
    "    return flaten_tu\n",
    "\n",
    "## ceate nested tuple\n",
    "nested_tuple = ((1,2,3) , (4,5,6) , (7,8,9))\n",
    "\n",
    "## convert nested tuple to normal(flatten)\n",
    "flatten_tuple = tuple(flatten_tuple(nested_tuple))\n",
    "\n",
    "## print tuple\n",
    "print(nested_tuple)\n",
    "print(\"flatten tuple : \",flatten_tuple)"
   ]
  },
  {
   "cell_type": "markdown",
   "id": "795a8b62-fc4e-4a61-8a2a-64453950c259",
   "metadata": {},
   "source": [
    "32. Create a tuple of the first 5 prime numbers."
   ]
  },
  {
   "cell_type": "code",
   "execution_count": 8,
   "id": "e0c2a7f9-e424-4d5e-bf7d-00602c27086e",
   "metadata": {},
   "outputs": [
    {
     "name": "stdout",
     "output_type": "stream",
     "text": [
      "tuple with first 5 prime no : (2, 3, 5, 7, 11)\n"
     ]
    }
   ],
   "source": [
    "def isprime(num):\n",
    "    if num <= 1:\n",
    "        return False\n",
    "    for i in range(2 , int(num**0.5)+ 1):\n",
    "        if num %i == 0:\n",
    "            return False\n",
    "    return True\n",
    "\n",
    "## generate 5 prime num\n",
    "prime_num = [num for num in range(2,100) if isprime(num)][:5]\n",
    "\n",
    "## convert list to tuple \n",
    "prime_no = tuple(prime_num)\n",
    "\n",
    "##print\n",
    "print(\"tuple with first 5 prime no :\", prime_no)"
   ]
  },
  {
   "cell_type": "markdown",
   "id": "fea5a450-ffbb-4b7d-b069-50d9c19a3801",
   "metadata": {},
   "source": [
    "33. Check if a tuple is a palindrome."
   ]
  },
  {
   "cell_type": "code",
   "execution_count": 9,
   "id": "3a6849b0-84f2-4518-b79c-c7cd43c849a4",
   "metadata": {},
   "outputs": [
    {
     "name": "stdout",
     "output_type": "stream",
     "text": [
      "tuple_1 is palindrone :  True\n",
      "tuple_2 is palindrone :  False\n"
     ]
    }
   ],
   "source": [
    "def ispalidrone(tup):\n",
    "    return tup == tup[::-1]\n",
    "\n",
    "## create tuple\n",
    "tuple_1 = (1,2,3,2,1)\n",
    "tuple_2 = (1,2,3,4,5)\n",
    "\n",
    "## check tuple is palidrone\n",
    "t1 = ispalidrone(tuple_1)\n",
    "t2 = ispalidrone(tuple_2)\n",
    "\n",
    "## print is palidrone\n",
    "\n",
    "print(\"tuple_1 is palindrone : \" , t1)\n",
    "print(\"tuple_2 is palindrone : \" , t2)"
   ]
  },
  {
   "cell_type": "markdown",
   "id": "f815085c-9e96-4e74-9a63-a582f0abd2f5",
   "metadata": {},
   "source": [
    "34. Create a tuple of squares of numbers from 1 to 5.\n"
   ]
  },
  {
   "cell_type": "code",
   "execution_count": 12,
   "id": "81ec2129-ac08-440a-b9a1-61375a58bddc",
   "metadata": {},
   "outputs": [
    {
     "name": "stdout",
     "output_type": "stream",
     "text": [
      "(1, 4, 9, 16, 25)\n"
     ]
    }
   ],
   "source": [
    "## using tuple comprehension\n",
    "squre_tuple = tuple(i**2 for i in range(1,6))\n",
    "\n",
    "## print squre tuple\n",
    "print(squre_tuple)"
   ]
  },
  {
   "cell_type": "markdown",
   "id": "91075681-aea7-4fe9-99ec-202feeaa9a87",
   "metadata": {},
   "source": [
    "35. Filter out all even numbers from a tuple."
   ]
  },
  {
   "cell_type": "code",
   "execution_count": 13,
   "id": "8faa24e9-f414-4b52-b183-608e4a13de0e",
   "metadata": {},
   "outputs": [
    {
     "name": "stdout",
     "output_type": "stream",
     "text": [
      "(2, 4, 6, 8, 10)\n"
     ]
    }
   ],
   "source": [
    "# Create a tuple\n",
    "original_tuple = (1, 2, 3, 4, 5, 6, 7, 8, 9, 10)\n",
    "\n",
    "## filert all even\n",
    "filter_tuple = tuple(i for i in original_tuple if i%2 == 0)\n",
    "\n",
    "## print filter tuple\n",
    "print(filter_tuple)\n"
   ]
  },
  {
   "cell_type": "markdown",
   "id": "d1af160b-df77-48e5-aa5f-632f5a726f6d",
   "metadata": {},
   "source": [
    "36. Multiply all elements in a tuple by 2."
   ]
  },
  {
   "cell_type": "code",
   "execution_count": 14,
   "id": "564e229d-3297-47b5-9da7-ca751200540f",
   "metadata": {},
   "outputs": [
    {
     "name": "stdout",
     "output_type": "stream",
     "text": [
      "(2, 4, 6, 8, 10)\n"
     ]
    }
   ],
   "source": [
    "# Create a tuple\n",
    "original_tuple = (1, 2, 3, 4, 5)\n",
    "\n",
    "## multiply all tuple element by 2\n",
    "multi_ply = tuple(i*2 for i in original_tuple)\n",
    "\n",
    "## print tuple\n",
    "print(multi_ply)"
   ]
  },
  {
   "cell_type": "markdown",
   "id": "92131ca6-3fa9-4cd0-8ce3-1995b4bc58e0",
   "metadata": {},
   "source": [
    "37. Create a tuple of random numbers."
   ]
  },
  {
   "cell_type": "code",
   "execution_count": 18,
   "id": "f4869b65-159a-47c8-8e1b-091e4d9f5397",
   "metadata": {},
   "outputs": [
    {
     "name": "stdout",
     "output_type": "stream",
     "text": [
      "(50, 54, 20, 54, 28, 20, 65, 41, 53)\n"
     ]
    }
   ],
   "source": [
    "import random\n",
    "\n",
    "## create tuple rendom number using tuple comprehenssion\n",
    "random_tuple = tuple(random.randint(1,100) for _ in range(1,10))\n",
    "print(random_tuple)"
   ]
  },
  {
   "cell_type": "markdown",
   "id": "58bcd966-14ca-4052-bdf3-79818e0a3dbe",
   "metadata": {},
   "source": [
    "38. Check if a tuple is sorted."
   ]
  },
  {
   "cell_type": "code",
   "execution_count": 26,
   "id": "39af6053-c5a2-48d9-8085-fbcd6ab26b31",
   "metadata": {},
   "outputs": [
    {
     "name": "stdout",
     "output_type": "stream",
     "text": [
      "t1 tuple is sorted : True\n",
      "t2 tuple is sorted :  False\n"
     ]
    }
   ],
   "source": [
    "def is_sort(tup):\n",
    "    for i in range(len(tup)-1):\n",
    "        if tup[i] > tup[i+1]:\n",
    "            return False\n",
    "    return True\n",
    "\n",
    "## create tuple\n",
    "tup1 = (1,2,3,4,5,6)\n",
    "tup2 = (1,2,6,5,6,4)\n",
    "\n",
    "## cheak tuple is sorted\n",
    "t1_sort = is_sort(tup1)\n",
    "t2_sort = is_sort(tup2)\n",
    "\n",
    "## print issorted or not\n",
    "print(\"t1 tuple is sorted :\", t1_sort)\n",
    "print(\"t2 tuple is sorted : \", t2_sort)"
   ]
  },
  {
   "cell_type": "markdown",
   "id": "0cd5c3e6-2c26-4cbd-9d50-b5a09cf6e8e7",
   "metadata": {},
   "source": [
    "39. Rotate a tuple to the left by `n` positions.\n"
   ]
  },
  {
   "cell_type": "code",
   "execution_count": 30,
   "id": "a08c0103-e005-4975-81b7-fa3aa9fb0568",
   "metadata": {},
   "outputs": [
    {
     "name": "stdout",
     "output_type": "stream",
     "text": [
      "(1, 2, 3, 4, 5, 66, 7)\n",
      "rotate 3 tuple is : (4, 5, 66, 7, 1, 2, 3)\n"
     ]
    }
   ],
   "source": [
    "def rotate_tup(tup ,n):\n",
    "    n = n % len(tup)\n",
    "    rotat_t = tup[n:] + tup[:n]\n",
    "    return rotat_t\n",
    "\n",
    "## create tuple\n",
    "t = (1,2,3,4,5,66,7)\n",
    "\n",
    "n_position = 3\n",
    "rotate_tup1 = rotate_tup(t,n_position)\n",
    "print(t)\n",
    "print(f\"rotate {n_position} tuple is : {rotate_tup1}\")"
   ]
  },
  {
   "cell_type": "markdown",
   "id": "1bfb4bb2-c741-4d51-8883-22025a7e6112",
   "metadata": {},
   "source": [
    "40. Rotate a tuple to the right by `n` positions."
   ]
  },
  {
   "cell_type": "code",
   "execution_count": 32,
   "id": "4299893d-4bd7-4de8-b986-246409deabd4",
   "metadata": {},
   "outputs": [
    {
     "name": "stdout",
     "output_type": "stream",
     "text": [
      "(1, 2, 3, 4, 5, 66, 7)\n",
      "rotate 1 tuple is : (7, 1, 2, 3, 4, 5, 66)\n"
     ]
    }
   ],
   "source": [
    "def rotate_tup(tup ,n):\n",
    "    n = n % len(tup)\n",
    "    rotat_t = tup[-n:] + tup[:-n]\n",
    "    return rotat_t\n",
    "\n",
    "## create tuple\n",
    "t = (1,2,3,4,5,66,7)\n",
    "\n",
    "n_position = 1\n",
    "rotate_tup1 = rotate_tup(t,n_position)\n",
    "print(t)\n",
    "print(f\"rotate {n_position} tuple is : {rotate_tup1}\")"
   ]
  },
  {
   "cell_type": "markdown",
   "id": "917df9ca-ddbf-4ca6-8121-72b2817fe212",
   "metadata": {},
   "source": [
    "41. Create a tuple of the first 5 Fibonacci numbers.\n"
   ]
  },
  {
   "cell_type": "code",
   "execution_count": 45,
   "id": "2183d744-e0ad-4d8a-96bb-b1aa3ef8995b",
   "metadata": {},
   "outputs": [
    {
     "name": "stdout",
     "output_type": "stream",
     "text": [
      "(0, 1, 1, 2, 3)\n"
     ]
    }
   ],
   "source": [
    "# Define a function to generate the first n Fibonacci numbers\n",
    "def generate_fibonacci(n):\n",
    "    fibonacci = [0, 1]  # Initialize the list with the first two Fibonacci numbers\n",
    "    while len(fibonacci) < n:  # Continue generating Fibonacci numbers until the list has n elements\n",
    "        next_number = fibonacci[-1] + fibonacci[-2]  # Calculate the next Fibonacci number\n",
    "        fibonacci.append(next_number)  # Add the next Fibonacci number to the list\n",
    "    return tuple(fibonacci)  # Convert the list to a tuple and return it\n",
    "\n",
    "# Call the generate_fibonacci function to create a tuple of the first 5 Fibonacci numbers\n",
    "fibonacci_tuple = generate_fibonacci(5)\n",
    "\n",
    "# Print the resulting tuple\n",
    "print(fibonacci_tuple)"
   ]
  },
  {
   "cell_type": "markdown",
   "id": "03a574c6-45bc-4458-855b-7101d334075b",
   "metadata": {},
   "source": [
    "42. Create a tuple from user input"
   ]
  },
  {
   "cell_type": "code",
   "execution_count": 48,
   "id": "f7e7233e-e790-40fe-8bf0-ef597b5dc505",
   "metadata": {},
   "outputs": [
    {
     "name": "stdin",
     "output_type": "stream",
     "text": [
      "Enter elements separated by commas:  k\n"
     ]
    },
    {
     "name": "stdout",
     "output_type": "stream",
     "text": [
      "User input tuple: ('k',)\n"
     ]
    }
   ],
   "source": [
    "# Taking user input for creating a tuple\n",
    "input_str = input(\"Enter elements separated by commas: \")\n",
    "\n",
    "# Splitting the input string into a list of strings\n",
    "input_list = input_str.split(',')\n",
    "\n",
    "# Converting the list of strings to a tuple\n",
    "user_tuple = tuple(input_list)\n",
    "\n",
    "# Printing the created tuple\n",
    "print(\"User input tuple:\", user_tuple)"
   ]
  },
  {
   "cell_type": "markdown",
   "id": "1be121d4-e537-4bea-b113-6b677d937863",
   "metadata": {},
   "source": [
    "43. Swap two elements in a tuple"
   ]
  },
  {
   "cell_type": "code",
   "execution_count": 51,
   "id": "1c1f0d8c-f5c6-4a87-908e-763529f7e6bb",
   "metadata": {},
   "outputs": [
    {
     "name": "stdout",
     "output_type": "stream",
     "text": [
      "(1, 2, 3, 4, 5, 6)\n",
      "tuple swape two element 1 and 3 swap : (1, 4, 3, 2, 5, 6)\n"
     ]
    }
   ],
   "source": [
    "## create tuple\n",
    "my_tuple = (1,2,3,4,5,6)\n",
    "\n",
    "index1 = 1\n",
    "index2 = 3\n",
    "\n",
    "swapped_tuple = tuple(\n",
    "    my_tuple[i] if i not in (index1, index2) else\n",
    "    my_tuple[index2] if i == index1 else\n",
    "    my_tuple[index1]\n",
    "    for i in range(len(my_tuple))\n",
    ")\n",
    "print(my_tuple)\n",
    "print(f\"tuple swape two element {index1} and {index2} swap : {swapped_tuple}\")"
   ]
  },
  {
   "cell_type": "markdown",
   "id": "ec0bb3a1-8615-4f7a-8a50-9c08091339b5",
   "metadata": {},
   "source": [
    "44. Reverse the elements of a tuple"
   ]
  },
  {
   "cell_type": "code",
   "execution_count": 52,
   "id": "aeb3cc41-a45c-44dc-97dc-e9bf30acabbe",
   "metadata": {},
   "outputs": [
    {
     "name": "stdout",
     "output_type": "stream",
     "text": [
      "Reversed tuple: (5, 4, 3, 2, 1)\n"
     ]
    }
   ],
   "source": [
    "# Create a tuple\n",
    "my_tuple = (1, 2, 3, 4, 5)\n",
    "\n",
    "# Reverse the elements using slicing\n",
    "reversed_tuple = my_tuple[::-1]\n",
    "\n",
    "# Print the reversed tuple\n",
    "print(\"Reversed tuple:\", reversed_tuple)"
   ]
  },
  {
   "cell_type": "markdown",
   "id": "ac1ae035-622e-460b-b768-dd3212601e71",
   "metadata": {},
   "source": [
    "45. Create a tuple of the first `n` powers of 2.\n"
   ]
  },
  {
   "cell_type": "code",
   "execution_count": 53,
   "id": "10c82785-9140-4df1-87d1-e41c3a61514c",
   "metadata": {},
   "outputs": [
    {
     "name": "stdout",
     "output_type": "stream",
     "text": [
      "Tuple of the first 5 powers of 2: (1, 2, 4, 8, 16)\n"
     ]
    }
   ],
   "source": [
    "# Define the value of n\n",
    "n = 5\n",
    "\n",
    "# Create a tuple of the first n powers of 2 using a list comprehension\n",
    "powers_of_2_tuple = tuple(2 ** i for i in range(n))\n",
    "\n",
    "# Print the tuple of powers of 2\n",
    "print(\"Tuple of the first\", n, \"powers of 2:\", powers_of_2_tuple)"
   ]
  },
  {
   "cell_type": "markdown",
   "id": "95819819-965d-43b5-b054-6584eb594c06",
   "metadata": {},
   "source": [
    "46. Find the longest string in a tuple of strings"
   ]
  },
  {
   "cell_type": "code",
   "execution_count": 54,
   "id": "744c2b7d-dd44-4324-b3a3-3611186bfce5",
   "metadata": {},
   "outputs": [
    {
     "name": "stdout",
     "output_type": "stream",
     "text": [
      "longest string: watermelon\n"
     ]
    }
   ],
   "source": [
    "# Create a tuple of strings\n",
    "string_tuple = (\"apple\", \"banana\", \"grape\", \"kiwi\", \"watermelon\")\n",
    "\n",
    "# Find the longest string in the tuple\n",
    "longest_string = max(string_tuple , key = len)\n",
    "print(\"longest string:\",longest_string)"
   ]
  },
  {
   "cell_type": "markdown",
   "id": "4a5a00cb-9d1e-42b9-96f5-5f0f58efaf20",
   "metadata": {},
   "source": [
    "47. Find the shortest string in a tuple of strings"
   ]
  },
  {
   "cell_type": "code",
   "execution_count": 55,
   "id": "a9f96fee-6db8-40b2-bd4e-82ce7ca09eec",
   "metadata": {},
   "outputs": [
    {
     "name": "stdout",
     "output_type": "stream",
     "text": [
      "sort string: kiwi\n"
     ]
    }
   ],
   "source": [
    "# Create a tuple of strings\n",
    "string_tuple = (\"apple\", \"banana\", \"grape\", \"kiwi\", \"watermelon\")\n",
    "\n",
    "# Find the longest string in the tuple\n",
    "longest_string = min(string_tuple , key = len)\n",
    "print(\"sort string:\",longest_string)"
   ]
  },
  {
   "cell_type": "markdown",
   "id": "10728166-eca3-4476-a6cc-b671a5a10004",
   "metadata": {},
   "source": [
    "48. Create a tuple of the first `n` triangular numbers."
   ]
  },
  {
   "cell_type": "code",
   "execution_count": 56,
   "id": "c8fe3f15-5381-4088-b5d4-bd6ce3387a5f",
   "metadata": {},
   "outputs": [
    {
     "name": "stdout",
     "output_type": "stream",
     "text": [
      "Tuple of the first 5 triangular numbers: (1, 3, 6, 10, 15)\n"
     ]
    }
   ],
   "source": [
    "# Define the value of n\n",
    "n = 5\n",
    "\n",
    "# Create a tuple of the first n triangular numbers using a list comprehension\n",
    "triangular_numbers_tuple = tuple((i * (i + 1)) // 2 for i in range(1, n + 1))\n",
    "\n",
    "# Print the tuple of triangular numbers\n",
    "print(\"Tuple of the first\", n, \"triangular numbers:\", triangular_numbers_tuple)"
   ]
  },
  {
   "cell_type": "markdown",
   "id": "f6310353-1f75-4164-b753-3c68a0605b27",
   "metadata": {},
   "source": [
    "49. Check if a tuple contains another tuple as a subsequence."
   ]
  },
  {
   "cell_type": "code",
   "execution_count": 58,
   "id": "9732beb6-788a-446f-8b29-90a90e750b75",
   "metadata": {},
   "outputs": [
    {
     "name": "stdout",
     "output_type": "stream",
     "text": [
      "Main tuple contains subsequence tuple: True\n"
     ]
    }
   ],
   "source": [
    "# Function to check if a tuple contains another tuple as a subsequence\n",
    "def contains_subsequence(main_tuple, sub_tuple):\n",
    "    sub_length = len(sub_tuple)\n",
    "    for i in range(len(main_tuple) - sub_length + 1):\n",
    "        if main_tuple[i:i+sub_length] == sub_tuple:\n",
    "            return True\n",
    "    return False\n",
    "\n",
    "# Main tuple\n",
    "main_tuple = (1, 2, 3, 4, 5, 6, 7, 8, 9)\n",
    "\n",
    "# Subsequence tuple\n",
    "sub_tuple = (3, 4, 5)\n",
    "\n",
    "# Check if the main tuple contains the subsequence tuple\n",
    "contains_subseq = contains_subsequence(main_tuple, sub_tuple)\n",
    "\n",
    "# Print the result\n",
    "print(\"Main tuple contains subsequence tuple:\", contains_subseq)"
   ]
  },
  {
   "cell_type": "markdown",
   "id": "50a1c1b4-bd35-4273-9b59-70ea732b1dc6",
   "metadata": {},
   "source": [
    "50. Create a tuple of alternating 1s and 0s of length `n`."
   ]
  },
  {
   "cell_type": "code",
   "execution_count": 59,
   "id": "51b7931a-42ca-4fcb-8162-cc5607d33500",
   "metadata": {},
   "outputs": [
    {
     "name": "stdout",
     "output_type": "stream",
     "text": [
      "Tuple of alternating 1s and 0s: (0, 1, 0, 1, 0, 1, 0, 1, 0, 1)\n"
     ]
    }
   ],
   "source": [
    "# Define the value of n\n",
    "n = 10\n",
    "\n",
    "# Create a tuple of alternating 1s and 0s using a list comprehension\n",
    "alternating_tuple = tuple(i % 2 for i in range(n))\n",
    "\n",
    "# Print the tuple of alternating 1s and 0s\n",
    "print(\"Tuple of alternating 1s and 0s:\", alternating_tuple)"
   ]
  },
  {
   "cell_type": "markdown",
   "id": "21419b8b-9f66-4859-8b30-7d2b09efdf73",
   "metadata": {},
   "source": [
    "--------------------------------------"
   ]
  },
  {
   "cell_type": "markdown",
   "id": "b4c5faac-5919-43aa-8604-33ddb913a8b3",
   "metadata": {},
   "source": [
    "Set Based Practice Problem :\n",
    "------------------------"
   ]
  },
  {
   "cell_type": "markdown",
   "id": "954fac14-3aa2-4c5e-960b-338dc8d0e6f7",
   "metadata": {},
   "source": [
    "--------------------------------------------------"
   ]
  },
  {
   "cell_type": "markdown",
   "id": "03036157-12d0-41fd-ae3f-2d89728b8369",
   "metadata": {},
   "source": [
    "1. Create a set with integers from 1 to 5."
   ]
  },
  {
   "cell_type": "code",
   "execution_count": 60,
   "id": "3529d50d-beaf-463d-aea3-d8cbca355d41",
   "metadata": {},
   "outputs": [
    {
     "name": "stdout",
     "output_type": "stream",
     "text": [
      "{1, 2, 3, 4, 5}\n"
     ]
    }
   ],
   "source": [
    "# Step 1: Create an empty set\n",
    "my_set = set()\n",
    "\n",
    "# Step 2: Add integers from 1 to 5 to the set\n",
    "my_set.add(1)\n",
    "my_set.add(2)\n",
    "my_set.add(3)\n",
    "my_set.add(4)\n",
    "my_set.add(5)\n",
    "\n",
    "# Step 3: Print the final set\n",
    "print(my_set)## Set based problems:"
   ]
  },
  {
   "cell_type": "markdown",
   "id": "5ea89089-66fc-4cf0-b437-b3a537c7cbcb",
   "metadata": {},
   "source": [
    "2. Add an element to a set"
   ]
  },
  {
   "cell_type": "code",
   "execution_count": 63,
   "id": "ef2d7108-d7d3-4ff2-b28e-846ba8464a3d",
   "metadata": {},
   "outputs": [
    {
     "name": "stdout",
     "output_type": "stream",
     "text": [
      "{0, 1, 2, 3, 4, 5, 6}\n"
     ]
    }
   ],
   "source": [
    "s = {1, 2, 3, 4, 5}\n",
    "s.add(0)\n",
    "s.add(6)\n",
    "print(s)"
   ]
  },
  {
   "cell_type": "code",
   "execution_count": 64,
   "id": "6f8eac12-3eaa-4b19-abfb-203687210d52",
   "metadata": {},
   "outputs": [
    {
     "name": "stdout",
     "output_type": "stream",
     "text": [
      "Original Set: {1, 2, 3, 4, 5}\n",
      "Set after removing 3 : {1, 2, 4, 5}\n"
     ]
    }
   ],
   "source": [
    "# Step 1: Create a set with some elements\n",
    "my_set = {1, 2, 3, 4, 5}\n",
    "\n",
    "# Step 2: Print the original set\n",
    "print(\"Original Set:\", my_set)\n",
    "\n",
    "# Step 3: Choose an element to remove\n",
    "element_to_remove = 3\n",
    "\n",
    "# Step 4: Use the remove() method to remove the chosen element\n",
    "# Note: If the element is not present in the set, remove() raises a KeyError.\n",
    "my_set.remove(element_to_remove)\n",
    "\n",
    "# Step 5: Print the modified set after removal\n",
    "print(\"Set after removing\", element_to_remove, \":\", my_set)"
   ]
  },
  {
   "cell_type": "markdown",
   "id": "58833783-1e5a-41d1-ac8c-49e95ebd5344",
   "metadata": {},
   "source": [
    "4. Check if an element exists in a set.\n"
   ]
  },
  {
   "cell_type": "code",
   "execution_count": 65,
   "id": "1bd04a79-fe24-4376-b12c-8f1fec83d7fa",
   "metadata": {},
   "outputs": [
    {
     "name": "stdin",
     "output_type": "stream",
     "text": [
      "Enter the element to check:  1\n"
     ]
    },
    {
     "name": "stdout",
     "output_type": "stream",
     "text": [
      "1 exists in the set.\n"
     ]
    }
   ],
   "source": [
    "# Step 1: Create a set with some elements\n",
    "my_set = {1, 3, 5, 7, 9}\n",
    "\n",
    "# Step 2: Ask the user for the element they want to check\n",
    "element_to_check = int(input(\"Enter the element to check: \"))\n",
    "\n",
    "# Step 3: Use the \"in\" keyword to check if the element exists in the set\n",
    "if element_to_check in my_set:\n",
    "    # Step 4: If the element exists in the set, print a message\n",
    "    print(f\"{element_to_check} exists in the set.\")\n",
    "else:\n",
    "    # Step 5: If the element does not exist in the set, print a message\n",
    "    print(f\"{element_to_check} does not exist in the set.\")"
   ]
  },
  {
   "cell_type": "markdown",
   "id": "76788fd9-77db-43f6-bbfd-07321a58ddd9",
   "metadata": {},
   "source": [
    "5. Find the length of a set without using the `len()` function."
   ]
  },
  {
   "cell_type": "code",
   "execution_count": 66,
   "id": "c667a6c4-df60-4dce-9618-e52417105e9a",
   "metadata": {},
   "outputs": [
    {
     "name": "stdout",
     "output_type": "stream",
     "text": [
      "Length of the set: 5\n"
     ]
    }
   ],
   "source": [
    "# Create a set with some elements\n",
    "my_set = {1, 2, 3, 4, 5}\n",
    "\n",
    "# Initialize a variable to count the elements in the set\n",
    "count = 0\n",
    "\n",
    "# Iterate through each element in the set\n",
    "for _ in my_set:\n",
    "    # Increase the count by 1 for each element\n",
    "    count += 1\n",
    "\n",
    "# Print the count, which is the length of the set\n",
    "print(\"Length of the set:\", count)"
   ]
  },
  {
   "cell_type": "markdown",
   "id": "b295237c-b04e-4377-b790-591eb0d9f73a",
   "metadata": {},
   "source": [
    "6. Clear all elements from a set.\n"
   ]
  },
  {
   "cell_type": "code",
   "execution_count": 67,
   "id": "0e3c9cec-6e54-4b54-a401-b261b6f1d3a8",
   "metadata": {},
   "outputs": [
    {
     "name": "stdout",
     "output_type": "stream",
     "text": [
      "Original set: {1, 2, 3, 4, 5}\n",
      "Set after clearing: set()\n"
     ]
    }
   ],
   "source": [
    "# Step 1: Create a set with some elements\n",
    "my_set = {1, 2, 3, 4, 5}\n",
    "\n",
    "# Step 2: Display the original set\n",
    "print(\"Original set:\", my_set)\n",
    "\n",
    "# Step 3: Clear all elements from the set using the clear() method\n",
    "my_set.clear()\n",
    "\n",
    "# Step 4: Display the set after clearing\n",
    "print(\"Set after clearing:\", my_set)\n"
   ]
  },
  {
   "cell_type": "markdown",
   "id": "0023f34d-abdb-48fb-ab5e-2b9cf4685c0a",
   "metadata": {},
   "source": [
    "7. Create a set of even numbers from 1 to 10."
   ]
  },
  {
   "cell_type": "code",
   "execution_count": 68,
   "id": "0e4f7bf0-933e-4d07-b6e0-8fcd9aa90fe6",
   "metadata": {},
   "outputs": [
    {
     "name": "stdout",
     "output_type": "stream",
     "text": [
      "{2, 4, 6, 8, 10}\n"
     ]
    }
   ],
   "source": [
    "# Step 1: Initialize an empty set\n",
    "even_numbers_set = set()\n",
    "\n",
    "# Step 2: Iterate through numbers from 1 to 10\n",
    "for num in range(1, 11):\n",
    "    # Step 3: Check if the number is even\n",
    "    if num % 2 == 0:\n",
    "        # Step 4: Add the even number to the set\n",
    "        even_numbers_set.add(num)\n",
    "\n",
    "# Step 5: Print the set of even numbers\n",
    "print(even_numbers_set)"
   ]
  },
  {
   "cell_type": "markdown",
   "id": "2aade506-56fb-47fd-bf43-766fc864fa73",
   "metadata": {},
   "source": [
    "8. Create a set of odd numbers from 1 to 10"
   ]
  },
  {
   "cell_type": "code",
   "execution_count": 69,
   "id": "045677cb-af0b-4413-bac2-f08788f2fcec",
   "metadata": {},
   "outputs": [
    {
     "name": "stdout",
     "output_type": "stream",
     "text": [
      "{1, 3, 5, 7, 9}\n"
     ]
    }
   ],
   "source": [
    "# Step 1: Initialize an empty set to store odd numbers.\n",
    "odd_numbers_set = set()\n",
    "\n",
    "# Step 2: Iterate through numbers from 1 to 10.\n",
    "for num in range(1, 11):\n",
    "    # Step 3: Check if the current number is odd.\n",
    "    if num % 2 != 0:\n",
    "        # Step 4: If the number is odd, add it to the set.\n",
    "        odd_numbers_set.add(num)\n",
    "\n",
    "# Step 5: Print the final set of odd numbers.\n",
    "print(odd_numbers_set)"
   ]
  },
  {
   "cell_type": "markdown",
   "id": "1f80348c-7636-4569-a5d1-f032c10d5a6c",
   "metadata": {},
   "source": [
    "9. Find the union of two sets.\n"
   ]
  },
  {
   "cell_type": "code",
   "execution_count": 70,
   "id": "522d7f0e-98d2-48b7-8935-dcea716f7a3d",
   "metadata": {},
   "outputs": [
    {
     "name": "stdout",
     "output_type": "stream",
     "text": [
      "unioun of two set :  {1, 2, 3, 4, 5, 6, 7, 8}\n"
     ]
    }
   ],
   "source": [
    "# Define two sets\n",
    "set1 = {1, 2, 3, 4, 5}\n",
    "set2 = {4, 5, 6, 7, 8}\n",
    "\n",
    "# Find the union of the two sets using the `union()` method\n",
    "unioun_set = set1.union(set2)\n",
    "\n",
    "print(\"unioun of two set : \", unioun_set)"
   ]
  },
  {
   "cell_type": "markdown",
   "id": "059a06b2-af86-401b-bd1e-b1b67cd82866",
   "metadata": {},
   "source": [
    "10. Find the intersection of two sets.\n"
   ]
  },
  {
   "cell_type": "code",
   "execution_count": 72,
   "id": "792eca6f-54c1-465e-8ade-c38e44bfe4b6",
   "metadata": {},
   "outputs": [
    {
     "name": "stdout",
     "output_type": "stream",
     "text": [
      "intersection of two set :  {4, 5}\n"
     ]
    }
   ],
   "source": [
    "# Define two sets\n",
    "set1 = {1, 2, 3, 4, 5}\n",
    "set2 = {4, 5, 6, 7, 8}\n",
    "\n",
    "# Find the union of the two sets using the `union()` method\n",
    "unioun_set = set1.intersection(set2)\n",
    "\n",
    "print(\"intersection of two set : \", unioun_set)"
   ]
  },
  {
   "cell_type": "markdown",
   "id": "7092a51e-e289-4686-9de5-f4a2d15b0bc1",
   "metadata": {},
   "source": [
    "11. Find the difference between two sets."
   ]
  },
  {
   "cell_type": "code",
   "execution_count": 75,
   "id": "26d4f225-eb4b-4693-af95-60262dddaa7d",
   "metadata": {},
   "outputs": [
    {
     "name": "stdout",
     "output_type": "stream",
     "text": [
      "difference of two set :  {1, 2, 3}\n"
     ]
    }
   ],
   "source": [
    "# Define two sets\n",
    "set1 = {1, 2, 3, 4, 5}\n",
    "set2 = {4, 5, 6, 7, 8}\n",
    "\n",
    "# Find the union of the two sets using the `union()` method\n",
    "unioun_set = set1.difference(set2)\n",
    "\n",
    "print(\"difference of two set : \", unioun_set)"
   ]
  },
  {
   "cell_type": "markdown",
   "id": "966affa0-707c-45d2-9c7d-0540c1484493",
   "metadata": {},
   "source": [
    "12. Check if a set is a subset of another set.\n"
   ]
  },
  {
   "cell_type": "code",
   "execution_count": 74,
   "id": "fbe58062-7f1c-42ff-9770-1de7d7a3d7d1",
   "metadata": {},
   "outputs": [
    {
     "name": "stdout",
     "output_type": "stream",
     "text": [
      "Is set1 a subset of set2: True\n"
     ]
    }
   ],
   "source": [
    "# Define the two sets\n",
    "set1 = {1, 2, 3}\n",
    "set2 = {1, 2, 3, 4, 5}\n",
    "\n",
    "# Use the \"issubset()\" method to check if set1 is a subset of set2\n",
    "is_subset = set1.issubset(set2)\n",
    "\n",
    "# Print the result\n",
    "print(\"Is set1 a subset of set2:\", is_subset)"
   ]
  },
  {
   "cell_type": "markdown",
   "id": "6216ad60-a0d8-4c86-898b-3c6550a9f8dc",
   "metadata": {},
   "source": [
    "13. Check if a set is a superset of another set."
   ]
  },
  {
   "cell_type": "code",
   "execution_count": 76,
   "id": "9b8012ae-2c82-4dee-a272-e34c0f8f185f",
   "metadata": {},
   "outputs": [
    {
     "name": "stdout",
     "output_type": "stream",
     "text": [
      "set1 is a superset of set2\n"
     ]
    }
   ],
   "source": [
    "# Create two sets\n",
    "set1 = {1, 2, 3, 4, 5, 6}\n",
    "set2 = {3, 4}\n",
    "\n",
    "# Check if set1 is a superset of set2\n",
    "is_superset = set1.issuperset(set2)\n",
    "\n",
    "# Print the result\n",
    "if is_superset:\n",
    "    print(\"set1 is a superset of set2\")\n",
    "else:\n",
    "    print(\"set1 is not a superset of set2\")"
   ]
  },
  {
   "cell_type": "markdown",
   "id": "3ced495d-cc0a-46b1-b101-ed48f21ec879",
   "metadata": {},
   "source": [
    "14. Create a set from a list.\n"
   ]
  },
  {
   "cell_type": "code",
   "execution_count": 77,
   "id": "16ea86b7-d476-4c90-880f-13f528bbcc00",
   "metadata": {},
   "outputs": [
    {
     "name": "stdout",
     "output_type": "stream",
     "text": [
      "Original List: [2, 4, 1, 4, 3, 2, 5]\n",
      "Set from List: {1, 2, 3, 4, 5}\n"
     ]
    }
   ],
   "source": [
    "# Step 1: Create a list of elements\n",
    "my_list = [2, 4, 1, 4, 3, 2, 5]\n",
    "\n",
    "# Step 2: Use the set() constructor to convert the list into a set\n",
    "# This automatically removes duplicates and creates a set with unique elements\n",
    "my_set = set(my_list)\n",
    "\n",
    "# Step 3: Print the original list and the resulting set\n",
    "print(\"Original List:\", my_list)\n",
    "print(\"Set from List:\", my_set)"
   ]
  },
  {
   "cell_type": "markdown",
   "id": "ade86ccd-5bcf-403d-9b37-81e7a8596742",
   "metadata": {},
   "source": [
    "15. Convert a set to a list.\n"
   ]
  },
  {
   "cell_type": "code",
   "execution_count": 78,
   "id": "7916ee6c-6e1a-4488-bc3b-3099aceec6b7",
   "metadata": {},
   "outputs": [
    {
     "name": "stdout",
     "output_type": "stream",
     "text": [
      "Original Set: {1, 2, 3, 4, 5, 6, 9}\n",
      "Converted List: [1, 2, 3, 4, 5, 6, 9]\n"
     ]
    }
   ],
   "source": [
    "# Step 1: Create a set with some elements\n",
    "my_set = {3, 1, 4, 1, 5, 9, 2, 6, 5}\n",
    "\n",
    "# Step 2: Convert the set to a list using the list() function\n",
    "my_list = list(my_set)\n",
    "\n",
    "# Now, my_list contains the elements from my_set in list format\n",
    "\n",
    "# Step 3: Print the original set and the converted list\n",
    "print(\"Original Set:\", my_set)\n",
    "print(\"Converted List:\", my_list)"
   ]
  },
  {
   "cell_type": "markdown",
   "id": "002a868e-c5c9-4f21-a093-0a9d91f35bac",
   "metadata": {},
   "source": [
    "16. Remove a random element from a set"
   ]
  },
  {
   "cell_type": "code",
   "execution_count": 79,
   "id": "cfce353a-e1f6-484a-8f77-1a9e6d7dd1fc",
   "metadata": {},
   "outputs": [
    {
     "name": "stdout",
     "output_type": "stream",
     "text": [
      "Original set: {1, 2, 3, 4, 5}\n",
      "Updated set after removing 2 : {1, 3, 4, 5}\n"
     ]
    }
   ],
   "source": [
    "import random  # Import the random module\n",
    "\n",
    "# Create a set with some elements\n",
    "my_set = {1, 2, 3, 4, 5}\n",
    "\n",
    "# Display the original set\n",
    "print(\"Original set:\", my_set)\n",
    "\n",
    "# Choose a random element from the set using the random.choice() function\n",
    "random_element = random.choice(list(my_set))\n",
    "\n",
    "# Remove the chosen random element from the set using the remove() method\n",
    "my_set.remove(random_element)\n",
    "\n",
    "# Display the updated set after removing the random element\n",
    "print(\"Updated set after removing\", random_element, \":\", my_set)"
   ]
  },
  {
   "cell_type": "markdown",
   "id": "57ef193a-bd9c-4c23-b987-f7110672bbd1",
   "metadata": {},
   "source": [
    "17. Pop an element from a set."
   ]
  },
  {
   "cell_type": "code",
   "execution_count": 80,
   "id": "70835374-bce5-4e11-be1d-da0a6709f1c9",
   "metadata": {},
   "outputs": [
    {
     "name": "stdout",
     "output_type": "stream",
     "text": [
      "Original set: {1, 2, 3, 4, 5}\n",
      "Popped element: 1\n",
      "Set after popping: {2, 3, 4, 5}\n"
     ]
    }
   ],
   "source": [
    "# Create a set with some elements\n",
    "my_set = {1, 2, 3, 4, 5}\n",
    "\n",
    "# Print the original set\n",
    "print(\"Original set:\", my_set)\n",
    "\n",
    "# Pop an element from the set using the pop() method\n",
    "popped_element = my_set.pop()\n",
    "\n",
    "# Print the element that was popped\n",
    "print(\"Popped element:\", popped_element)\n",
    "\n",
    "# Print the set after popping an element\n",
    "print(\"Set after popping:\", my_set)"
   ]
  },
  {
   "cell_type": "markdown",
   "id": "ad5d0d71-40b7-4445-b606-4c88f3a70ed1",
   "metadata": {},
   "source": [
    "18. Check if two sets have no elements in common."
   ]
  },
  {
   "cell_type": "code",
   "execution_count": 81,
   "id": "03c89b64-254f-40ac-9238-8f349d892b76",
   "metadata": {},
   "outputs": [
    {
     "name": "stdout",
     "output_type": "stream",
     "text": [
      "The two sets have no elements in common.\n"
     ]
    }
   ],
   "source": [
    "# Step 1: Define two sets\n",
    "set1 = {1, 2, 3, 4}\n",
    "set2 = {5, 6, 7, 8}\n",
    "\n",
    "# Step 2: Check if the intersection of the two sets is empty\n",
    "# The intersection is the set of elements that are common to both sets\n",
    "common_elements = set1.intersection(set2)\n",
    "\n",
    "# Step 3: Check if the common_elements set is empty\n",
    "if not common_elements:\n",
    "    print(\"The two sets have no elements in common.\")\n",
    "else:\n",
    "    print(\"The two sets have common elements:\", common_elements)"
   ]
  },
  {
   "cell_type": "markdown",
   "id": "b6c0b1b0-6403-410e-a012-85c96f988fdb",
   "metadata": {},
   "source": [
    "19. Find the symmetric difference between two sets"
   ]
  },
  {
   "cell_type": "code",
   "execution_count": 82,
   "id": "815d8ff0-2762-456f-b8b9-323ea8b72850",
   "metadata": {},
   "outputs": [
    {
     "name": "stdout",
     "output_type": "stream",
     "text": [
      "Symmetric Difference: {1, 2, 3, 6, 7, 8}\n"
     ]
    }
   ],
   "source": [
    "# Define two sets\n",
    "set1 = {1, 2, 3, 4, 5}\n",
    "set2 = {4, 5, 6, 7, 8}\n",
    "\n",
    "# Calculate the symmetric difference using the ^ operator\n",
    "symmetric_difference = set1 ^ set2\n",
    "\n",
    "# Print the symmetric difference\n",
    "print(\"Symmetric Difference:\", symmetric_difference)"
   ]
  },
  {
   "cell_type": "markdown",
   "id": "c4f9a999-cd60-4bca-a12a-9274c2819cd2",
   "metadata": {},
   "source": [
    "20. Update a set with elements from another set.\n"
   ]
  },
  {
   "cell_type": "code",
   "execution_count": 83,
   "id": "17cdde7e-9642-4c02-b992-27b08a1cd1e3",
   "metadata": {},
   "outputs": [
    {
     "name": "stdout",
     "output_type": "stream",
     "text": [
      "Set 1: {1, 2, 3}\n",
      "Set 2: {3, 4, 5}\n",
      "Updated Set 1: {1, 2, 3, 4, 5}\n"
     ]
    }
   ],
   "source": [
    "# Create the first set\n",
    "set1 = {1, 2, 3}\n",
    "print(\"Set 1:\", set1)\n",
    "\n",
    "# Create the second set\n",
    "set2 = {3, 4, 5}\n",
    "print(\"Set 2:\", set2)\n",
    "\n",
    "# Update set1 with elements from set2\n",
    "set1.update(set2)\n",
    "print(\"Updated Set 1:\", set1)"
   ]
  },
  {
   "cell_type": "markdown",
   "id": "a5dceba8-239c-4445-ad27-7999a35b78e4",
   "metadata": {},
   "source": [
    "21. Create a set of the first 5 prime numbers."
   ]
  },
  {
   "cell_type": "code",
   "execution_count": 84,
   "id": "39e16e18-6c91-4bbb-bf21-7af2e4c852e9",
   "metadata": {},
   "outputs": [
    {
     "name": "stdout",
     "output_type": "stream",
     "text": [
      "Set of the first 5 prime numbers: {2, 3, 5, 7, 11}\n"
     ]
    }
   ],
   "source": [
    "# Function to check if a number is prime\n",
    "def is_prime(num):\n",
    "    if num <= 1:\n",
    "        return False\n",
    "    for i in range(2, int(num ** 0.5) + 1):\n",
    "        if num % i == 0:\n",
    "            return False\n",
    "    return True\n",
    "\n",
    "# Create an empty set to store the prime numbers\n",
    "prime_set = set()\n",
    "\n",
    "# Initialize the number to start checking for primes\n",
    "num = 2\n",
    "\n",
    "# Loop until we have found the first 5 prime numbers\n",
    "while len(prime_set) < 5:\n",
    "    # Check if the current number is prime using the is_prime function\n",
    "    if is_prime(num):\n",
    "        # If the number is prime, add it to the prime_set\n",
    "        prime_set.add(num)\n",
    "\n",
    "    # Move on to the next number for the next iteration\n",
    "    num += 1\n",
    "\n",
    "# Print the set of prime numbers\n",
    "print(\"Set of the first 5 prime numbers:\", prime_set)"
   ]
  },
  {
   "cell_type": "markdown",
   "id": "83951774-d982-45d8-b9bc-84be494d1dcb",
   "metadata": {},
   "source": [
    "22. Check if two sets are identical."
   ]
  },
  {
   "cell_type": "code",
   "execution_count": 85,
   "id": "af9ad29f-d5cc-408d-81d3-58b9c6157c2d",
   "metadata": {},
   "outputs": [
    {
     "name": "stdout",
     "output_type": "stream",
     "text": [
      "The sets are identical.\n"
     ]
    }
   ],
   "source": [
    "# Step 1: Define two sets\n",
    "set1 = {1, 2, 3, 4, 5}\n",
    "set2 = {3, 1, 5, 2, 4}  # The order of elements doesn't matter in sets\n",
    "\n",
    "# Step 2: Check if the sets are identical using the `==` operator\n",
    "# Sets are unordered collections, so the order of elements doesn't matter.\n",
    "# The `==` operator compares the content of the sets.\n",
    "if set1 == set2:\n",
    "    print(\"The sets are identical.\")\n",
    "else:\n",
    "    print(\"The sets are not identical.\")"
   ]
  },
  {
   "cell_type": "markdown",
   "id": "bdbf3614-3519-4bf8-8a33-ce7d98486d77",
   "metadata": {},
   "source": [
    "23. Create a frozen set"
   ]
  },
  {
   "cell_type": "code",
   "execution_count": 86,
   "id": "8aaa3efb-ba90-4663-a793-efcc94a5e7a4",
   "metadata": {},
   "outputs": [
    {
     "name": "stdout",
     "output_type": "stream",
     "text": [
      "Frozen Set: frozenset({1, 2, 3, 4, 5})\n"
     ]
    }
   ],
   "source": [
    "# Step 2: Define a list of elements that you want to include in the frozen set\n",
    "elements = [1, 2, 3, 4, 5]\n",
    "\n",
    "# Step 3: Create a frozen set using the 'frozenset' constructor and passing the list of elements\n",
    "my_frozen_set = frozenset(elements)\n",
    "\n",
    "# Step 4: Print the frozen set\n",
    "print(\"Frozen Set:\", my_frozen_set)"
   ]
  },
  {
   "cell_type": "markdown",
   "id": "da6c2a71-8a0b-4489-ba33-bbb667df6f1a",
   "metadata": {},
   "source": [
    "24. Check if a set is disjoint with another set."
   ]
  },
  {
   "cell_type": "code",
   "execution_count": 87,
   "id": "1aaaa961-1b50-44c2-a908-e53b2a1c290b",
   "metadata": {},
   "outputs": [
    {
     "name": "stdout",
     "output_type": "stream",
     "text": [
      "Are the sets disjoint? True\n"
     ]
    }
   ],
   "source": [
    "# Step 1: Define the two sets you want to check for disjointness\n",
    "set1 = {1, 2, 3, 4}\n",
    "set2 = {5, 6, 7, 8}\n",
    "\n",
    "# Step 2: Use the `isdisjoint()` method to check if the sets are disjoint\n",
    "# The `isdisjoint()` method returns True if the sets have no common elements,\n",
    "# and False if they have at least one common element.\n",
    "disjoint_status = set1.isdisjoint(set2)\n",
    "\n",
    "# Step 3: Print the result\n",
    "print(\"Are the sets disjoint?\", disjoint_status)"
   ]
  },
  {
   "cell_type": "markdown",
   "id": "df294241-f85c-49db-aeb2-4fa415e3e279",
   "metadata": {},
   "source": [
    "25. Create a set of squares of numbers from 1 to 5."
   ]
  },
  {
   "cell_type": "code",
   "execution_count": 88,
   "id": "63e72815-ddb0-4463-976e-0737d8b54e86",
   "metadata": {},
   "outputs": [
    {
     "name": "stdout",
     "output_type": "stream",
     "text": [
      "{1, 4, 9, 16, 25}\n"
     ]
    }
   ],
   "source": [
    "# Step 1: Create an empty set to store the squares of numbers\n",
    "squares_set = set()\n",
    "\n",
    "# Step 2: Use a loop to iterate through numbers from 1 to 5\n",
    "for num in range(1, 6):\n",
    "    # Step 3: Calculate the square of the current number\n",
    "    square = num ** 2\n",
    "\n",
    "    # Step 4: Add the square to the set\n",
    "    squares_set.add(square)\n",
    "\n",
    "# Step 5: Print the set of squares\n",
    "print(squares_set)"
   ]
  },
  {
   "cell_type": "markdown",
   "id": "d77843c8-0664-4bc2-aef6-a3de2ee77c2a",
   "metadata": {},
   "source": [
    "26. Filter out all even numbers from a set."
   ]
  },
  {
   "cell_type": "code",
   "execution_count": 89,
   "id": "fd104b42-489c-40ba-8551-b9c3c6724527",
   "metadata": {},
   "outputs": [
    {
     "name": "stdout",
     "output_type": "stream",
     "text": [
      "Original Set: {1, 2, 3, 4, 5}\n",
      "Even Numbers Set: {2, 4}\n"
     ]
    }
   ],
   "source": [
    "# Step 1: Create a set with integers from 1 to 5\n",
    "original_set = {1, 2, 3, 4, 5}\n",
    "\n",
    "# Step 2: Initialize an empty set to store the filtered even numbers\n",
    "even_numbers_set = set()\n",
    "\n",
    "# Step 3: Iterate through each element in the original set\n",
    "for num in original_set:\n",
    "    # Step 4: Check if the current number is even (divisible by 2)\n",
    "    if num % 2 == 0:\n",
    "        # Step 5: If even, add it to the even_numbers_set\n",
    "        even_numbers_set.add(num)\n",
    "\n",
    "# Step 6: Print the original set and the set containing even numbers\n",
    "print(\"Original Set:\", original_set)\n",
    "print(\"Even Numbers Set:\", even_numbers_set)"
   ]
  },
  {
   "cell_type": "markdown",
   "id": "ae66ea74-12d7-4967-bcbc-8cd131db3d84",
   "metadata": {},
   "source": [
    "27. Multiply all elements in a set by 2."
   ]
  },
  {
   "cell_type": "code",
   "execution_count": 90,
   "id": "d05d1de5-5431-42f5-b066-1562d0282b36",
   "metadata": {},
   "outputs": [
    {
     "name": "stdout",
     "output_type": "stream",
     "text": [
      "Original Set: {1, 2, 3, 4, 5}\n",
      "Multiplied Set: {2, 4, 6, 8, 10}\n"
     ]
    }
   ],
   "source": [
    "# Create a set with integers from 1 to 5\n",
    "original_set = {1, 2, 3, 4, 5}\n",
    "\n",
    "# Initialize an empty set to store the multiplied elements\n",
    "multiplied_set = set()\n",
    "\n",
    "# Loop through each element in the original set\n",
    "for num in original_set:\n",
    "    # Multiply the current element by 2\n",
    "    multiplied_num = num * 2\n",
    "\n",
    "    # Add the multiplied element to the multiplied_set\n",
    "    multiplied_set.add(multiplied_num)\n",
    "\n",
    "# The original_set remains unchanged\n",
    "print(\"Original Set:\", original_set)\n",
    "\n",
    "# Display the set with elements multiplied by 2\n",
    "print(\"Multiplied Set:\", multiplied_set)"
   ]
  },
  {
   "cell_type": "markdown",
   "id": "70868588-397e-4c4e-911f-a76c2ed2009d",
   "metadata": {},
   "source": [
    "28. Create a set of random number"
   ]
  },
  {
   "cell_type": "code",
   "execution_count": 91,
   "id": "c147dbb0-0a98-4bf0-a1ad-9c03763be145",
   "metadata": {},
   "outputs": [
    {
     "name": "stdout",
     "output_type": "stream",
     "text": [
      "Generated set of random numbers: {44, 45, 78, 47, 58}\n"
     ]
    }
   ],
   "source": [
    "# Step 1: Import the `random` module to generate random numbers\n",
    "import random\n",
    "\n",
    "# Step 2: Define the number of random numbers you want in the set\n",
    "num_random_numbers = 5\n",
    "\n",
    "# Step 3: Initialize an empty set to store the random numbers\n",
    "random_number_set = set()\n",
    "\n",
    "# Step 4: Use a loop to generate random numbers and add them to the set\n",
    "for _ in range(num_random_numbers):\n",
    "    # Generate a random integer using the `randint` function from the `random` module\n",
    "    random_num = random.randint(1, 100)  # Generate a random number between 1 and 100\n",
    "    # Add the random number to the set\n",
    "    random_number_set.add(random_num)\n",
    "\n",
    "# Step 5: Print the generated set of random numbers\n",
    "print(\"Generated set of random numbers:\", random_number_set)"
   ]
  },
  {
   "cell_type": "markdown",
   "id": "7dd4924d-ce92-402d-a1b4-29a598db36f1",
   "metadata": {},
   "source": [
    "29. Check if a set is empty."
   ]
  },
  {
   "cell_type": "code",
   "execution_count": 93,
   "id": "acd1a1d6-6f24-4bfe-b783-252c13d410db",
   "metadata": {},
   "outputs": [
    {
     "name": "stdout",
     "output_type": "stream",
     "text": [
      "The set is empty.\n"
     ]
    }
   ],
   "source": [
    "# Step 1: Create a set (you can replace this with your own set)\n",
    "my_set = set()\n",
    "\n",
    "# Step 2: Check if the set is empty using the 'if' statement\n",
    "if len(my_set) ==0:\n",
    "    print(\"The set is empty.\")\n",
    "else:\n",
    "    print(\"The set is not empty.\")"
   ]
  },
  {
   "cell_type": "markdown",
   "id": "543a4079-e41d-46e7-af67-77184e808581",
   "metadata": {},
   "source": [
    "30. Create a nested set (hint: use frozenset)"
   ]
  },
  {
   "cell_type": "code",
   "execution_count": 94,
   "id": "9e619b09-d875-47ef-a617-c0320660b6ee",
   "metadata": {},
   "outputs": [
    {
     "name": "stdout",
     "output_type": "stream",
     "text": [
      "Nested Set: {frozenset({1, 2, 3, 4, 5}), frozenset({6, 7, 8, 9, 10})}\n"
     ]
    }
   ],
   "source": [
    "# Step 1: Create the inner sets\n",
    "set1 = {1, 2, 3, 4, 5}\n",
    "set2 = {6, 7, 8, 9, 10}\n",
    "\n",
    "# Step 2: Create frozensets from the inner sets\n",
    "frozen_set1 = frozenset(set1)\n",
    "frozen_set2 = frozenset(set2)\n",
    "\n",
    "# Step 3: Create the nested set using the frozensets\n",
    "nested_set = {frozen_set1, frozen_set2}\n",
    "\n",
    "# Print the nested set\n",
    "print(\"Nested Set:\", nested_set)"
   ]
  },
  {
   "cell_type": "markdown",
   "id": "194e17d3-c222-40cc-bf33-c5a5103478a6",
   "metadata": {},
   "source": [
    "31. Remove an element from a set using the discard method."
   ]
  },
  {
   "cell_type": "code",
   "execution_count": 95,
   "id": "de7aa585-46d7-4fa8-9ef7-25423207a7a9",
   "metadata": {},
   "outputs": [
    {
     "name": "stdout",
     "output_type": "stream",
     "text": [
      "Initial set: {1, 2, 3, 4, 5}\n",
      "Set after removing 3 : {1, 2, 4, 5}\n"
     ]
    }
   ],
   "source": [
    "# Create a set with some elements\n",
    "my_set = {1, 2, 3, 4, 5}\n",
    "\n",
    "# Display the initial set\n",
    "print(\"Initial set:\", my_set)\n",
    "\n",
    "# Define the element to be removed\n",
    "element_to_remove = 3\n",
    "\n",
    "# Use the discard() method to remove the element from the set\n",
    "# If the element is not present in the set, discard() won't raise an error\n",
    "my_set.discard(element_to_remove)\n",
    "\n",
    "# Display the set after removing the element\n",
    "print(\"Set after removing\", element_to_remove, \":\", my_set)"
   ]
  },
  {
   "cell_type": "markdown",
   "id": "45104332-1efa-417b-b04e-f98386acf7ca",
   "metadata": {},
   "source": [
    "32. Compare two sets"
   ]
  },
  {
   "cell_type": "code",
   "execution_count": 96,
   "id": "507c0c0c-4c48-4163-b6e0-a27b35bce5b6",
   "metadata": {},
   "outputs": [
    {
     "name": "stdout",
     "output_type": "stream",
     "text": [
      "Set 1: {1, 2, 3, 4, 5}\n",
      "Set 2: {4, 5, 6, 7, 8}\n",
      "Is set1 a subset of set2? False\n",
      "Is set2 a subset of set1? False\n",
      "Intersection: {4, 5}\n",
      "Union: {1, 2, 3, 4, 5, 6, 7, 8}\n",
      "Elements in set1 but not in set2: {1, 2, 3}\n",
      "Elements in set2 but not in set1: {8, 6, 7}\n"
     ]
    }
   ],
   "source": [
    "# Step 1: Define two sets\n",
    "set1 = {1, 2, 3, 4, 5}\n",
    "set2 = {4, 5, 6, 7, 8}\n",
    "\n",
    "# Step 2: Use set operations to compare the sets\n",
    "# Check if set1 is a subset of set2\n",
    "is_subset = set1.issubset(set2)\n",
    "\n",
    "# Check if set2 is a subset of set1\n",
    "is_superset = set1.issuperset(set2)\n",
    "\n",
    "# Find the intersection of the sets\n",
    "intersection = set1.intersection(set2)\n",
    "\n",
    "# Find the union of the sets\n",
    "union = set1.union(set2)\n",
    "\n",
    "# Find the elements that are in set1 but not in set2\n",
    "difference1 = set1.difference(set2)\n",
    "\n",
    "# Find the elements that are in set2 but not in set1\n",
    "difference2 = set2.difference(set1)\n",
    "\n",
    "# Step 3: Print the results\n",
    "print(\"Set 1:\", set1)\n",
    "print(\"Set 2:\", set2)\n",
    "print(\"Is set1 a subset of set2?\", is_subset)\n",
    "print(\"Is set2 a subset of set1?\", is_superset)\n",
    "print(\"Intersection:\", intersection)\n",
    "print(\"Union:\", union)\n",
    "print(\"Elements in set1 but not in set2:\", difference1)\n",
    "print(\"Elements in set2 but not in set1:\", difference2)"
   ]
  },
  {
   "cell_type": "markdown",
   "id": "1738a46b-49cb-4039-b483-ab0ff1479d81",
   "metadata": {},
   "source": [
    "33. Create a set from a string.\n"
   ]
  },
  {
   "cell_type": "code",
   "execution_count": 97,
   "id": "2d1d62d9-de8e-4cc2-93e3-765f20bc9bb6",
   "metadata": {},
   "outputs": [
    {
     "name": "stdout",
     "output_type": "stream",
     "text": [
      "{'l', 'o', 'e', 'h'}\n"
     ]
    }
   ],
   "source": [
    "# Step 1: Define the input string\n",
    "input_string = \"hello\"\n",
    "\n",
    "# Step 2: Use the set() constructor to create a set from the characters in the string\n",
    "char_set = set(input_string)\n",
    "\n",
    "# Step 3: Print the resulting set\n",
    "print(char_set)"
   ]
  },
  {
   "cell_type": "markdown",
   "id": "80c5a05f-0762-4d44-b8e9-2c0a771c574e",
   "metadata": {},
   "source": [
    "34. Convert a set of strings to a set of integers."
   ]
  },
  {
   "cell_type": "code",
   "execution_count": 98,
   "id": "7d2d6762-01bc-4c99-921d-29fbc1a834dc",
   "metadata": {},
   "outputs": [
    {
     "name": "stdout",
     "output_type": "stream",
     "text": [
      "Original String Set: {'456', '789', '123'}\n",
      "Converted Integer Set: {456, 123, 789}\n"
     ]
    }
   ],
   "source": [
    "# Step 1: Create a set of strings\n",
    "string_set = {\"123\", \"456\", \"789\"}\n",
    "\n",
    "# Step 2: Initialize an empty set to store integers\n",
    "integer_set = set()\n",
    "\n",
    "# Step 3: Iterate through each string in the string set\n",
    "for string in string_set:\n",
    "    # Step 4: Convert the string to an integer using the int() function\n",
    "    integer_value = int(string)\n",
    "\n",
    "    # Step 5: Add the integer to the integer set\n",
    "    integer_set.add(integer_value)\n",
    "\n",
    "# Step 6: Print the original string set and the converted integer set\n",
    "print(\"Original String Set:\", string_set)\n",
    "print(\"Converted Integer Set:\", integer_set)"
   ]
  },
  {
   "cell_type": "markdown",
   "id": "35dee28f-bec5-4475-bea7-f8b7a73dc392",
   "metadata": {},
   "source": [
    "35. Convert a set of integers to a set of strings."
   ]
  },
  {
   "cell_type": "code",
   "execution_count": 99,
   "id": "0c6cf3de-5fc8-4684-ba7c-da48937cd422",
   "metadata": {},
   "outputs": [
    {
     "name": "stdout",
     "output_type": "stream",
     "text": [
      "Original integers_set: {1, 2, 3, 4, 5}\n",
      "Converted strings_set: {'4', '3', '2', '1', '5'}\n"
     ]
    }
   ],
   "source": [
    "# Step 1: Create a set of integers\n",
    "integers_set = {1, 2, 3, 4, 5}\n",
    "\n",
    "# Step 2: Initialize an empty set to store the strings\n",
    "strings_set = set()\n",
    "\n",
    "# Step 3: Iterate through each integer in the integers_set\n",
    "for num in integers_set:\n",
    "    # Step 4: Convert the integer to a string using the str() function\n",
    "    num_str = str(num)\n",
    "\n",
    "    # Step 5: Add the string representation to the strings_set\n",
    "    strings_set.add(num_str)\n",
    "\n",
    "# Step 6: Print the original integers_set and the converted strings_set\n",
    "print(\"Original integers_set:\", integers_set)\n",
    "print(\"Converted strings_set:\", strings_set)"
   ]
  },
  {
   "cell_type": "markdown",
   "id": "14b429d2-c8e8-49ae-934d-502fe698ed2f",
   "metadata": {},
   "source": [
    "36. Create a set from a tuple"
   ]
  },
  {
   "cell_type": "code",
   "execution_count": 100,
   "id": "83ef03c8-7bfb-48b3-860a-11a1c56e71dd",
   "metadata": {},
   "outputs": [
    {
     "name": "stdout",
     "output_type": "stream",
     "text": [
      "{1, 2, 3, 4, 5}\n"
     ]
    }
   ],
   "source": [
    "# Given tuple\n",
    "input_tuple = (1, 2, 3, 2, 4, 5, 1)\n",
    "\n",
    "# Step 1: Convert the tuple to a set\n",
    "output_set = set(input_tuple)\n",
    "# At this point, the set() function is used to convert the elements of the tuple into a set.\n",
    "# Since sets only contain unique elements, duplicate values are automatically removed.\n",
    "\n",
    "# Step 2: Print the resulting set\n",
    "print(output_set)\n",
    "# The set is now printed, and it will only contain the unique elements from the original tuple."
   ]
  },
  {
   "cell_type": "markdown",
   "id": "2849a267-965a-435d-87c4-91f1d68009da",
   "metadata": {},
   "source": [
    "37. Convert a set to a tuple.\n"
   ]
  },
  {
   "cell_type": "code",
   "execution_count": 101,
   "id": "318fe714-34f9-4f1d-b294-6dc5ae549c43",
   "metadata": {},
   "outputs": [
    {
     "name": "stdout",
     "output_type": "stream",
     "text": [
      "(1, 2, 3, 4, 5)\n"
     ]
    }
   ],
   "source": [
    "s = {1, 2, 3, 4, 5}\n",
    "output_tuple = tuple(s)\n",
    "print(output_tuple)"
   ]
  },
  {
   "cell_type": "markdown",
   "id": "98b56e6f-2613-4b7f-81e5-53cddf718a88",
   "metadata": {},
   "source": [
    "38. Find the maximum value in a set."
   ]
  },
  {
   "cell_type": "code",
   "execution_count": 102,
   "id": "caa51e2b-a2ce-48ed-ab5b-e3b003f99e22",
   "metadata": {},
   "outputs": [
    {
     "name": "stdout",
     "output_type": "stream",
     "text": [
      "Maximum value: 22\n"
     ]
    }
   ],
   "source": [
    "# Define a set with some values\n",
    "my_set = {15, 7, 22, 13, 8}\n",
    "\n",
    "# Initialize a variable to store the maximum value\n",
    "max_value = None\n",
    "\n",
    "# Iterate through each element in the set\n",
    "for num in my_set:\n",
    "    # Check if max_value is None (first iteration) or if the current number is greater than max_value\n",
    "    if max_value is None or num > max_value:\n",
    "        max_value = num  # Update max_value with the current number if it's greater\n",
    "\n",
    "# Print the maximum value\n",
    "print(\"Maximum value:\", max_value)"
   ]
  },
  {
   "cell_type": "markdown",
   "id": "b4e4350f-bf12-4c1b-8700-5234e322b38e",
   "metadata": {},
   "source": [
    "39. Find the minimum value in a set.\n"
   ]
  },
  {
   "cell_type": "code",
   "execution_count": 103,
   "id": "c9b5d87f-13da-464b-88a7-d4e15094c322",
   "metadata": {},
   "outputs": [
    {
     "name": "stdout",
     "output_type": "stream",
     "text": [
      "The minimum value in the set is: 4\n"
     ]
    }
   ],
   "source": [
    "# Create a sample set of numbers\n",
    "number_set = {15, 8, 23, 4, 42, 11}\n",
    "\n",
    "# Initialize a variable to store the minimum value\n",
    "min_value = 15\n",
    "\n",
    "# Iterate through each element in the set\n",
    "for num in number_set:\n",
    "    # Check if min_value is None (first iteration) or if num is smaller than the current min_value\n",
    "    if  num < min_value:\n",
    "        # Update min_value to the current num since it's smaller\n",
    "        min_value = num\n",
    "\n",
    "# Print the minimum value found in the set\n",
    "print(\"The minimum value in the set is:\", min_value)"
   ]
  },
  {
   "cell_type": "markdown",
   "id": "e0724e07-def5-40d2-bfbb-9e742ba2c9c2",
   "metadata": {},
   "source": [
    "40. Create a set from user input"
   ]
  },
  {
   "cell_type": "code",
   "execution_count": 104,
   "id": "c3c0d868-2cb2-445d-a230-ce4ed93363bf",
   "metadata": {},
   "outputs": [
    {
     "name": "stdout",
     "output_type": "stream",
     "text": [
      "Enter elements for the set (type 'done' to finish):\n"
     ]
    },
    {
     "name": "stdin",
     "output_type": "stream",
     "text": [
      ">  krishna\n",
      ">  kk\n",
      ">  pw\n",
      ">  done\n"
     ]
    },
    {
     "name": "stdout",
     "output_type": "stream",
     "text": [
      "Final set: {'pw', 'krishna', 'kk'}\n"
     ]
    }
   ],
   "source": [
    "# Step 1: Initialize an empty set\n",
    "user_set = set()\n",
    "\n",
    "# Step 2: Get input from the user\n",
    "print(\"Enter elements for the set (type 'done' to finish):\")\n",
    "while True:\n",
    "    user_input = input(\"> \")  # Get input from the user\n",
    "\n",
    "    if user_input.lower() == 'done':\n",
    "        break  # Exit the loop if the user enters 'done'\n",
    "\n",
    "    # Step 3: Add the user input to the set\n",
    "    user_set.add(user_input)\n",
    "\n",
    "# Step 4: Display the final set created from user input\n",
    "print(\"Final set:\", user_set)\n"
   ]
  },
  {
   "cell_type": "markdown",
   "id": "f25f78c5-67ec-48a3-97f7-03884854c604",
   "metadata": {},
   "source": [
    "41. Check if the intersection of two sets is empty."
   ]
  },
  {
   "cell_type": "code",
   "execution_count": 106,
   "id": "85f2b5db-f2fa-4539-a5cd-07de9e6eaa6b",
   "metadata": {},
   "outputs": [
    {
     "name": "stdout",
     "output_type": "stream",
     "text": [
      "the intersection of two set are not empty {2}\n"
     ]
    }
   ],
   "source": [
    "set1 = {1,2,3,4,5}\n",
    "set2 = {6,7,8,9,2}\n",
    "\n",
    "intersection = set1.intersection(set2)\n",
    "if len(intersection) == 0:\n",
    "    print(\"the intersection of two set are empty\")\n",
    "else:\n",
    "    print(\"the intersection of two set are not empty\",intersection)"
   ]
  },
  {
   "cell_type": "markdown",
   "id": "c720d388-6f07-4c5d-aa12-69fdf724bcb6",
   "metadata": {},
   "source": [
    "42. Create a set of the first 5 Fibonacci numbers."
   ]
  },
  {
   "cell_type": "code",
   "execution_count": 107,
   "id": "960be316-5132-4150-9cca-16b1a773393a",
   "metadata": {},
   "outputs": [
    {
     "name": "stdout",
     "output_type": "stream",
     "text": [
      "Set of the first 5 Fibonacci numbers: {0, 1, 2, 3, 5}\n"
     ]
    }
   ],
   "source": [
    "# Create a set to store the first 5 Fibonacci numbers\n",
    "fibonacci_set = set()\n",
    "\n",
    "# Initialize the first two Fibonacci numbers\n",
    "a, b = 0, 1\n",
    "\n",
    "# Loop to generate the first 5 Fibonacci numbers\n",
    "for _ in range(6):\n",
    "    # Add the current Fibonacci number to the set\n",
    "    fibonacci_set.add(a)\n",
    "\n",
    "    # Calculate the next Fibonacci number\n",
    "    a, b = b, a + b\n",
    "\n",
    "# Print the set of Fibonacci numbers\n",
    "print(\"Set of the first 5 Fibonacci numbers:\", fibonacci_set)\n"
   ]
  },
  {
   "cell_type": "markdown",
   "id": "90c0c6d2-8020-4b71-9c58-81f24f2ccd30",
   "metadata": {},
   "source": [
    "43. Remove duplicates from a list using sets.\n"
   ]
  },
  {
   "cell_type": "code",
   "execution_count": 108,
   "id": "84853dc7-a5be-4c59-bc2a-980653b2a223",
   "metadata": {},
   "outputs": [
    {
     "name": "stdout",
     "output_type": "stream",
     "text": [
      "Original List: [2, 4, 6, 8, 4, 10, 6, 12, 14, 8]\n",
      "List with Duplicates Removed: [2, 4, 6, 8, 10, 12, 14]\n"
     ]
    }
   ],
   "source": [
    "# Step 1: Define a list with duplicates\n",
    "original_list = [2, 4, 6, 8, 4, 10, 6, 12, 14, 8]\n",
    "\n",
    "# Step 2: Convert the list to a set\n",
    "unique_set = set(original_list)\n",
    "# Now, 'unique_set' contains only unique elements from 'original_list'\n",
    "\n",
    "# Step 3: Convert the set back to a list\n",
    "unique_list = list(unique_set)\n",
    "# Now, 'unique_list' is a list containing only unique elements\n",
    "\n",
    "# Step 4: Print the original list and the list with duplicates removed\n",
    "print(\"Original List:\", original_list)\n",
    "print(\"List with Duplicates Removed:\", unique_list)"
   ]
  },
  {
   "cell_type": "markdown",
   "id": "746e45a5-a566-4d7d-8009-89046753612c",
   "metadata": {},
   "source": [
    "44. Check if two sets have the same elements, regardless of their count."
   ]
  },
  {
   "cell_type": "code",
   "execution_count": 109,
   "id": "891a797e-ea74-4ca0-9fc3-c932917cc615",
   "metadata": {},
   "outputs": [
    {
     "name": "stdout",
     "output_type": "stream",
     "text": [
      "The sets have the same elements.\n"
     ]
    }
   ],
   "source": [
    "def have_same_elements(set1, set2):\n",
    "    # Convert the sets to lists and sort them\n",
    "    sorted_list1 = sorted(list(set1))\n",
    "    sorted_list2 = sorted(list(set2))\n",
    "\n",
    "    # Compare the sorted lists to check if they are equal\n",
    "    return sorted_list1 == sorted_list2\n",
    "\n",
    "# Example sets\n",
    "set1 = {1, 2, 3, 2, 1}\n",
    "set2 = {3, 1, 2}\n",
    "\n",
    "# Check if the sets have the same elements\n",
    "result = have_same_elements(set1, set2)\n",
    "\n",
    "# Print the result\n",
    "if result:\n",
    "    print(\"The sets have the same elements.\")\n",
    "else:\n",
    "    print(\"The sets do not have the same elements.\")"
   ]
  },
  {
   "cell_type": "markdown",
   "id": "b64d0d99-8868-4cab-9f57-84a3d9ccfca2",
   "metadata": {},
   "source": [
    "45. Create a set of the first `n` powers of 2"
   ]
  },
  {
   "cell_type": "code",
   "execution_count": 110,
   "id": "f86296d4-e64b-4ec1-a56f-7d85a4587139",
   "metadata": {},
   "outputs": [
    {
     "name": "stdout",
     "output_type": "stream",
     "text": [
      "{1, 2, 4, 8, 16}\n"
     ]
    }
   ],
   "source": [
    "def generate_powers_of_2(n):\n",
    "    # Initialize an empty set to store the powers of 2\n",
    "    powers_of_2 = set()\n",
    "\n",
    "    # Loop from 0 to n-1\n",
    "    for i in range(n):\n",
    "        # Calculate the current power of 2 using the exponentiation operator **\n",
    "        power = 2 ** i\n",
    "\n",
    "        # Add the current power of 2 to the set\n",
    "        powers_of_2.add(power)\n",
    "\n",
    "    # Return the set of powers of 2\n",
    "    return powers_of_2\n",
    "\n",
    "# Define the value of n\n",
    "n = 5\n",
    "\n",
    "# Call the function to generate the set of powers of 2\n",
    "powers_set = generate_powers_of_2(n)\n",
    "\n",
    "# Print the resulting set\n",
    "print(powers_set)"
   ]
  },
  {
   "cell_type": "markdown",
   "id": "c6cc4cc8-6e21-41b5-9758-3d6ada497cc3",
   "metadata": {},
   "source": [
    "46. Find the common elements between a set and a list.\n"
   ]
  },
  {
   "cell_type": "code",
   "execution_count": 112,
   "id": "4a0a336d-7187-40bb-8ebc-18d069e00a96",
   "metadata": {},
   "outputs": [
    {
     "name": "stdout",
     "output_type": "stream",
     "text": [
      "Common elements: [7, 9, 12]\n"
     ]
    }
   ],
   "source": [
    "# Step 1: Define a set and a list\n",
    "my_set = {3, 7, 9, 12, 15}\n",
    "my_list = [7, 12, 5, 9]\n",
    "\n",
    "# Step 2: Convert the list to a set for efficient comparison\n",
    "list_to_set = set(my_list)\n",
    "\n",
    "# Step 3: Initialize an empty list to store common elements\n",
    "common_elements = []\n",
    "\n",
    "# Step 4: Iterate through the elements in the set\n",
    "for element in my_set:\n",
    "    # Step 5: Check if the element is present in the converted set (list_to_set)\n",
    "    if element in list_to_set:\n",
    "        # Step 6: If the element is present in both the set and the list, add it to the common_elements list\n",
    "        common_elements.append(element)\n",
    "\n",
    "# Step 7: Print the common elements\n",
    "print(\"Common elements:\", common_elements)"
   ]
  },
  {
   "cell_type": "markdown",
   "id": "602ff031-54fb-4037-87c5-b7df233636cd",
   "metadata": {},
   "source": [
    "47. Create a set of the first `n` triangular numbers."
   ]
  },
  {
   "cell_type": "code",
   "execution_count": 113,
   "id": "751fa99f-6fb1-49b1-aca8-dea50a6456f7",
   "metadata": {},
   "outputs": [
    {
     "name": "stdin",
     "output_type": "stream",
     "text": [
      "Enter the value of n:  10\n"
     ]
    },
    {
     "name": "stdout",
     "output_type": "stream",
     "text": [
      "The set of the first 10 triangular numbers is: {1, 3, 36, 6, 10, 45, 15, 21, 55, 28}\n"
     ]
    }
   ],
   "source": [
    "def generate_triangular_numbers(n):\n",
    "    triangular_numbers = set()  # Create an empty set to store the triangular numbers\n",
    "    for i in range(1, n + 1):\n",
    "        triangular_number = i * (i + 1) // 2  # Calculate the ith triangular number using the formula\n",
    "        triangular_numbers.add(triangular_number)  # Add the calculated triangular number to the set\n",
    "    return triangular_numbers\n",
    "\n",
    "# Input the value of 'n'\n",
    "n = int(input(\"Enter the value of n: \"))\n",
    "\n",
    "# Call the function to generate the set of first 'n' triangular numbers\n",
    "triangular_set = generate_triangular_numbers(n)\n",
    "\n",
    "# Display the set of triangular numbers\n",
    "print(f\"The set of the first {n} triangular numbers is:\", triangular_set)"
   ]
  },
  {
   "cell_type": "markdown",
   "id": "6f228f61-d500-4ec9-a191-cb6291c1e0c2",
   "metadata": {},
   "source": [
    "48. Check if a set contains another set as a subset."
   ]
  },
  {
   "cell_type": "code",
   "execution_count": 114,
   "id": "261a6443-9790-449c-9bdd-e49b5ea74624",
   "metadata": {},
   "outputs": [
    {
     "name": "stdout",
     "output_type": "stream",
     "text": [
      "set2 is a subset of set1\n"
     ]
    }
   ],
   "source": [
    "# Define two sets\n",
    "set1 = {1, 2, 3, 4, 5}\n",
    "set2 = {3, 4}\n",
    "\n",
    "# Check if set2 is a subset of set1\n",
    "is_subset = set2.issubset(set1)\n",
    "\n",
    "# Print the result\n",
    "if is_subset:\n",
    "    print(\"set2 is a subset of set1\")\n",
    "else:\n",
    "    print(\"set2 is not a subset of set1\")"
   ]
  },
  {
   "cell_type": "markdown",
   "id": "b426da1a-50ab-49ec-8d2e-0fc951a917ee",
   "metadata": {},
   "source": [
    "49. Create a set of alternating 1s and 0s of length `n`."
   ]
  },
  {
   "cell_type": "code",
   "execution_count": 116,
   "id": "758c7bea-91f1-4288-8612-618313da2666",
   "metadata": {},
   "outputs": [
    {
     "name": "stdout",
     "output_type": "stream",
     "text": [
      "{0, 1}\n"
     ]
    }
   ],
   "source": [
    "def create_alternating_set(n):\n",
    "    # Initialize an empty set to store the alternating sequence.\n",
    "    alternating_set = set()\n",
    "\n",
    "    # Loop to generate alternating 1s and 0s.\n",
    "    for i in range(n):\n",
    "        # Alternate between adding 1 and 0 to the set based on whether i is even or odd.\n",
    "        if i % 2 == 0:\n",
    "            alternating_set.add(1)  # Add 1 if i is even.\n",
    "        else:\n",
    "            alternating_set.add(0)  # Add 0 if i is odd.\n",
    "\n",
    "    return alternating_set\n",
    "\n",
    "# Define the desired length of the alternating set.\n",
    "length_n = 10\n",
    "\n",
    "# Call the function to create the alternating set of length 'length_n'.\n",
    "result = create_alternating_set(length_n)\n",
    "\n",
    "# Print the resulting set.\n",
    "print(result)"
   ]
  },
  {
   "cell_type": "markdown",
   "id": "03c48af0-878a-4636-b59c-4edd37624bce",
   "metadata": {},
   "source": [
    "50. Merge multiple sets into one"
   ]
  },
  {
   "cell_type": "code",
   "execution_count": 117,
   "id": "14e9ddf7-66e0-4254-909e-9da32c8b567b",
   "metadata": {},
   "outputs": [
    {
     "name": "stdout",
     "output_type": "stream",
     "text": [
      "Merged Set: {1, 2, 3, 4, 5, 6, 7}\n"
     ]
    }
   ],
   "source": [
    "# Step 1: Create multiple sets\n",
    "set1 = {1, 2, 3}\n",
    "set2 = {3, 4, 5}\n",
    "set3 = {5, 6, 7}\n",
    "\n",
    "# Step 2: Use the union() method to merge sets\n",
    "merged_set = set1.union(set2, set3)\n",
    "\n",
    "# Alternatively, you can use the | operator\n",
    "# merged_set = set1 | set2 | set3\n",
    "\n",
    "# Step 3: Print the merged set\n",
    "print(\"Merged Set:\", merged_set)"
   ]
  },
  {
   "cell_type": "code",
   "execution_count": null,
   "id": "7d2a5a55-ea02-42b1-8d62-dd3b17c9a68e",
   "metadata": {},
   "outputs": [],
   "source": []
  }
 ],
 "metadata": {
  "kernelspec": {
   "display_name": "Python 3 (ipykernel)",
   "language": "python",
   "name": "python3"
  },
  "language_info": {
   "codemirror_mode": {
    "name": "ipython",
    "version": 3
   },
   "file_extension": ".py",
   "mimetype": "text/x-python",
   "name": "python",
   "nbconvert_exporter": "python",
   "pygments_lexer": "ipython3",
   "version": "3.10.8"
  }
 },
 "nbformat": 4,
 "nbformat_minor": 5
}

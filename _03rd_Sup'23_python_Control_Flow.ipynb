{
 "cells": [
  {
   "cell_type": "markdown",
   "id": "7051b2c1-4e7f-4dd1-bc75-0a5a3b67ef42",
   "metadata": {},
   "source": [
    "--------------------------------------------"
   ]
  },
  {
   "cell_type": "markdown",
   "id": "53808f03-5887-4508-9fac-ba08bbff57a8",
   "metadata": {},
   "source": [
    "Control Flow Assignment Questions\n",
    "----------------------------"
   ]
  },
  {
   "cell_type": "markdown",
   "id": "e13e2674-1e0d-4318-9127-f78f499c6de4",
   "metadata": {},
   "source": [
    "-----------------------------------------------------"
   ]
  },
  {
   "cell_type": "markdown",
   "id": "19fbff2c-b25f-4541-929f-24ddc428a8e7",
   "metadata": {},
   "source": [
    "``Basic If-Else Statements:``"
   ]
  },
  {
   "cell_type": "markdown",
   "id": "bcd79937-efb7-4c80-8560-9f10a6f4a7af",
   "metadata": {},
   "source": [
    "1. Write a Python program to check if a given number is positive or negative"
   ]
  },
  {
   "cell_type": "code",
   "execution_count": 2,
   "id": "1f096614-1447-4da6-9795-72a5fbf64890",
   "metadata": {},
   "outputs": [
    {
     "name": "stdin",
     "output_type": "stream",
     "text": [
      "enter the number: -8\n"
     ]
    },
    {
     "name": "stdout",
     "output_type": "stream",
     "text": [
      "Number is a Negative\n"
     ]
    }
   ],
   "source": [
    "##  give number from user\n",
    "number= int(input(\"enter the number:\"))\n",
    "\n",
    "## check if number is negative\n",
    "if number < 0:\n",
    "    print(\"Number is a Negative\")\n",
    "else:\n",
    "    print(\"Number is a positive\")"
   ]
  },
  {
   "cell_type": "markdown",
   "id": "7fb8125e-3daa-4f97-ab59-0c84219a0daf",
   "metadata": {},
   "source": [
    "2. Create a program that determines if a person is eligible to vote based on their age."
   ]
  },
  {
   "cell_type": "code",
   "execution_count": 3,
   "id": "e7f45f91-fcda-452a-ae5c-5feb4eb666c5",
   "metadata": {},
   "outputs": [
    {
     "name": "stdin",
     "output_type": "stream",
     "text": [
      "enter your age: 17\n"
     ]
    },
    {
     "name": "stdout",
     "output_type": "stream",
     "text": [
      "Not eligible for Vote\n"
     ]
    }
   ],
   "source": [
    "## enter your age\n",
    "age = int(input(\"enter your age:\"))\n",
    "\n",
    "## cheak person is eligible fro vote\n",
    "if age >= 18 :\n",
    "    print(\"yes , Person is eligible for vote\")\n",
    "else:\n",
    "    print(\"Not eligible for Vote\")"
   ]
  },
  {
   "cell_type": "markdown",
   "id": "0bcf4c2e-94b2-4766-ad38-6ffcd89dcaac",
   "metadata": {},
   "source": [
    "3. Develop a program to find the maximum of two numbers using if-else statements."
   ]
  },
  {
   "cell_type": "code",
   "execution_count": 4,
   "id": "7358e4a5-68e9-423e-85ea-77b6021016f1",
   "metadata": {},
   "outputs": [
    {
     "name": "stdout",
     "output_type": "stream",
     "text": [
      "b is a maximum number\n"
     ]
    }
   ],
   "source": [
    "## define two number\n",
    "a = 10\n",
    "b = 20\n",
    "\n",
    "## cheak maximum number\n",
    "if a > b:\n",
    "    print(\"a is a maximum number\")\n",
    "else:\n",
    "    print(\"b is a maximum number\")"
   ]
  },
  {
   "cell_type": "markdown",
   "id": "d31c4c7c-22a8-4fa4-b292-eea7718a2caa",
   "metadata": {},
   "source": [
    "4. Write a Python script to classify a given year as a leap year or not."
   ]
  },
  {
   "cell_type": "code",
   "execution_count": 7,
   "id": "ea7d3a1c-7571-4151-b994-02c67f97720c",
   "metadata": {},
   "outputs": [
    {
     "name": "stdin",
     "output_type": "stream",
     "text": [
      "enter the year : 2021\n"
     ]
    },
    {
     "name": "stdout",
     "output_type": "stream",
     "text": [
      "2021 is not leap year\n"
     ]
    }
   ],
   "source": [
    "## enter the year\n",
    "year = int(input(\"enter the year :\"))\n",
    "\n",
    "## cheak year is a leap year\n",
    "if year % 400 == 0:\n",
    "    print(f\"{year} is leap year\")\n",
    "elif year%4 ==0 and year%100 != 0:\n",
    "    print(f\"{year} is a leap year\")\n",
    "else:\n",
    "    print(f\"{year} is not leap year\")"
   ]
  },
  {
   "cell_type": "markdown",
   "id": "90239fd3-1264-4ad6-9de5-3022bd7c6121",
   "metadata": {},
   "source": [
    "5. Create a program that checks whether a character is a vowel or a consonant."
   ]
  },
  {
   "cell_type": "code",
   "execution_count": 8,
   "id": "da9165aa-3f64-47b8-9b06-397b77a25547",
   "metadata": {},
   "outputs": [
    {
     "name": "stdin",
     "output_type": "stream",
     "text": [
      "enter a character: k\n"
     ]
    },
    {
     "name": "stdout",
     "output_type": "stream",
     "text": [
      "character is Consonant\n"
     ]
    }
   ],
   "source": [
    "## enter your character\n",
    "char = input(\"enter a character:\")\n",
    "\n",
    "## cheak if vowel\n",
    "if char.lower() in \"aeiou\":\n",
    "    print(\"character is Vowel\")\n",
    "else:\n",
    "    print(\"character is Consonant\")"
   ]
  },
  {
   "cell_type": "markdown",
   "id": "411a47c3-5607-43fd-b630-ec3ffeb7ac08",
   "metadata": {},
   "source": [
    "6. Implement a program to determine whether a given number is even or odd."
   ]
  },
  {
   "cell_type": "code",
   "execution_count": 9,
   "id": "2722e34c-3b6f-410f-8faf-df6d57694400",
   "metadata": {},
   "outputs": [
    {
     "name": "stdin",
     "output_type": "stream",
     "text": [
      "enter the number : 2\n"
     ]
    },
    {
     "name": "stdout",
     "output_type": "stream",
     "text": [
      "2 is a even\n"
     ]
    }
   ],
   "source": [
    "## enter number\n",
    "number = int(input(\"enter the number :\"))\n",
    "\n",
    "## cheak given number is a even or odd\n",
    "if number%2 == 0:\n",
    "    print(f\"{number} is a even\")\n",
    "else:\n",
    "    print(f\"{number} is a Odd\")"
   ]
  },
  {
   "cell_type": "markdown",
   "id": "d655562b-2739-44a5-a0ad-e2f3ad647e9b",
   "metadata": {},
   "source": [
    "7. Write a Python function to calculate the absolute value of a number without using the `abs()` function."
   ]
  },
  {
   "cell_type": "code",
   "execution_count": 13,
   "id": "59a0c712-df3d-488b-86ce-06bd30485580",
   "metadata": {},
   "outputs": [
    {
     "name": "stdin",
     "output_type": "stream",
     "text": [
      "Enter a number:  -5\n"
     ]
    },
    {
     "name": "stdout",
     "output_type": "stream",
     "text": [
      "The absolute value of -5.0 is 5.0\n"
     ]
    }
   ],
   "source": [
    "number = float(input(\"Enter a number: \"))\n",
    "if number < 0:\n",
    "        print(f\"The absolute value of {number} is {-number}\")\n",
    "else:\n",
    "        print(f\"The absolute value of {number} is {number}\")"
   ]
  },
  {
   "cell_type": "markdown",
   "id": "6a334862-de9d-4ba4-976d-82f974c33109",
   "metadata": {},
   "source": [
    "8. Develop a program that determines the largest of three given numbers using if-else statements."
   ]
  },
  {
   "cell_type": "code",
   "execution_count": 15,
   "id": "112e7916-7176-41ab-9315-b3e889287547",
   "metadata": {},
   "outputs": [
    {
     "name": "stdin",
     "output_type": "stream",
     "text": [
      "Enter the first number:  56\n",
      "Enter the second number:  5\n",
      "Enter the third number:  44\n"
     ]
    },
    {
     "name": "stdout",
     "output_type": "stream",
     "text": [
      "The largest number : 56.0\n"
     ]
    }
   ],
   "source": [
    "# Input three numbers from the user\n",
    "num1 = float(input(\"Enter the first number: \"))\n",
    "num2 = float(input(\"Enter the second number: \"))\n",
    "num3 = float(input(\"Enter the third number: \"))\n",
    "\n",
    "# Compare the numbers to find the largest\n",
    "if num1 >= num2 and num1 >= num3:\n",
    "    largest = num1\n",
    "elif num2 >= num1 and num2 >= num3:\n",
    "    largest = num2\n",
    "else:\n",
    "    largest = num3\n",
    "\n",
    "# Print the result\n",
    "print(f\"The largest number : {largest}\")\n"
   ]
  },
  {
   "cell_type": "markdown",
   "id": "a59100dd-58aa-45b0-af0c-f29ad580bb2a",
   "metadata": {},
   "source": [
    "9. Create a program that checks if a given string is a palindrome."
   ]
  },
  {
   "cell_type": "code",
   "execution_count": 16,
   "id": "76a7dd49-a655-4426-aeae-e6926cfbc00b",
   "metadata": {},
   "outputs": [
    {
     "name": "stdin",
     "output_type": "stream",
     "text": [
      "Enter a string:  krishna\n"
     ]
    },
    {
     "name": "stdout",
     "output_type": "stream",
     "text": [
      "'krishna' is not a palindrome.\n"
     ]
    }
   ],
   "source": [
    "def is_palindrome(string):\n",
    "    # Remove spaces and convert to lowercase\n",
    "    string = string.replace(\" \", \"\").lower()\n",
    "    \n",
    "    # Compare the original string with its reverse\n",
    "    return string == string[::-1]\n",
    "\n",
    "# Input a string from the user\n",
    "user_input = input(\"Enter a string: \")\n",
    "\n",
    "if is_palindrome(user_input):\n",
    "    print(f\"'{user_input}' is a palindrome.\")\n",
    "else:\n",
    "    print(f\"'{user_input}' is not a palindrome.\")\n"
   ]
  },
  {
   "cell_type": "markdown",
   "id": "241d6377-64a9-489e-8b2d-f5f85c7108bd",
   "metadata": {},
   "source": [
    "10. Write a Python program to calculate the grade based on a student's score."
   ]
  },
  {
   "cell_type": "code",
   "execution_count": 17,
   "id": "541c41f7-e346-4101-89e9-9db5091c2e44",
   "metadata": {},
   "outputs": [
    {
     "name": "stdin",
     "output_type": "stream",
     "text": [
      "Enter the student's score:  90\n"
     ]
    },
    {
     "name": "stdout",
     "output_type": "stream",
     "text": [
      "Student's grade: A\n"
     ]
    }
   ],
   "source": [
    "def calculate_grade(score):\n",
    "    if 90 <= score <= 100:\n",
    "        return 'A'\n",
    "    elif 80 <= score < 90:\n",
    "        return 'B'\n",
    "    elif 70 <= score < 80:\n",
    "        return 'C'\n",
    "    elif 60 <= score < 70:\n",
    "        return 'D'\n",
    "    elif 0 <= score < 60:\n",
    "        return 'F'\n",
    "    else:\n",
    "        return 'Invalid Score'\n",
    "\n",
    "# Input the student's score from the user\n",
    "score = float(input(\"Enter the student's score: \"))\n",
    "\n",
    "# Calculate the grade\n",
    "grade = calculate_grade(score)\n",
    "\n",
    "# Print the result\n",
    "print(f\"Student's grade: {grade}\")\n"
   ]
  },
  {
   "cell_type": "markdown",
   "id": "e978ef7c-e142-4d1f-ac01-9f3ec7388dd3",
   "metadata": {},
   "source": [
    "---------------------------------------------------------"
   ]
  },
  {
   "cell_type": "markdown",
   "id": "727833da-095f-4b1c-82fd-4fc93ffc0a36",
   "metadata": {},
   "source": [
    "``Nested If-Else Statements:``"
   ]
  },
  {
   "cell_type": "markdown",
   "id": "bd7fe39c-df28-4c90-9ee0-056269d5fa8a",
   "metadata": {},
   "source": [
    "----------------------------------------------------------------"
   ]
  },
  {
   "cell_type": "markdown",
   "id": "fe360165-f51d-4a5b-ae46-53d88878d82d",
   "metadata": {},
   "source": [
    "11. Write a program to find the largest among three numbers using nested if-else statements."
   ]
  },
  {
   "cell_type": "code",
   "execution_count": 1,
   "id": "1115e03f-6ed1-4b18-85e2-2eb90dd47660",
   "metadata": {},
   "outputs": [
    {
     "name": "stdin",
     "output_type": "stream",
     "text": [
      "Enter the first number:  55\n",
      "Enter the second number:  4\n",
      "Enter the third number:  10\n"
     ]
    },
    {
     "name": "stdout",
     "output_type": "stream",
     "text": [
      "The largest number is: 55.0\n"
     ]
    }
   ],
   "source": [
    "# Input three numbers from the user\n",
    "num1 = float(input(\"Enter the first number: \"))\n",
    "num2 = float(input(\"Enter the second number: \"))\n",
    "num3 = float(input(\"Enter the third number: \"))\n",
    "\n",
    "# Compare the numbers using nested if-else statements\n",
    "if num1 >= num2:\n",
    "    if num1 >= num3:\n",
    "        largest = num1\n",
    "    else:\n",
    "        largest = num3\n",
    "else:\n",
    "    if num2 >= num3:\n",
    "        largest = num2\n",
    "    else:\n",
    "        largest = num3\n",
    "\n",
    "# Display the largest number\n",
    "print(\"The largest number is:\", largest)\n"
   ]
  },
  {
   "cell_type": "markdown",
   "id": "9c8d88f6-b828-43d7-9505-ddaff5843d79",
   "metadata": {},
   "source": [
    "12. Implement a program to determine if a triangle is equilateral, isosceles, or scalene."
   ]
  },
  {
   "cell_type": "code",
   "execution_count": 3,
   "id": "7a711543-812c-43b7-8693-aeb56745d0b5",
   "metadata": {},
   "outputs": [
    {
     "name": "stdin",
     "output_type": "stream",
     "text": [
      "enter side 1: 10\n",
      "enter side 2: 10\n",
      "enter side 3: 10\n"
     ]
    },
    {
     "name": "stdout",
     "output_type": "stream",
     "text": [
      "Equilateral triangle\n"
     ]
    }
   ],
   "source": [
    "## enter triange sides\n",
    "a  = int(input(\"enter side 1:\"))\n",
    "b = int(input(\"enter side 2:\"))\n",
    "c = int(input(\"enter side 3:\"))\n",
    "\n",
    "## cheack equilateral triangle\n",
    "if a+b > c and b+c > a and c+a > b:\n",
    "    if a == b == c:\n",
    "        print(\"Equilateral triangle\")\n",
    "    elif a==b or b==c or c==a:\n",
    "        print(\"isosceles triangle\")\n",
    "    else:\n",
    "        print(\"scalene triangle\")\n",
    "else:\n",
    "    print(\"It does not form a valid triangle.\")\n",
    "        \n",
    "        \n",
    "    "
   ]
  },
  {
   "cell_type": "markdown",
   "id": "5a4aa4b2-55c9-4fa4-962d-effbc97b901e",
   "metadata": {},
   "source": [
    "13. Develop a program that checks if a year is a leap year and also if it is a century year."
   ]
  },
  {
   "cell_type": "code",
   "execution_count": 4,
   "id": "4868f05f-575d-4322-a22e-912b09b132c3",
   "metadata": {},
   "outputs": [
    {
     "name": "stdin",
     "output_type": "stream",
     "text": [
      "enter the year: 2000\n"
     ]
    },
    {
     "name": "stdout",
     "output_type": "stream",
     "text": [
      "the year is a leap year :2000\n",
      "the year is a century year: 2000\n"
     ]
    }
   ],
   "source": [
    "## enter the year \n",
    "year = int(input(\"enter the year:\"))\n",
    "\n",
    "## cheak year is a leap year or cheak year isa century year\n",
    "\n",
    "if year%400 ==0 or year%4 ==0 and year%100 != 0:\n",
    "    print(f\"the year is a leap year :{year}\")\n",
    "if year%100 == 0:\n",
    "    print(f\"the year is a century year: {year}\")"
   ]
  },
  {
   "cell_type": "markdown",
   "id": "15b798e2-d964-4819-a937-48abcd50a6fc",
   "metadata": {},
   "source": [
    "14. Write a Python script to determine if a number is positive, negative, or zero"
   ]
  },
  {
   "cell_type": "code",
   "execution_count": 5,
   "id": "ea6247ba-6691-40df-9cee-8e542b9fba3c",
   "metadata": {},
   "outputs": [
    {
     "name": "stdin",
     "output_type": "stream",
     "text": [
      "Enter a number:  10\n"
     ]
    },
    {
     "name": "stdout",
     "output_type": "stream",
     "text": [
      "The number is positive.\n"
     ]
    }
   ],
   "source": [
    "# Input a number from the user\n",
    "number = float(input(\"Enter a number: \"))\n",
    "\n",
    "# Check if the number is positive, negative, or zero\n",
    "if number > 0:\n",
    "    print(\"The number is positive.\")\n",
    "elif number < 0:\n",
    "    print(\"The number is negative.\")\n",
    "else:\n",
    "    print(\"The number is zero.\")\n"
   ]
  },
  {
   "cell_type": "markdown",
   "id": "adbaae84-3ac8-4a05-870d-b9ddeb4df736",
   "metadata": {},
   "source": [
    "15. Create a program to check if a person is a teenager (between 13 and 19 years old)."
   ]
  },
  {
   "cell_type": "code",
   "execution_count": 6,
   "id": "772d15af-2754-4eec-a114-297c31928025",
   "metadata": {},
   "outputs": [
    {
     "name": "stdin",
     "output_type": "stream",
     "text": [
      "Enter the person's age:  18\n"
     ]
    },
    {
     "name": "stdout",
     "output_type": "stream",
     "text": [
      "The person is a teenager.\n"
     ]
    }
   ],
   "source": [
    "# Input the person's age\n",
    "age = int(input(\"Enter the person's age: \"))\n",
    "\n",
    "# Check if the person is a teenager\n",
    "if 13 <= age <= 19:\n",
    "    print(\"The person is a teenager.\")\n",
    "else:\n",
    "    print(\"The person is not a teenager.\")\n"
   ]
  },
  {
   "cell_type": "markdown",
   "id": "9cdb0b30-ab61-40a7-a2a8-cf42d27df0c8",
   "metadata": {},
   "source": [
    "16. Develop a program that determines the type of angle based on its measure (acute, obtuse, or right)."
   ]
  },
  {
   "cell_type": "code",
   "execution_count": 7,
   "id": "c8c674ff-11e7-49c9-ae4c-d5af5a65d460",
   "metadata": {},
   "outputs": [
    {
     "name": "stdin",
     "output_type": "stream",
     "text": [
      "Enter the angle measure in degrees:  90\n"
     ]
    },
    {
     "name": "stdout",
     "output_type": "stream",
     "text": [
      "The angle is a right angle.\n"
     ]
    }
   ],
   "source": [
    "# Input the angle measure from the user\n",
    "angle = float(input(\"Enter the angle measure in degrees: \"))\n",
    "\n",
    "# Check the type of angle\n",
    "if angle < 90:\n",
    "    print(\"The angle is acute.\")\n",
    "elif angle == 90:\n",
    "    print(\"The angle is a right angle.\")\n",
    "elif angle > 90 and angle < 180:\n",
    "    print(\"The angle is obtuse.\")\n",
    "else:\n",
    "    print(\"The angle is neither acute, obtuse, nor right.\")\n"
   ]
  },
  {
   "cell_type": "markdown",
   "id": "5b354c32-b904-45ed-84a3-703401a8272b",
   "metadata": {},
   "source": [
    "17. Write a Python program to calculate the roots of a quadratic equation."
   ]
  },
  {
   "cell_type": "code",
   "execution_count": 8,
   "id": "b8ee140f-c032-47b5-8731-8a6f03c4fab2",
   "metadata": {},
   "outputs": [
    {
     "name": "stdin",
     "output_type": "stream",
     "text": [
      "Enter the coefficient a:  4\n",
      "Enter the coefficient b:  2\n",
      "Enter the coefficient c:  1\n"
     ]
    },
    {
     "name": "stdout",
     "output_type": "stream",
     "text": [
      "Complex roots:\n",
      "Root 1: -0.25 + 0.4330127018922193i\n",
      "Root 2: -0.25 - 0.4330127018922193i\n"
     ]
    }
   ],
   "source": [
    "import math\n",
    "\n",
    "# Input coefficients of the quadratic equation\n",
    "a = float(input(\"Enter the coefficient a: \"))\n",
    "b = float(input(\"Enter the coefficient b: \"))\n",
    "c = float(input(\"Enter the coefficient c: \"))\n",
    "\n",
    "# Calculate the discriminant\n",
    "discriminant = b**2 - 4*a*c\n",
    "\n",
    "# Check the discriminant to determine the nature of the roots\n",
    "if discriminant > 0:\n",
    "    # Two real and distinct roots\n",
    "    root1 = (-b + math.sqrt(discriminant)) / (2*a)\n",
    "    root2 = (-b - math.sqrt(discriminant)) / (2*a)\n",
    "    print(\"Two real and distinct roots:\")\n",
    "    print(f\"Root 1: {root1}\")\n",
    "    print(f\"Root 2: {root2}\")\n",
    "elif discriminant == 0:\n",
    "    # One real root (repeated)\n",
    "    root = -b / (2*a)\n",
    "    print(\"One real and repeated root:\")\n",
    "    print(f\"Root: {root}\")\n",
    "else:\n",
    "    # Complex roots\n",
    "    real_part = -b / (2*a)\n",
    "    imaginary_part = math.sqrt(abs(discriminant)) / (2*a)\n",
    "    print(\"Complex roots:\")\n",
    "    print(f\"Root 1: {real_part} + {imaginary_part}i\")\n",
    "    print(f\"Root 2: {real_part} - {imaginary_part}i\")\n"
   ]
  },
  {
   "cell_type": "markdown",
   "id": "a1de8c30-151e-4cac-8af1-418b9de1b759",
   "metadata": {},
   "source": [
    "18. Implement a program to determine the day of the week based on a user-provided number (1 for Monday, 2\n",
    "for Tuesday, etc.)."
   ]
  },
  {
   "cell_type": "code",
   "execution_count": 10,
   "id": "1d9f1c26-57b9-406e-9736-dde025fc0887",
   "metadata": {},
   "outputs": [
    {
     "name": "stdin",
     "output_type": "stream",
     "text": [
      "Enter a number (1 for Monday, 2 for Tuesday, etc. 1\n"
     ]
    },
    {
     "name": "stdout",
     "output_type": "stream",
     "text": [
      "The day corresponding to the number 1 is Monday.\n"
     ]
    }
   ],
   "source": [
    "# Input a number representing the day of the week\n",
    "day_number = int(input(\"Enter a number (1 for Monday, 2 for Tuesday, etc.\"))\n",
    "\n",
    "# Determine the day of the week using nested if-else statements\n",
    "if day_number == 1:\n",
    "    day = \"Monday\"\n",
    "elif day_number == 2:\n",
    "    day = \"Tuesday\"\n",
    "elif day_number == 3:\n",
    "    day = \"Wednesday\"\n",
    "elif day_number == 4:\n",
    "    day = \"Thursday\"\n",
    "elif day_number == 5:\n",
    "    day = \"Friday\"\n",
    "elif day_number == 6:\n",
    "    day = \"Saturday\"\n",
    "elif day_number == 7:\n",
    "    day = \"Sunday\"\n",
    "else:\n",
    "    day = \"Invalid input (please enter a number from 1 to 7).\"\n",
    "\n",
    "# Display the result\n",
    "print(f\"The day corresponding to the number {day_number} is {day}.\")\n"
   ]
  },
  {
   "cell_type": "markdown",
   "id": "b949df86-49b6-4c32-97d3-10427bfd7c8a",
   "metadata": {},
   "source": [
    "19. Create a program that determines if a year is a leap year and also if it is evenly divisible by 400."
   ]
  },
  {
   "cell_type": "code",
   "execution_count": 11,
   "id": "f71dcebc-17bf-4c7a-9802-f846e894648c",
   "metadata": {},
   "outputs": [
    {
     "name": "stdin",
     "output_type": "stream",
     "text": [
      "Enter a year:  2020\n"
     ]
    },
    {
     "name": "stdout",
     "output_type": "stream",
     "text": [
      "2020 is a leap year.\n"
     ]
    }
   ],
   "source": [
    "# Input the year from the user\n",
    "year = int(input(\"Enter a year: \"))\n",
    "\n",
    "# Check if it's a leap year based on the conditions\n",
    "if (year % 4 == 0) and (year % 100 != 0 or year % 400 == 0):\n",
    "    print(f\"{year} is a leap year.\")\n",
    "else:\n",
    "    print(f\"{year} is not a leap year.\")\n"
   ]
  },
  {
   "cell_type": "markdown",
   "id": "6c98cabf-7524-4b0c-8ef4-b50275b5eaf9",
   "metadata": {},
   "source": [
    "20. Develop a program that checks if a given number is prime or not using nested if-else statements."
   ]
  },
  {
   "cell_type": "code",
   "execution_count": 15,
   "id": "47227e21-66fc-4824-8759-72a17afa41b9",
   "metadata": {},
   "outputs": [
    {
     "name": "stdin",
     "output_type": "stream",
     "text": [
      "enter number: 2\n"
     ]
    },
    {
     "name": "stdout",
     "output_type": "stream",
     "text": [
      "2 is a prime number.\n"
     ]
    }
   ],
   "source": [
    "## enter the number\n",
    "num = int(input(\"enter number:\"))\n",
    "if num > 1:\n",
    "    \n",
    "    is_prime = True\n",
    "    for i in range(2,num):\n",
    "        if num%i == 0:\n",
    "            is_prime = False\n",
    "            break\n",
    "    if is_prime:\n",
    "        print(f\"{num} is a prime number.\")\n",
    "    else:\n",
    "        print(f\"{num} is not a prime number.\")\n",
    "else:\n",
    "    print(f\"{num} is not a prime number.\")"
   ]
  },
  {
   "cell_type": "markdown",
   "id": "81f018d5-1849-4358-ad84-64f3539b07e4",
   "metadata": {},
   "source": [
    "--------------------------------------------------------"
   ]
  },
  {
   "cell_type": "markdown",
   "id": "9b75df4f-d7b7-45f7-a3be-656a24e4895b",
   "metadata": {},
   "source": [
    "``Elif Statements:``"
   ]
  },
  {
   "cell_type": "markdown",
   "id": "af41546d-6763-4164-8a73-e044846279f8",
   "metadata": {},
   "source": [
    "--------------------------"
   ]
  },
  {
   "cell_type": "markdown",
   "id": "4657c37f-5065-46e3-b0e2-13b40ab54038",
   "metadata": {},
   "source": [
    "21. Write a Python program to assign grades based on different ranges of scores using elif statements."
   ]
  },
  {
   "cell_type": "code",
   "execution_count": 16,
   "id": "6e0d0d22-0032-4fb1-a12d-0cba1900dea2",
   "metadata": {},
   "outputs": [
    {
     "name": "stdin",
     "output_type": "stream",
     "text": [
      "Enter the student's score:  99\n"
     ]
    },
    {
     "name": "stdout",
     "output_type": "stream",
     "text": [
      "The student's grade is: A\n"
     ]
    }
   ],
   "source": [
    "# Input the student's score from the user\n",
    "score = float(input(\"Enter the student's score: \"))\n",
    "\n",
    "# Assign grades based on different score ranges\n",
    "if 90 <= score <= 100:\n",
    "    grade = 'A'\n",
    "elif 80 <= score < 90:\n",
    "    grade = 'B'\n",
    "elif 70 <= score < 80:\n",
    "    grade = 'C'\n",
    "elif 60 <= score < 70:\n",
    "    grade = 'D'\n",
    "elif 0 <= score < 60:\n",
    "    grade = 'F'\n",
    "else:\n",
    "    grade = 'Invalid input (please enter a score between 0 and 100).'\n",
    "\n",
    "# Display the assigned grade\n",
    "print(f\"The student's grade is: {grade}\")"
   ]
  },
  {
   "cell_type": "markdown",
   "id": "80c7d821-65b5-4013-aff8-b558b9f23347",
   "metadata": {},
   "source": [
    "22. Implement a program to determine the type of a triangle based on its angles."
   ]
  },
  {
   "cell_type": "code",
   "execution_count": 17,
   "id": "e2b5f639-29e8-4d61-97db-b39a4900bbc2",
   "metadata": {},
   "outputs": [
    {
     "name": "stdin",
     "output_type": "stream",
     "text": [
      "Enter the first angle:  90\n",
      "Enter the second angle:  90\n",
      "Enter the third angle:  90\n"
     ]
    },
    {
     "name": "stdout",
     "output_type": "stream",
     "text": [
      "The angles do not form a valid triangle.\n"
     ]
    }
   ],
   "source": [
    "# Input the angles of the triangle from the user\n",
    "angle1 = int(input(\"Enter the first angle: \"))\n",
    "angle2 = int(input(\"Enter the second angle: \"))\n",
    "angle3 = int(input(\"Enter the third angle: \"))\n",
    "\n",
    "# Check and determine the type of the triangle based on its angles\n",
    "if angle1 + angle2 + angle3 == 180:\n",
    "    if angle1 == angle2 == angle3:\n",
    "        print(\"It is an equilateral triangle.\")\n",
    "    elif angle1 == angle2 or angle2 == angle3 or angle1 == angle3:\n",
    "        print(\"It is an isosceles triangle.\")\n",
    "    else:\n",
    "        print(\"It is a scalene triangle.\")\n",
    "else:\n",
    "    print(\"The angles do not form a valid triangle.\")\n"
   ]
  },
  {
   "cell_type": "markdown",
   "id": "7a0ab0be-86fe-426b-ac58-ace2584f2665",
   "metadata": {},
   "source": [
    "23. Develop a program to categorize a given person's BMI into underweight, normal, overweight, or obese using\n",
    "elif statements."
   ]
  },
  {
   "cell_type": "code",
   "execution_count": 18,
   "id": "fd842076-ed7d-4137-bf8c-8b39a86fd14c",
   "metadata": {},
   "outputs": [
    {
     "name": "stdin",
     "output_type": "stream",
     "text": [
      "Enter the person's weight (in kg):  65\n",
      "Enter the person's height (in meters):  6\n"
     ]
    },
    {
     "name": "stdout",
     "output_type": "stream",
     "text": [
      "The person's BMI is 1.81, which falls into the category of Underweight.\n"
     ]
    }
   ],
   "source": [
    "# Input the person's weight (in kilograms) and height (in meters) from the user\n",
    "weight = float(input(\"Enter the person's weight (in kg): \"))\n",
    "height = float(input(\"Enter the person's height (in meters): \"))\n",
    "\n",
    "# Calculate the BMI\n",
    "bmi = weight / (height ** 2)\n",
    "\n",
    "# Determine the BMI category using elif statements\n",
    "if bmi < 18.5:\n",
    "    category = \"Underweight\"\n",
    "elif 18.5 <= bmi < 24.9:\n",
    "    category = \"Normal Weight\"\n",
    "elif 25 <= bmi < 29.9:\n",
    "    category = \"Overweight\"\n",
    "else:\n",
    "    category = \"Obese\"\n",
    "\n",
    "# Display the BMI category\n",
    "print(f\"The person's BMI is {bmi:.2f}, which falls into the category of {category}.\")\n"
   ]
  },
  {
   "cell_type": "markdown",
   "id": "a0b42eb8-f2a4-4df5-97b6-7f70ccc11fce",
   "metadata": {},
   "source": [
    "24. Create a program that determines whether a given number is positive, negative, or zero using elif\n",
    "statements."
   ]
  },
  {
   "cell_type": "code",
   "execution_count": 19,
   "id": "ec04c46b-877a-4caa-a97f-6f1da58e376b",
   "metadata": {},
   "outputs": [
    {
     "name": "stdin",
     "output_type": "stream",
     "text": [
      "Enter a number:  0\n"
     ]
    },
    {
     "name": "stdout",
     "output_type": "stream",
     "text": [
      "The number is zero.\n"
     ]
    }
   ],
   "source": [
    "# Input a number from the user\n",
    "number = float(input(\"Enter a number: \"))\n",
    "\n",
    "# Determine if the number is positive, negative, or zero using elif statements\n",
    "if number > 0:\n",
    "    print(\"The number is positive.\")\n",
    "elif number < 0:\n",
    "    print(\"The number is negative.\")\n",
    "else:\n",
    "    print(\"The number is zero.\")\n"
   ]
  },
  {
   "cell_type": "markdown",
   "id": "4ce60297-2883-4329-9017-9d5d0b4262bd",
   "metadata": {},
   "source": [
    "25. Write a Python script to determine the type of a character (uppercase, lowercase, or special) using elif\n",
    "statements."
   ]
  },
  {
   "cell_type": "code",
   "execution_count": 20,
   "id": "6cf308b5-1364-4bb6-9f6c-8afbf43b3291",
   "metadata": {},
   "outputs": [
    {
     "name": "stdin",
     "output_type": "stream",
     "text": [
      "Enter a character:  k\n"
     ]
    },
    {
     "name": "stdout",
     "output_type": "stream",
     "text": [
      "The character is lowercase.\n"
     ]
    }
   ],
   "source": [
    "# Input a character from the user\n",
    "char = input(\"Enter a character: \")\n",
    "\n",
    "# Determine the type of character using elif statements\n",
    "if char.isupper():\n",
    "    print(\"The character is uppercase.\")\n",
    "elif char.islower():\n",
    "    print(\"The character is lowercase.\")\n",
    "else:\n",
    "    print(\"The character is special or not an alphabet character.\")\n"
   ]
  },
  {
   "cell_type": "markdown",
   "id": "216cd0d7-7768-454d-819d-5ef032334968",
   "metadata": {},
   "source": [
    "26. Implement a program to calculate the discounted price based on different purchase amounts using elif\n",
    "statements."
   ]
  },
  {
   "cell_type": "code",
   "execution_count": 22,
   "id": "8014231f-5f95-4a97-bc89-ea2e8c7fb252",
   "metadata": {},
   "outputs": [
    {
     "name": "stdin",
     "output_type": "stream",
     "text": [
      "Enter the purchase amount:  150\n"
     ]
    },
    {
     "name": "stdout",
     "output_type": "stream",
     "text": [
      "The discounted price is: 120.00\n"
     ]
    }
   ],
   "source": [
    "# Input the purchase amount from the user\n",
    "purchase_amount = float(input(\"Enter the purchase amount: \"))\n",
    "\n",
    "# Initialize variables for discount rates\n",
    "discount_rate_1 = 0.1  # 10% discount\n",
    "discount_rate_2 = 0.2  # 20% discount\n",
    "discount_rate_3 = 0.3  # 30% discount\n",
    "\n",
    "# Calculate the discounted price based on purchase amount\n",
    "if purchase_amount < 50:\n",
    "    discounted_price = purchase_amount\n",
    "elif 50 <= purchase_amount < 100:\n",
    "    discounted_price = purchase_amount - (purchase_amount * discount_rate_1)\n",
    "elif 100 <= purchase_amount < 200:\n",
    "    discounted_price = purchase_amount - (purchase_amount * discount_rate_2)\n",
    "else:\n",
    "    discounted_price = purchase_amount - (purchase_amount * discount_rate_3)\n",
    "\n",
    "# Display the discounted price\n",
    "print(f\"The discounted price is: {discounted_price:.2f}\")\n"
   ]
  },
  {
   "cell_type": "markdown",
   "id": "26901406-8cfd-4d49-b8ca-bcbb4e4ad7f8",
   "metadata": {},
   "source": [
    "27. Develop a program to calculate the electricity bill based on different consumption slabs using elif\n",
    "statements."
   ]
  },
  {
   "cell_type": "code",
   "execution_count": 24,
   "id": "50785ac7-39f6-4d51-8bae-9b4e795a32db",
   "metadata": {},
   "outputs": [
    {
     "name": "stdin",
     "output_type": "stream",
     "text": [
      "Enter the electricity consumption (in kWh):  300\n"
     ]
    },
    {
     "name": "stdout",
     "output_type": "stream",
     "text": [
      "The electricity bill is: 80.00\n"
     ]
    }
   ],
   "source": [
    "# Input the electricity consumption from the user (in kilowatt-hours)\n",
    "consumption = float(input(\"Enter the electricity consumption (in kWh): \"))\n",
    "\n",
    "# Define the electricity rate slabs and rates per kWh\n",
    "slab1_limit = 100  # First 100 kWh\n",
    "slab1_rate = 0.15  # Rate for the first 100 kWh\n",
    "slab2_limit = 200  # Next 100 kWh\n",
    "slab2_rate = 0.20  # Rate for the next 100 kWh\n",
    "slab3_rate = 0.25  # Rate for any additional consumption\n",
    "\n",
    "# Calculate the electricity bill based on consumption slabs using elif statements\n",
    "if consumption <= slab1_limit:\n",
    "    bill = consumption * slab1_rate\n",
    "elif consumption <= slab2_limit:\n",
    "    bill = (slab1_limit * slab1_rate) + ((consumption - slab1_limit) * slab2_rate)\n",
    "else:\n",
    "    bill = (slab1_limit * slab1_rate) + (slab2_limit * slab2_rate) + ((consumption - slab2_limit) * slab3_rate)\n",
    "\n",
    "# Display the electricity bill\n",
    "print(f\"The electricity bill is: {bill:.2f}\")\n",
    "\n"
   ]
  },
  {
   "cell_type": "markdown",
   "id": "0179b7d9-2229-4a3a-9dd6-8fe96995191c",
   "metadata": {},
   "source": [
    "28. Create a program to determine the type of quadrilateral based on its angles and sides using elif\n",
    "statements."
   ]
  },
  {
   "cell_type": "code",
   "execution_count": 25,
   "id": "9e94c67e-ade4-4c45-b7d4-d835c394fce6",
   "metadata": {},
   "outputs": [
    {
     "name": "stdin",
     "output_type": "stream",
     "text": [
      "Enter the first angle in degrees:  60\n",
      "Enter the second angle in degrees:  70\n",
      "Enter the third angle in degrees:  40\n",
      "Enter the fourth angle in degrees:  90\n",
      "Enter the length of the first side:  3\n",
      "Enter the length of the second side:  4\n",
      "Enter the length of the third side:  5\n",
      "Enter the length of the fourth side:  2\n"
     ]
    },
    {
     "name": "stdout",
     "output_type": "stream",
     "text": [
      "The quadrilateral does not fit into the specified categories.\n"
     ]
    }
   ],
   "source": [
    "# Input the angles and sides of the quadrilateral\n",
    "angle1 = float(input(\"Enter the first angle in degrees: \"))\n",
    "angle2 = float(input(\"Enter the second angle in degrees: \"))\n",
    "angle3 = float(input(\"Enter the third angle in degrees: \"))\n",
    "angle4 = float(input(\"Enter the fourth angle in degrees: \"))\n",
    "\n",
    "side1 = float(input(\"Enter the length of the first side: \"))\n",
    "side2 = float(input(\"Enter the length of the second side: \"))\n",
    "side3 = float(input(\"Enter the length of the third side: \"))\n",
    "side4 = float(input(\"Enter the length of the fourth side: \"))\n",
    "\n",
    "# Determine the type of quadrilateral using elif statements\n",
    "if angle1 == angle2 == angle3 == angle4 == 90:\n",
    "    if side1 == side2 == side3 == side4:\n",
    "        print(\"The quadrilateral is a square.\")\n",
    "    else:\n",
    "        print(\"The quadrilateral is a rectangle.\")\n",
    "elif angle1 == angle2 == angle3 == angle4:\n",
    "    print(\"The quadrilateral is a rhombus.\")\n",
    "elif side1 == side2 == side3 == side4:\n",
    "    if angle1 == angle2 == angle3 == angle4:\n",
    "        print(\"The quadrilateral is a square.\")\n",
    "    else:\n",
    "        print(\"The quadrilateral is a parallelogram.\")\n",
    "else:\n",
    "    print(\"The quadrilateral does not fit into the specified categories.\")\n"
   ]
  },
  {
   "cell_type": "markdown",
   "id": "3314bb42-3893-4f85-b617-ba400a85b729",
   "metadata": {},
   "source": [
    "30. Implement a program to determine the type of a year (leap or common) and month (30 or 31 days) using\n",
    "elif statements.\n"
   ]
  },
  {
   "cell_type": "code",
   "execution_count": 1,
   "id": "5acb84c1-571d-45a2-ac6d-3281487aba22",
   "metadata": {},
   "outputs": [
    {
     "name": "stdin",
     "output_type": "stream",
     "text": [
      "Enter a year:  2020\n",
      "Enter a month (1 for January, 2 for February, etc.):  2\n"
     ]
    },
    {
     "name": "stdout",
     "output_type": "stream",
     "text": [
      "2020 is a Leap year. The month has 29 days.\n"
     ]
    }
   ],
   "source": [
    "# Input a year from the user\n",
    "year = int(input(\"Enter a year: \"))\n",
    "\n",
    "# Input a month from the user\n",
    "month = int(input(\"Enter a month (1 for January, 2 for February, etc.): \"))\n",
    "\n",
    "# Determine the type of year (leap or common) using elif statements\n",
    "if (year % 4 == 0 and year % 100 != 0) or (year % 400 == 0):\n",
    "    year_type = \"Leap year\"\n",
    "else:\n",
    "    year_type = \"Common year\"\n",
    "\n",
    "# Determine the number of days in the month using elif statements\n",
    "if month in [1, 3, 5, 7, 8, 10, 12]:\n",
    "    month_days = 31\n",
    "elif month == 2:\n",
    "    if year_type == \"Leap year\":\n",
    "        month_days = 29\n",
    "    else:\n",
    "        month_days = 28\n",
    "elif month in [4, 6, 9, 11]:\n",
    "    month_days = 30\n",
    "else:\n",
    "    month_days = \"Invalid input (please enter a valid month).\"\n",
    "\n",
    "# Display the determined year type and number of days in the month\n",
    "print(f\"{year} is a {year_type}. The month has {month_days} days.\")\n"
   ]
  },
  {
   "cell_type": "markdown",
   "id": "9123394d-d3be-490a-acb9-e225279b508f",
   "metadata": {},
   "source": [
    "--------------------------------------------------------------------\n"
   ]
  },
  {
   "cell_type": "markdown",
   "id": "3ce8a26d-5118-45be-b29a-09c59a6c86c6",
   "metadata": {},
   "source": [
    "``Basic Level:``\n",
    "-----"
   ]
  },
  {
   "cell_type": "markdown",
   "id": "dc7263e7-4bfa-44b5-bd44-34d75040a10b",
   "metadata": {},
   "source": [
    "---------------------------------------------------------"
   ]
  },
  {
   "cell_type": "markdown",
   "id": "7eb5f19b-2597-4622-b6a6-c6b74d064ed3",
   "metadata": {},
   "source": [
    "1. Write a Python program that checks if a given number is positive, negative, or zero."
   ]
  },
  {
   "cell_type": "code",
   "execution_count": 2,
   "id": "aaa200d1-254d-44a0-b380-423471a419ed",
   "metadata": {},
   "outputs": [
    {
     "name": "stdin",
     "output_type": "stream",
     "text": [
      "Enter a number:  -9\n"
     ]
    },
    {
     "name": "stdout",
     "output_type": "stream",
     "text": [
      "The number is negative.\n"
     ]
    }
   ],
   "source": [
    "# Input a number from the user\n",
    "number = float(input(\"Enter a number: \"))\n",
    "\n",
    "# Check if the number is positive, negative, or zero\n",
    "if number > 0:\n",
    "    print(\"The number is positive.\")\n",
    "elif number < 0:\n",
    "    print(\"The number is negative.\")\n",
    "else:\n",
    "    print(\"The number is zero.\")\n"
   ]
  },
  {
   "cell_type": "markdown",
   "id": "e1bc6fc6-d894-4126-83e3-53e80ee506d7",
   "metadata": {},
   "source": [
    "2. Create a program to determine if a person is eligible to vote based on their age."
   ]
  },
  {
   "cell_type": "code",
   "execution_count": 3,
   "id": "b0533217-a570-4cfe-9145-40c9a367adc6",
   "metadata": {},
   "outputs": [
    {
     "name": "stdin",
     "output_type": "stream",
     "text": [
      "Enter your age:  18\n"
     ]
    },
    {
     "name": "stdout",
     "output_type": "stream",
     "text": [
      "You are eligible to vote.\n"
     ]
    }
   ],
   "source": [
    "# Input the person's age\n",
    "age = int(input(\"Enter your age: \"))\n",
    "\n",
    "# Check if the person is eligible to vote\n",
    "if age >= 18:\n",
    "    print(\"You are eligible to vote.\")\n",
    "else:\n",
    "    print(\"You are not eligible to vote.\")\n"
   ]
  },
  {
   "cell_type": "markdown",
   "id": "21159577-2b53-4854-9c14-d37d5edaea5f",
   "metadata": {},
   "source": [
    "3. Write a program to find the maximum of two given numbers using conditional statements."
   ]
  },
  {
   "cell_type": "code",
   "execution_count": 4,
   "id": "23cea41f-52a0-4a6a-b4a0-bb81e5cc4223",
   "metadata": {},
   "outputs": [
    {
     "name": "stdin",
     "output_type": "stream",
     "text": [
      "Enter the first number:  5\n",
      "Enter the second number:  10\n"
     ]
    },
    {
     "name": "stdout",
     "output_type": "stream",
     "text": [
      "The maximum of 5.0 and 10.0 is 10.0.\n"
     ]
    }
   ],
   "source": [
    "# Input two numbers from the user\n",
    "num1 = float(input(\"Enter the first number: \"))\n",
    "num2 = float(input(\"Enter the second number: \"))\n",
    "\n",
    "# Find the maximum of the two numbers using conditional statements\n",
    "if num1 > num2:\n",
    "    maximum = num1\n",
    "else:\n",
    "    maximum = num2\n",
    "\n",
    "# Display the maximum number\n",
    "print(f\"The maximum of {num1} and {num2} is {maximum}.\")\n"
   ]
  },
  {
   "cell_type": "markdown",
   "id": "85688f8e-16b9-47ac-9d36-9459e08ba523",
   "metadata": {},
   "source": [
    "4. Develop a program that calculates the grade of a student based on their exam score."
   ]
  },
  {
   "cell_type": "code",
   "execution_count": 5,
   "id": "26c26dea-2c3a-4ced-a01f-8d797801d57c",
   "metadata": {},
   "outputs": [
    {
     "name": "stdin",
     "output_type": "stream",
     "text": [
      "Enter the exam score:  90\n"
     ]
    },
    {
     "name": "stdout",
     "output_type": "stream",
     "text": [
      "The grade for the exam score 90.0 is A.\n"
     ]
    }
   ],
   "source": [
    "# Input the exam score from the user\n",
    "exam_score = float(input(\"Enter the exam score: \"))\n",
    "\n",
    "# Determine the grade based on the score using conditional statements\n",
    "if 90 <= exam_score <= 100:\n",
    "    grade = 'A'\n",
    "elif 80 <= exam_score < 90:\n",
    "    grade = 'B'\n",
    "elif 70 <= exam_score < 80:\n",
    "    grade = 'C'\n",
    "elif 60 <= exam_score < 70:\n",
    "    grade = 'D'\n",
    "else:\n",
    "    grade = 'F'\n",
    "\n",
    "# Display the assigned grade\n",
    "print(f\"The grade for the exam score {exam_score} is {grade}.\")\n"
   ]
  },
  {
   "cell_type": "markdown",
   "id": "f49c75cb-7f66-4bcb-b23c-798ecbd427f3",
   "metadata": {},
   "source": [
    "5. Create a program that checks if a year is a leap year or not."
   ]
  },
  {
   "cell_type": "code",
   "execution_count": 6,
   "id": "10ba78b8-f8b8-4a74-a352-33f40ceeb104",
   "metadata": {},
   "outputs": [
    {
     "name": "stdin",
     "output_type": "stream",
     "text": [
      "Enter a year:  2000\n"
     ]
    },
    {
     "name": "stdout",
     "output_type": "stream",
     "text": [
      "2000 is a leap year.\n"
     ]
    }
   ],
   "source": [
    "# Input a year from the user\n",
    "year = int(input(\"Enter a year: \"))\n",
    "\n",
    "# Check if it's a leap year based on the conditions\n",
    "if (year % 4 == 0 and year % 100 != 0) or (year % 400 == 0):\n",
    "    print(f\"{year} is a leap year.\")\n",
    "else:\n",
    "    print(f\"{year} is not a leap year.\")\n"
   ]
  },
  {
   "cell_type": "markdown",
   "id": "628d65f7-94a7-4dba-88eb-9960628b8b35",
   "metadata": {},
   "source": [
    "6. Write a program to classify a triangle based on its sides' lengths."
   ]
  },
  {
   "cell_type": "code",
   "execution_count": 7,
   "id": "1d20cea7-d060-4f3f-9084-950ef5e7a481",
   "metadata": {},
   "outputs": [
    {
     "name": "stdin",
     "output_type": "stream",
     "text": [
      "Enter the length of the first side:  10\n",
      "Enter the length of the second side:  10\n",
      "Enter the length of the third side:  10\n"
     ]
    },
    {
     "name": "stdout",
     "output_type": "stream",
     "text": [
      "The triangle with sides 10.0, 10.0, and 10.0 is a Equilateral triangle.\n"
     ]
    }
   ],
   "source": [
    "# Input the lengths of the three sides of the triangle from the user\n",
    "side1 = float(input(\"Enter the length of the first side: \"))\n",
    "side2 = float(input(\"Enter the length of the second side: \"))\n",
    "side3 = float(input(\"Enter the length of the third side: \"))\n",
    "\n",
    "# Determine the type of triangle based on its sides using conditional statements\n",
    "if side1 == side2 == side3:\n",
    "    triangle_type = \"Equilateral\"\n",
    "elif side1 == side2 or side1 == side3 or side2 == side3:\n",
    "    triangle_type = \"Isosceles\"\n",
    "else:\n",
    "    triangle_type = \"Scalene\"\n",
    "\n",
    "# Display the type of triangle\n",
    "print(f\"The triangle with sides {side1}, {side2}, and {side3} is a {triangle_type} triangle.\")"
   ]
  },
  {
   "cell_type": "markdown",
   "id": "9e72ccf9-0365-4c6d-a7c3-d80aa4465a2d",
   "metadata": {},
   "source": [
    "7. Build a program that determines the largest of three given numbers."
   ]
  },
  {
   "cell_type": "code",
   "execution_count": 8,
   "id": "6e5a83a8-35ad-4b1a-be9e-a24d7db6ccf0",
   "metadata": {},
   "outputs": [
    {
     "name": "stdin",
     "output_type": "stream",
     "text": [
      "Enter the first number:  3\n",
      "Enter the second number:  6\n",
      "Enter the third number:  5\n"
     ]
    },
    {
     "name": "stdout",
     "output_type": "stream",
     "text": [
      "The largest number among 3.0, 6.0, and 5.0 is 6.0.\n"
     ]
    }
   ],
   "source": [
    "# Input three numbers from the user\n",
    "num1 = float(input(\"Enter the first number: \"))\n",
    "num2 = float(input(\"Enter the second number: \"))\n",
    "num3 = float(input(\"Enter the third number: \"))\n",
    "\n",
    "# Determine the largest number using conditional statements\n",
    "if num1 >= num2 and num1 >= num3:\n",
    "    largest = num1\n",
    "elif num2 >= num1 and num2 >= num3:\n",
    "    largest = num2\n",
    "else:\n",
    "    largest = num3\n",
    "\n",
    "# Display the largest number\n",
    "print(f\"The largest number among {num1}, {num2}, and {num3} is {largest}.\")\n",
    "\n"
   ]
  },
  {
   "cell_type": "markdown",
   "id": "9387ce9d-bb0f-4c64-9920-b2c537c586c5",
   "metadata": {},
   "source": [
    "8. Develop a program that checks whether a character is a vowel or a consonant."
   ]
  },
  {
   "cell_type": "code",
   "execution_count": 10,
   "id": "7c5dd11b-a925-4f10-97b7-a777a213a8dc",
   "metadata": {},
   "outputs": [
    {
     "name": "stdin",
     "output_type": "stream",
     "text": [
      "Enter a character:  i\n"
     ]
    },
    {
     "name": "stdout",
     "output_type": "stream",
     "text": [
      "The character 'i' is a vowel.\n"
     ]
    }
   ],
   "source": [
    "# Input a character from the user (assuming a single character input)\n",
    "character = input(\"Enter a character: \")\n",
    "\n",
    "# Check if the character is a vowel or a consonant\n",
    "if character.isalpha() and len(character) == 1:\n",
    "    if character in \"AEIOUaeiou\":\n",
    "        result = \"vowel\"\n",
    "    else:\n",
    "        result = \"consonant\"\n",
    "else:\n",
    "    result = \"not a valid single character.\"\n",
    "\n",
    "# Display the result\n",
    "print(f\"The character '{character}' is a {result}.\")\n"
   ]
  },
  {
   "cell_type": "markdown",
   "id": "5e492fe0-3b73-4091-a794-1660b8bf0752",
   "metadata": {},
   "source": [
    "9. Create a program to calculate the total cost of a shopping cart based on discounts."
   ]
  },
  {
   "cell_type": "code",
   "execution_count": 16,
   "id": "f1c6552f-a53d-454b-913a-732ff3a05dae",
   "metadata": {},
   "outputs": [
    {
     "name": "stdin",
     "output_type": "stream",
     "text": [
      "Enter an item (or 'done' to finish):  apple\n",
      "Enter the quantity of apple:  1\n",
      "Enter an item (or 'done' to finish):  done\n"
     ]
    },
    {
     "name": "stdout",
     "output_type": "stream",
     "text": [
      "Total cost (with discounts): 50.00\n"
     ]
    }
   ],
   "source": [
    "## Avalible course\n",
    "fruits = {\n",
    "    \"apple\": 50,\n",
    "    \"banana\": 10,\n",
    "    \"mango\" : 100,\n",
    "    \"kiwi\" : 200\n",
    "}\n",
    "\n",
    "cart = {}\n",
    "total_cost = 0.0\n",
    "# Input items and quantities to the cart\n",
    "while True:\n",
    "    item = input(\"Enter an item (or 'done' to finish): \")\n",
    "    if item == \"done\":\n",
    "        break\n",
    "\n",
    "    if item in fruits:\n",
    "        quantity = int(input(f\"Enter the quantity of {item}: \"))\n",
    "        cart[item] = cart.get(item, 0) + quantity\n",
    "    else:\n",
    "        print(\"Invalid item. Please enter a valid item.\")\n",
    "\n",
    "# Calculate the total cost with discounts\n",
    "for item, quantity in cart.items():\n",
    "    if item in fruits :\n",
    "        item_price = fruits[item]\n",
    "        total_cost += item_price * quantity\n",
    "\n",
    "# Apply a 10% discount if the total cost is above $50\n",
    "if total_cost > 50:\n",
    "    total_cost *= 0.9\n",
    "\n",
    "# Display the total cost\n",
    "print(f\"Total cost (with discounts): {total_cost:.2f}\")"
   ]
  },
  {
   "cell_type": "markdown",
   "id": "828fb7ed-72c3-4cd4-bde1-bcfc176d88e7",
   "metadata": {},
   "source": [
    "10. Write a program that checks if a given number is even or odd."
   ]
  },
  {
   "cell_type": "code",
   "execution_count": 1,
   "id": "8e7eb037-b8f7-4cba-9ce8-96f4ac896150",
   "metadata": {},
   "outputs": [
    {
     "name": "stdin",
     "output_type": "stream",
     "text": [
      "Enter a number:  5\n"
     ]
    },
    {
     "name": "stdout",
     "output_type": "stream",
     "text": [
      "5 is odd.\n"
     ]
    }
   ],
   "source": [
    "def check_even_odd(number):\n",
    "    if number % 2 == 0:\n",
    "        print(f\"{number} is even.\")\n",
    "    else:\n",
    "        print(f\"{number} is odd.\")\n",
    "\n",
    "# Example usage:\n",
    "user_input = int(input(\"Enter a number: \"))\n",
    "check_even_odd(user_input)\n"
   ]
  },
  {
   "cell_type": "markdown",
   "id": "21c321a2-bb3f-4ce2-b39e-00c4cfdb2960",
   "metadata": {},
   "source": [
    "-----------------------------------"
   ]
  },
  {
   "cell_type": "markdown",
   "id": "9e9379b5-6c88-4daa-93b2-4cbab0d83624",
   "metadata": {},
   "source": [
    "``Intermediate Level:``\n",
    "-----"
   ]
  },
  {
   "cell_type": "markdown",
   "id": "73b77799-622d-4d2b-9135-89f2f874956b",
   "metadata": {},
   "source": [
    "---------------------"
   ]
  },
  {
   "cell_type": "markdown",
   "id": "7b6ae77e-b959-4747-9b6f-87cd1b98c04d",
   "metadata": {},
   "source": [
    "11. Write a program that calculates the roots of a quadratic equation "
   ]
  },
  {
   "cell_type": "code",
   "execution_count": 3,
   "id": "ce2665a9-ceb3-4d3d-95ef-ad5fdd5ce1b3",
   "metadata": {},
   "outputs": [
    {
     "name": "stdin",
     "output_type": "stream",
     "text": [
      "a> 1\n",
      "b> -3\n",
      "c> 2\n"
     ]
    },
    {
     "name": "stdout",
     "output_type": "stream",
     "text": [
      "Root 1: 2.0\n",
      "Root 2: 1.0\n"
     ]
    }
   ],
   "source": [
    "import math\n",
    "## enter the num \n",
    "a = int(input(\"a>\"))\n",
    "b = int(input(\"b>\"))\n",
    "c= int(input(\"c>\"))\n",
    "\n",
    "d = b**2 - 4*a*c\n",
    "\n",
    "if d >=0:\n",
    "    root1 = (-b + math.sqrt(d)) / (2*a)\n",
    "    root2 = (-b - math.sqrt(d)) / (2*a)\n",
    "    print(f\"Root 1: {root1}\")\n",
    "    print(f\"Root 2: {root2}\")\n",
    "else:\n",
    "    print(\"root is complex number\")"
   ]
  },
  {
   "cell_type": "markdown",
   "id": "4afeb5f7-948a-49db-9aea-faebf250776b",
   "metadata": {},
   "source": [
    "12. Create a program that determines the day of the week based on the day number (1-7)."
   ]
  },
  {
   "cell_type": "code",
   "execution_count": 5,
   "id": "b2b8a88d-4f38-4ba1-b95e-1788fcf32515",
   "metadata": {},
   "outputs": [
    {
     "name": "stdin",
     "output_type": "stream",
     "text": [
      "enter the day num :  7\n"
     ]
    },
    {
     "name": "stdout",
     "output_type": "stream",
     "text": [
      "Sunday\n"
     ]
    }
   ],
   "source": [
    "## enter the number\n",
    "num = int(input(\"enter the day num : \"))\n",
    "\n",
    "if num == 1:\n",
    "    day = \"monday\"\n",
    "elif num ==2:\n",
    "    day = \"Teusday\"\n",
    "elif num == 3:\n",
    "    day = \"Wenesday\"\n",
    "elif num ==4:\n",
    "    day = \"Thursday\"\n",
    "elif num == 5:\n",
    "    day = \"Fridayy\"\n",
    "elif num ==6:\n",
    "    day = \"Satrday\"\n",
    "else:\n",
    "    day = \"Sunday\"\n",
    "\n",
    "print(day)"
   ]
  },
  {
   "cell_type": "markdown",
   "id": "3558bcfe-2fd3-4ea2-912d-4038ba2ec3b8",
   "metadata": {},
   "source": [
    "13. Develop a program that calculates the factorial of a given number using recursion"
   ]
  },
  {
   "cell_type": "code",
   "execution_count": 8,
   "id": "f3110430-f132-45c4-bdbf-0cb59d5abf13",
   "metadata": {},
   "outputs": [
    {
     "name": "stdin",
     "output_type": "stream",
     "text": [
      "Enter a number to calculate its factorial:  5\n"
     ]
    },
    {
     "name": "stdout",
     "output_type": "stream",
     "text": [
      "The factorial of 5 is 120\n"
     ]
    }
   ],
   "source": [
    "def facto(n):\n",
    "    if n == 0 or n==1:\n",
    "        return 1\n",
    "    else:\n",
    "        return n*facto(n-1)\n",
    "\n",
    "user_input = int(input(\"Enter a number to calculate its factorial: \"))\n",
    "result = facto(user_input)\n",
    "print(f\"The factorial of {user_input} is {result}\")"
   ]
  },
  {
   "cell_type": "markdown",
   "id": "47d6ac32-9c13-494a-8484-8f969c119d72",
   "metadata": {},
   "source": [
    "14. Write a program to find the largest among three numbers without using the `max()` function."
   ]
  },
  {
   "cell_type": "code",
   "execution_count": 9,
   "id": "dd0aaaa9-a432-49b2-9891-76f4e96333da",
   "metadata": {},
   "outputs": [
    {
     "name": "stdin",
     "output_type": "stream",
     "text": [
      "Enter the first number:  55\n",
      "Enter the second number:  6\n",
      "Enter the third number:  3\n"
     ]
    },
    {
     "name": "stdout",
     "output_type": "stream",
     "text": [
      "The largest number is: 55\n"
     ]
    }
   ],
   "source": [
    "# Example usage:\n",
    "num1 = int(input(\"Enter the first number: \"))\n",
    "num2 = int(input(\"Enter the second number: \"))\n",
    "num3 = int(input(\"Enter the third number: \"))\n",
    "\n",
    "largest_number = max(num1, num2, num3)\n",
    "print(f\"The largest number is: {largest_number}\")\n"
   ]
  },
  {
   "cell_type": "markdown",
   "id": "532ea1e0-dad9-48e4-9c22-4a66fc03a03c",
   "metadata": {},
   "source": [
    "15. Create a program that simulates a basic ATM transaction menu."
   ]
  },
  {
   "cell_type": "code",
   "execution_count": 13,
   "id": "16839e0e-3bb3-4756-8c55-6e217e8dc377",
   "metadata": {},
   "outputs": [
    {
     "name": "stdout",
     "output_type": "stream",
     "text": [
      "=== ATM Transaction Menu ===\n",
      "1. Check Balance\n",
      "2. Deposit Money\n",
      "3. Withdraw Money\n",
      "4. Quit\n"
     ]
    },
    {
     "name": "stdin",
     "output_type": "stream",
     "text": [
      "Enter your choice (1-4):  3\n",
      "enter Amount for Withdraw : 500\n"
     ]
    },
    {
     "name": "stdout",
     "output_type": "stream",
     "text": [
      "Avalible balance : 500\n",
      "=== ATM Transaction Menu ===\n",
      "1. Check Balance\n",
      "2. Deposit Money\n",
      "3. Withdraw Money\n",
      "4. Quit\n"
     ]
    },
    {
     "name": "stdin",
     "output_type": "stream",
     "text": [
      "Enter your choice (1-4):  4\n"
     ]
    },
    {
     "name": "stdout",
     "output_type": "stream",
     "text": [
      "Thank you for using the ATM. Goodbye!\n"
     ]
    }
   ],
   "source": [
    "## bacic atm transaction menu\n",
    "balance = 1000\n",
    "while True:\n",
    "    print(\"=== ATM Transaction Menu ===\")\n",
    "    print(\"1. Check Balance\")\n",
    "    print(\"2. Deposit Money\")\n",
    "    print(\"3. Withdraw Money\")\n",
    "    print(\"4. Quit\")\n",
    "    choice = input(\"Enter your choice (1-4): \")\n",
    "    if choice == '1':\n",
    "        print(balance)\n",
    "        \n",
    "    elif choice == '2':\n",
    "        add = int(input(\"enter amount deposit :\"))\n",
    "        balance +=add\n",
    "        print(\"Avalible balance :\",balance)\n",
    "        \n",
    "    elif choice == '3':\n",
    "        widro = int(input(\"enter Amount for Withdraw :\"))\n",
    "        balance -=widro\n",
    "        print(\"Avalible balance :\",balance)\n",
    "        \n",
    "    elif choice == '4':\n",
    "        print(\"Thank you for using the ATM. Goodbye!\")\n",
    "        break\n",
    "else:\n",
    "    print(\"Invalid choice. Please enter a number between 1 and 4.\")"
   ]
  },
  {
   "cell_type": "markdown",
   "id": "3d3da7fb-1450-49f0-a490-c4e97850b209",
   "metadata": {},
   "source": [
    "16. Build a program that checks if a given string is a palindrome or not"
   ]
  },
  {
   "cell_type": "code",
   "execution_count": 18,
   "id": "bb1bcad1-275a-4155-b082-070c32cf5590",
   "metadata": {},
   "outputs": [
    {
     "name": "stdin",
     "output_type": "stream",
     "text": [
      "> kk\n"
     ]
    },
    {
     "name": "stdout",
     "output_type": "stream",
     "text": [
      "string is palindrome\n"
     ]
    }
   ],
   "source": [
    "## enter the string\n",
    "s = input(\">\")\n",
    "s1 = s.replace(\" \",\"\").lower()\n",
    "\n",
    "## cheak given string is palindrome\n",
    "if s1 == s1[::-1]:\n",
    "    print(\"string is palindrome\")\n",
    "else:\n",
    "    print(\"string not a palindrome\")"
   ]
  },
  {
   "cell_type": "markdown",
   "id": "e65b19cc-592f-4650-a930-35a53ba5250d",
   "metadata": {},
   "source": [
    "17. Write a program that calculates the average of a list of numbers, excluding the smallest and largest values."
   ]
  },
  {
   "cell_type": "code",
   "execution_count": 19,
   "id": "34ded1c2-c800-4c4d-af9c-012250204fe0",
   "metadata": {},
   "outputs": [
    {
     "name": "stdin",
     "output_type": "stream",
     "text": [
      "Enter a list of numbers separated by spaces:  5 6 7 9 1 8\n"
     ]
    },
    {
     "name": "stdout",
     "output_type": "stream",
     "text": [
      "The average (excluding the smallest and largest values) is: 6.5\n"
     ]
    }
   ],
   "source": [
    "def calculate_average(numbers):\n",
    "    if len(numbers) < 3:\n",
    "        print(\"At least 3 numbers are required.\")\n",
    "        return\n",
    "\n",
    "    # Exclude the smallest and largest values\n",
    "    sorted_numbers = sorted(numbers)\n",
    "    excluded_numbers = sorted_numbers[1:-1]\n",
    "\n",
    "    # Calculate the average\n",
    "    average = sum(excluded_numbers) / len(excluded_numbers)\n",
    "\n",
    "    return average\n",
    "\n",
    "# Example usage:\n",
    "numbers = [float(x) for x in input(\"Enter a list of numbers separated by spaces: \").split()]\n",
    "\n",
    "result = calculate_average(numbers)\n",
    "\n",
    "if result is not None:\n",
    "    print(f\"The average (excluding the smallest and largest values) is: {result}\")\n"
   ]
  },
  {
   "cell_type": "markdown",
   "id": "d0ebe5d6-ff4e-4ef1-8386-da5a6571684e",
   "metadata": {},
   "source": [
    "18. Develop a program that converts a given temperature from Celsius to Fahrenheit."
   ]
  },
  {
   "cell_type": "code",
   "execution_count": 10,
   "id": "46dc06f4-0ace-4409-afac-81a08ebc4ff9",
   "metadata": {},
   "outputs": [
    {
     "name": "stdin",
     "output_type": "stream",
     "text": [
      "Enter Tempreture in Celsius :  0\n"
     ]
    },
    {
     "name": "stdout",
     "output_type": "stream",
     "text": [
      "Tempreture in Fahrenheit : 32.0f\n"
     ]
    }
   ],
   "source": [
    "C = float(input(\"Enter Tempreture in Celsius : \"))\n",
    "F = (C*9/5) +32\n",
    "\n",
    "print(f\"Tempreture in Fahrenheit : {F}f\")"
   ]
  },
  {
   "cell_type": "markdown",
   "id": "6d6748e5-ee50-46ba-86f1-ae29b09993eb",
   "metadata": {},
   "source": [
    "19. Create a program that simulates a basic calculator for addition, subtraction, multiplication, and division."
   ]
  },
  {
   "cell_type": "code",
   "execution_count": null,
   "id": "fbd6b577-1a98-413c-b63d-72daea214bb6",
   "metadata": {},
   "outputs": [],
   "source": []
  },
  {
   "cell_type": "code",
   "execution_count": 22,
   "id": "a5c102dd-80f1-4b8d-9d53-7e0e05f1f9bd",
   "metadata": {},
   "outputs": [
    {
     "name": "stdin",
     "output_type": "stream",
     "text": [
      "a :  1\n",
      "b :  1\n",
      "perform operation like addition , subtraction, multiplication and Division :  mul\n"
     ]
    },
    {
     "name": "stdout",
     "output_type": "stream",
     "text": [
      "a * b = 1\n"
     ]
    }
   ],
   "source": [
    "a = int(input(\"a : \"))\n",
    "b = int(input(\"b : \"))\n",
    "\n",
    "operation = input(\"perform operation like addition , subtraction, multiplication and Division : \")\n",
    "\n",
    "\n",
    "if operation in [\"add\",\"sub\",\"mul\",\"div\"]:\n",
    "    if operation == \"add\":\n",
    "        print(f\"a + b = {a+b}\")\n",
    "    elif operation == \"sub\":\n",
    "        print(f\"a - b = {a-b}\")\n",
    "    elif operation == \"mul\":\n",
    "        print(f\"a * b = {a*b}\")\n",
    "    elif operation == \"div\":\n",
    "        print(f\"a / b = {float(a/b)}\")\n",
    "else:\n",
    "    print(\"Enter valid operation\")"
   ]
  },
  {
   "cell_type": "markdown",
   "id": "37fabdab-ae3b-480f-9de1-7ab13d32cf67",
   "metadata": {},
   "source": [
    "20. Write a program that determines the roots of a cubic equation using the Cardano formula."
   ]
  },
  {
   "cell_type": "code",
   "execution_count": 10,
   "id": "dd60305f-9ec7-4f33-86af-a008d23acaa4",
   "metadata": {},
   "outputs": [
    {
     "name": "stdout",
     "output_type": "stream",
     "text": [
      "ax^3+bx^2+cx+d=0\n"
     ]
    },
    {
     "name": "stdin",
     "output_type": "stream",
     "text": [
      " 1 -6 11 -6\n"
     ]
    },
    {
     "name": "stdout",
     "output_type": "stream",
     "text": [
      "{(1+0j), (3+0j), (1.9999999999999998+0j)}\n"
     ]
    }
   ],
   "source": [
    "from cmath import *\n",
    "\n",
    "solutions = set()\n",
    "\n",
    "\n",
    "def cbrt(polynomial):\n",
    "    solution = set()\n",
    "    root1 = polynomial ** (1 / 3)\n",
    "    root2 = (polynomial ** (1 / 3)) * (-1 / 2 + (sqrt(3) * 1j) / 2)\n",
    "    root3 = (polynomial ** (1 / 3)) * (-1 / 2 - (sqrt(3) * 1j) / 2)\n",
    "    solution.update({root1, root2, root3})\n",
    "    return solution\n",
    "\n",
    "\n",
    "print('ax^3+bx^2+cx+d=0')\n",
    "a, b, c, d = map(complex, input().split())\n",
    "\n",
    "if a != 0:\n",
    "    p = (3 * a * c - b ** 2) / (3 * a ** 2)\n",
    "    q = (2 * b ** 3 - 9 * a * b * c + 27 * a ** 2 * d) / (27 * a ** 3)\n",
    "    alpha = cbrt(-q / 2 + sqrt((q / 2) ** 2 + (p / 3) ** 3))\n",
    "    beta = cbrt(-q / 2 - sqrt((q / 2) ** 2 + (p / 3) ** 3))\n",
    "    for i in alpha:\n",
    "        for j in beta:\n",
    "            if abs((i * j) + p / 3) <= 0.00001:\n",
    "                x = i + j - b / (3 * a)\n",
    "                solutions.add(x)\n",
    "\n",
    "elif b != 0:\n",
    "    D = c ** 2 - 4 * b * d\n",
    "    solutions.add((-c - sqrt(D)) / 2 * b)\n",
    "    solutions.add((-c + sqrt(D)) / 2 * b)\n",
    "\n",
    "elif c != 0:\n",
    "    solutions.add(-d / c)\n",
    "\n",
    "elif d == 0:\n",
    "    solutions.add(\"True\")\n",
    "\n",
    "else:\n",
    "    solutions.add(\"False\")\n",
    "\n",
    "print(solutions)"
   ]
  },
  {
   "cell_type": "markdown",
   "id": "8c6ad333-1824-4562-82ba-12080865e7c0",
   "metadata": {},
   "source": [
    "Advanced Level:\n",
    "----"
   ]
  },
  {
   "cell_type": "markdown",
   "id": "b62d1235-7368-4dc9-b97a-cc5a6a267f2d",
   "metadata": {},
   "source": [
    "21. Create a program that calculates the income tax based on the user's income and tax brackets."
   ]
  },
  {
   "cell_type": "code",
   "execution_count": 24,
   "id": "d38b6057-76d7-42dd-aace-06ef6df404e2",
   "metadata": {},
   "outputs": [
    {
     "name": "stdin",
     "output_type": "stream",
     "text": [
      "Enter your income : ₹ 1200000\n"
     ]
    },
    {
     "name": "stdout",
     "output_type": "stream",
     "text": [
      "Your income tax is : ₹240000.0\n"
     ]
    }
   ],
   "source": [
    "income = int(input(\"Enter your income : ₹\"))\n",
    "\n",
    "tax_brackets = [(300000, 0.0), (600000, 0.05), (900000, 0.1), (1200000, 0.15), (1200000, 0.2)]\n",
    "\n",
    "income_tax = 0\n",
    "\n",
    "for income_range, tax_rate in tax_brackets:\n",
    "    if income <= 300000:\n",
    "        income_tax = 0\n",
    "        break\n",
    "        \n",
    "    elif income >= 1200000 and tax_rate == 0.2 :\n",
    "        income_tax = income * tax_rate\n",
    "        break\n",
    "        \n",
    "    elif income < income_range:\n",
    "        income_tax = income  * tax_rate\n",
    "        break\n",
    "        \n",
    "\n",
    "print(f\"Your income tax is : ₹{income_tax}\")\n"
   ]
  },
  {
   "cell_type": "markdown",
   "id": "a0059166-0515-48fb-9fe8-3325da2ec20a",
   "metadata": {},
   "source": [
    "22. Write a program that simulates a rock-paper-scissors game against the computer."
   ]
  },
  {
   "cell_type": "code",
   "execution_count": 28,
   "id": "675aa013-44c5-40d9-9ec1-85b07b7166d4",
   "metadata": {},
   "outputs": [
    {
     "name": "stdin",
     "output_type": "stream",
     "text": [
      "Enter Your Choice for rock-paper-scissors game :  rock\n"
     ]
    },
    {
     "name": "stdout",
     "output_type": "stream",
     "text": [
      "You Win......\n"
     ]
    },
    {
     "name": "stdin",
     "output_type": "stream",
     "text": [
      "do you pay again? (yes/no) :  yes\n",
      "Enter Your Choice for rock-paper-scissors game :  paper\n"
     ]
    },
    {
     "name": "stdout",
     "output_type": "stream",
     "text": [
      "It's a tie!\n"
     ]
    },
    {
     "name": "stdin",
     "output_type": "stream",
     "text": [
      "do you pay again? (yes/no) :  no\n"
     ]
    },
    {
     "name": "stdout",
     "output_type": "stream",
     "text": [
      "Thank You For Playing .....\n"
     ]
    }
   ],
   "source": [
    "import random\n",
    "while True:                           ## contineus play\n",
    "    ## enter your choice\n",
    "    player_choice = input(\"Enter Your Choice for rock-paper-scissors game : \")\n",
    "    choices = ['rock', 'paper', 'scissors']\n",
    "    \n",
    "    computer_choice = random.choice(choices)   ## random choice by use random module of random library\n",
    "    \n",
    "    if player_choice not in choices:\n",
    "        print(\"INVALID CHOICE ...TRY AGAIN...\")\n",
    "    \n",
    "    if player_choice == computer_choice:\n",
    "        print(\"It's a tie!\")\n",
    "    elif (player_choice == 'rock' and computer_choice == 'scissors') or (player_choice == 'paper' and computer_choice == 'rock') or (player_choice == 'scissors' and computer_choice == 'paper'):\n",
    "        print(\"You Win......\")\n",
    "    else:\n",
    "        print(\"computer win.......\")\n",
    "    \n",
    "    play_again = input(\"do you pay again? (yes/no) : \")\n",
    "    if play_again != 'yes':\n",
    "        print(\"Thank You For Playing .....\")\n",
    "        break"
   ]
  },
  {
   "cell_type": "markdown",
   "id": "3546ef24-d588-4028-a6e2-bf60f8906b29",
   "metadata": {},
   "source": [
    "23. Develop a program that generates a random password based on user preferences (length, complexity)."
   ]
  },
  {
   "cell_type": "code",
   "execution_count": 35,
   "id": "045030ce-36d9-4e8b-a6eb-b7451adeba03",
   "metadata": {},
   "outputs": [
    {
     "name": "stdout",
     "output_type": "stream",
     "text": [
      "Welcome to the Random Password Generator!\n"
     ]
    },
    {
     "name": "stdin",
     "output_type": "stream",
     "text": [
      "Enter the length of the password:  10\n",
      "Enter the complexity level (low, medium, high):  high\n"
     ]
    },
    {
     "name": "stdout",
     "output_type": "stream",
     "text": [
      "Your random password is: @@\"TAMeiH&\n"
     ]
    }
   ],
   "source": [
    "import random      ## use random moduel\n",
    "import string      ## use string module\n",
    "\n",
    "print(\"Welcome to the Random Password Generator!\")\n",
    "length = int(input(\"Enter the length of the password: \"))    ## enter a password length\n",
    "complexity = input(\"Enter the complexity level (low, medium, high): \").lower()     ## enter password complixity\n",
    " \n",
    "if complexity == 'low':                                 ## complexity based generate password using if-elif-ele\n",
    "    character = string.ascii_letters + string.digits\n",
    "    \n",
    "elif complexity == 'medium':\n",
    "    character = string.ascii_letters + string.digits + string.punctuation\n",
    "\n",
    "elif complexity == 'high':\n",
    "    character = string.ascii_letters + string.digits + string.punctuation + string.ascii_uppercase \n",
    "else:\n",
    "    print(\"INVALID Complexity ....\")\n",
    "\n",
    "password = ''.join(random.choice(character) for i in range(length))\n",
    "           \n",
    "print(\"Your random password is:\", password)"
   ]
  },
  {
   "cell_type": "markdown",
   "id": "ade82344-389c-4dc6-a5ea-90e774c1a34a",
   "metadata": {},
   "source": [
    "24. Create a program that implements a simple text-based adventure game with branching scenarios."
   ]
  },
  {
   "cell_type": "code",
   "execution_count": 2,
   "id": "bfdf9249-7aa3-48f4-9783-15196fd2188b",
   "metadata": {},
   "outputs": [
    {
     "name": "stdout",
     "output_type": "stream",
     "text": [
      "Welcome to the Adventure Game!\n",
      "You find yourself standing in front of a mysterious cave.\n",
      "Do you want to enter the cave? (yes/no)\n"
     ]
    },
    {
     "name": "stdin",
     "output_type": "stream",
     "text": [
      ">  yes\n"
     ]
    },
    {
     "name": "stdout",
     "output_type": "stream",
     "text": [
      " in cave see a lion . you want to fight (yes/no): \n"
     ]
    },
    {
     "name": "stdin",
     "output_type": "stream",
     "text": [
      ">  yes\n"
     ]
    },
    {
     "name": "stdout",
     "output_type": "stream",
     "text": [
      "you do not fight a lion . because lion is strong . you are dead..\n",
      "GAME OVER......\n"
     ]
    }
   ],
   "source": [
    "\n",
    "    print(\"Welcome to the Adventure Game!\")  ## advanture game\n",
    "    print(\"You find yourself standing in front of a mysterious cave.\")\n",
    "\n",
    "    print(\"Do you want to enter the cave? (yes/no)\")\n",
    "\n",
    "    choice = input(\"> \").lower()\n",
    "    if choice == \"yes\":\n",
    "        \n",
    "        print(\" in cave see a lion . you want to fight (yes/no): \")\n",
    "        choice2 = input(\"> \").lower()\n",
    "    \n",
    "        if choice2 == 'yes':\n",
    "            print(\"you do not fight a lion . because lion is strong . you are dead..\")\n",
    "            print(\"GAME OVER......\")\n",
    "        else:\n",
    "            print(\"You are run in cave ....\")\n",
    "            print(\"Do you want to go to village (yes/no):\")\n",
    "            choice3 = input(\"> \").lower()\n",
    "            if choice3 == \"yes\":\n",
    "                print(\"you are araving village\")\n",
    "                print(\"your advanture is complete .\")\n",
    "                print(\"You are win.....\")\n",
    "            else:\n",
    "                print(\"You don't complet your advanture \")\n",
    "                print(\"GAME OVER....\")\n",
    "    \n",
    "    else:\n",
    "        print(\"You decide not to enter the cave. Game over.\")\n",
    "        print(\"you are diad . GAME OVER\")\n",
    "      \n"
   ]
  },
  {
   "cell_type": "markdown",
   "id": "b7d8c478-97f9-40b0-bd88-1a87411d3577",
   "metadata": {},
   "source": [
    "25. Build a program that solves a linear equation for x, considering different cases."
   ]
  },
  {
   "cell_type": "code",
   "execution_count": 3,
   "id": "93b5261e-8ac9-4c39-a0b7-fdc9ec261456",
   "metadata": {},
   "outputs": [
    {
     "name": "stdout",
     "output_type": "stream",
     "text": [
      "Welcome to the Linear Equation Solver!\n",
      "This program solves equations of the form ax + b = 0.\n"
     ]
    },
    {
     "name": "stdin",
     "output_type": "stream",
     "text": [
      "Enter the value of 'a':  5\n",
      "Enter the value of 'b':  6\n"
     ]
    },
    {
     "name": "stdout",
     "output_type": "stream",
     "text": [
      "The solution to the equation 5.0x + 6.0 = 0 is x = -1.2\n"
     ]
    }
   ],
   "source": [
    "    print(\"Welcome to the Linear Equation Solver!\")\n",
    "    print(\"This program solves equations of the form ax + b = 0.\")\n",
    "    a = float(input(\"Enter the value of 'a': \"))\n",
    "    b = float(input(\"Enter the value of 'b': \"))\n",
    "    \n",
    "    if a == 0:\n",
    "        if b == 0:\n",
    "            print(\"The equation is indeterminate. It has infinitely many solutions.\")\n",
    "        else:\n",
    "            print(\"The equation is inconsistent. It has no solution.\")\n",
    "    else:\n",
    "        x = -b / a\n",
    "        print(f\"The solution to the equation {a}x + {b} = 0 is x = {x}\")\n"
   ]
  },
  {
   "cell_type": "markdown",
   "id": "e85c706a-0712-4771-9454-8a9543687c15",
   "metadata": {},
   "source": [
    "26. Write a program that simulates a basic quiz game with multiple-choice questions and scoring."
   ]
  },
  {
   "cell_type": "code",
   "execution_count": 13,
   "id": "370ef470-4e74-410e-a2fb-6e99a3b50f9e",
   "metadata": {},
   "outputs": [
    {
     "name": "stdout",
     "output_type": "stream",
     "text": [
      "Wellcome to basic quiz game\n",
      "1. Which is the fastest animal?\n",
      " (A). bamboo  (B). cheetah (c). ant  (D). blue whale (E). 4\n"
     ]
    },
    {
     "name": "stdin",
     "output_type": "stream",
     "text": [
      ">  ant\n"
     ]
    },
    {
     "name": "stdout",
     "output_type": "stream",
     "text": [
      "2. What does a panda eat?\n",
      " (A). bamboo  (B). cheetah (c). ant  (D). blue whale (E). 4\n"
     ]
    },
    {
     "name": "stdin",
     "output_type": "stream",
     "text": [
      ">  bamboo\n"
     ]
    },
    {
     "name": "stdout",
     "output_type": "stream",
     "text": [
      " 3.Which insect can lift up to 50 times its body weight?\n",
      " (A). bamboo  (B). cheetah (c). ant  (D). blue whale (E). 4\n"
     ]
    },
    {
     "name": "stdin",
     "output_type": "stream",
     "text": [
      ">  ant\n"
     ]
    },
    {
     "name": "stdout",
     "output_type": "stream",
     "text": [
      "4.How many legs does a lion have?\n",
      " (A). bamboo  (B). cheetah (c). ant  (D). blue whale (E). 4\n"
     ]
    },
    {
     "name": "stdin",
     "output_type": "stream",
     "text": [
      ">  4\n"
     ]
    },
    {
     "name": "stdout",
     "output_type": "stream",
     "text": [
      "5. Which is the largest animal on earth?\n",
      " (A). bamboo  (B). cheetah (c). ant  (D). blue whale (E). 4\n"
     ]
    },
    {
     "name": "stdin",
     "output_type": "stream",
     "text": [
      ">  blue whale\n"
     ]
    },
    {
     "name": "stdout",
     "output_type": "stream",
     "text": [
      "Your Score is : 4 / 5 \n"
     ]
    }
   ],
   "source": [
    "print(\"Wellcome to basic quiz game\")\n",
    "\n",
    "que_ans = [(\"1. Which is the fastest animal?\" , \"cheetah\") , (\"2. What does a panda eat?\", \"bamboo\"), (\" 3.Which insect can lift up to 50 times its body weight?\",\"ant\"),(\"4.How many legs does a lion have?\", \"4\"), (\"5. Which is the largest animal on earth?\",\"blue whale\")]\n",
    "\n",
    "score = 0\n",
    "\n",
    "for que ,ans in que_ans:\n",
    "    print(que)\n",
    "    print(\" (A). bamboo  (B). cheetah (c). ant  (D). blue whale (E). 4\")\n",
    "    ans11 = input(\"> \")\n",
    "    if ans == ans11:\n",
    "        score += 1\n",
    "        \n",
    "print(f\"Your Score is : {score} / 5 \")"
   ]
  },
  {
   "cell_type": "markdown",
   "id": "8a3a0a83-48f5-4bbf-b910-8d03d5a74ced",
   "metadata": {},
   "source": [
    "27. Develop a program that determines whether a given year is a prime number or not."
   ]
  },
  {
   "cell_type": "code",
   "execution_count": 25,
   "id": "b1d7ed1c-3ac1-4ce0-a0f6-56694b4b9e06",
   "metadata": {},
   "outputs": [
    {
     "name": "stdin",
     "output_type": "stream",
     "text": [
      "Enter the year : 2003\n"
     ]
    },
    {
     "name": "stdout",
     "output_type": "stream",
     "text": [
      "2003 is prime year\n"
     ]
    }
   ],
   "source": [
    "year = int(input(\"Enter the year :\"))\n",
    "## cheak year is prime or not\n",
    "if year <= 1:\n",
    "    print(f\"enter the year {year} is not prime\")\n",
    "\n",
    "for i in range(2, int(year**0.5) + 1):\n",
    "    if year % i == 0:\n",
    "        print(f\"{year} is not-prime year\")\n",
    "        break\n",
    "    else:\n",
    "        print(f\"{year} is prime year\")\n",
    "        break"
   ]
  },
  {
   "cell_type": "markdown",
   "id": "6a9c44ca-e77d-433e-855a-21eddd7c192f",
   "metadata": {},
   "source": [
    "28. Create a program that sorts three numbers in ascending order using conditional statements."
   ]
  },
  {
   "cell_type": "code",
   "execution_count": 26,
   "id": "58a3268d-4e9b-4ec6-bbfc-99204ac3ae6e",
   "metadata": {},
   "outputs": [
    {
     "name": "stdin",
     "output_type": "stream",
     "text": [
      "Enter the num1:  1\n",
      "Enter the num2:  66\n",
      "Enter the num3:  3\n"
     ]
    },
    {
     "name": "stdout",
     "output_type": "stream",
     "text": [
      "1 3 66\n"
     ]
    }
   ],
   "source": [
    "a = int(input(\"Enter the num1: \"))\n",
    "b = int(input(\"Enter the num2: \"))\n",
    "c = int(input(\"Enter the num3: \"))\n",
    "\n",
    "if a > b and a > c:\n",
    "    num3 = a\n",
    "elif b > a and b > c:\n",
    "    num3 = b\n",
    "else:\n",
    "    num3 = c\n",
    "\n",
    "if a<b and a<c:\n",
    "    num1 = a\n",
    "elif b<a and b<c:\n",
    "    num1 = b\n",
    "else:\n",
    "    num1 = c\n",
    "num2 = a+b+c-num1-num3\n",
    "print(num1,num2,num3)\n"
   ]
  },
  {
   "cell_type": "markdown",
   "id": "ecfcf1c2-464b-4863-819e-384feaf50eb5",
   "metadata": {},
   "source": [
    "29. Build a program that determines the roots of a quartic equation using numerical methods."
   ]
  },
  {
   "cell_type": "code",
   "execution_count": 1,
   "id": "9a21fe68-dfbe-4641-8608-561624acf857",
   "metadata": {},
   "outputs": [
    {
     "name": "stdout",
     "output_type": "stream",
     "text": [
      "Roots of the quartic equation:\n",
      "1\n",
      "2\n",
      "3\n",
      "4\n"
     ]
    }
   ],
   "source": [
    "from sympy import symbols, solve\n",
    "\n",
    "# Define the symbols\n",
    "x = symbols('x')\n",
    "\n",
    "# Coefficients of the quartic equation: ax^4 + bx^3 + cx^2 + dx + e = 0\n",
    "a = 1\n",
    "b = -10\n",
    "c = 35\n",
    "d = -50\n",
    "e = 24\n",
    "\n",
    "# Define the quartic equation\n",
    "equation = a*x**4 + b*x**3 + c*x**2 + d*x + e\n",
    "\n",
    "# Solve the quartic equation\n",
    "roots = solve(equation, x)\n",
    "\n",
    "print(\"Roots of the quartic equation:\")\n",
    "for root in roots:\n",
    "    print(root)\n"
   ]
  },
  {
   "cell_type": "markdown",
   "id": "5d979598-1a42-4336-a176-4f463f4bca89",
   "metadata": {},
   "source": [
    "30. Write a program that calculates the BMI (Body Mass Index) and provides health recommendations based\n",
    "on the user's input."
   ]
  },
  {
   "cell_type": "code",
   "execution_count": 5,
   "id": "b91d9995-098b-4765-aa0d-47c6febd87f4",
   "metadata": {},
   "outputs": [
    {
     "name": "stdin",
     "output_type": "stream",
     "text": [
      "Enter your weight in kilograms:  55\n",
      "Enter your height in meters:  0.127\n"
     ]
    },
    {
     "name": "stdout",
     "output_type": "stream",
     "text": [
      "You are obese. It's important to consult with a healthcare professional for guidance.\n"
     ]
    }
   ],
   "source": [
    "weight = float(input(\"Enter your weight in kilograms: \"))\n",
    "height = float(input(\"Enter your height in meters: \"))\n",
    "\n",
    "bmi = weight/(height**2)     ## calculate body mass index\n",
    "\n",
    "if bmi < 18.5:\n",
    "    print(\"You are underweight. You may need to gain some weight.\")\n",
    "elif 18.5 <= bmi < 25:\n",
    "    print(\"You are within the healthy weight range. Keep up the good work!\")\n",
    "elif 25 <= bmi < 30:\n",
    "    print(\"You are overweight. You may need to lose some weight for better health.\")\n",
    "else:\n",
    "    print(\"You are obese. It's important to consult with a healthcare professional for guidance.\")"
   ]
  },
  {
   "cell_type": "markdown",
   "id": "cd0e0914-dd58-45b8-965f-ceb4fa674a22",
   "metadata": {},
   "source": [
    "Challenge Level:\n",
    "------"
   ]
  },
  {
   "cell_type": "markdown",
   "id": "05f3188a-eb6b-4ba0-8a55-0241ced74b9c",
   "metadata": {},
   "source": [
    "31. Create a program that validates a password based on complexity rules (length, characters, etc.)."
   ]
  },
  {
   "cell_type": "code",
   "execution_count": 6,
   "id": "98299e9e-b874-497c-a57c-bf9c49115ae0",
   "metadata": {},
   "outputs": [
    {
     "name": "stdin",
     "output_type": "stream",
     "text": [
      "Enter the password:  3k&}A9Q$\n"
     ]
    },
    {
     "name": "stdout",
     "output_type": "stream",
     "text": [
      "'3k&}A9Q$' > Password complexity is High.\n"
     ]
    }
   ],
   "source": [
    "import re\n",
    "import string \n",
    "password = input(\"Enter the password: \")\n",
    "\n",
    "low =0\n",
    "high = 0\n",
    "mid = 0\n",
    "\n",
    "digit = ['0', '1', '2', '3', '4', '5', '6', '7', '8', '9']\n",
    "pun = ['@', '#','!','~','$','%','^','&','*','(',',','-','+','/',':','.',',','<','>','?','|']\n",
    "abcd_s = ['a', 'b', 'c', 'd', 'e', 'f', 'g', 'h', 'i', 'j', 'k', 'l', 'm', 'n', 'o', 'p', 'q', 'r', 's', 't', 'u', 'v', 'w', 'x', 'y', 'z']\n",
    "abcd_c = ['A', 'B', 'C', 'D', 'E', 'F', 'G', 'H', 'I', 'J', 'K', 'L', 'M', 'N', 'O', 'P', 'Q', 'R', 'S', 'T', 'U', 'V', 'W', 'X', 'Y', 'Z']\n",
    "low =0\n",
    "mid =0\n",
    "high =0\n",
    "low2 =0\n",
    "if len(password) >= 8:\n",
    "    for i in password:\n",
    "        if i in abcd_s:\n",
    "            low += 1\n",
    "        if i in digit:\n",
    "            low2 += 1\n",
    "        if  i in pun:\n",
    "            mid +=1\n",
    "        if i in abcd_c:\n",
    "            high +=1\n",
    "\n",
    "        \n",
    "if (low2+low+mid+high)>= 4:\n",
    "    print(f\"'{password}' > Password complexity is High.\")   \n",
    "elif (low+low2+mid) >= 3:\n",
    "    print(f\"'{password}' > Password complexity is Medium.\")\n",
    "elif (low+low2) >= 2:\n",
    "    print(f\"'{password}' > Password complexity is Low.\")\n",
    "\n",
    "if len(password) <= 7:\n",
    "    print(\"eight(8) is the minimum number of characters that the NIST recommends\")\n",
    "    "
   ]
  },
  {
   "cell_type": "markdown",
   "id": "409d3778-5e77-4e32-a6c0-b49147f41dd5",
   "metadata": {},
   "source": [
    "32. Develop a program that performs matrix addition and subtraction based on user input"
   ]
  },
  {
   "cell_type": "code",
   "execution_count": 4,
   "id": "c4bfe50a-52b6-45ec-8c27-ab1a1a24b309",
   "metadata": {},
   "outputs": [
    {
     "name": "stdin",
     "output_type": "stream",
     "text": [
      "Row :  2\n",
      "Column :  2\n"
     ]
    },
    {
     "name": "stdout",
     "output_type": "stream",
     "text": [
      "Elements of Matrix1......\n"
     ]
    },
    {
     "name": "stdin",
     "output_type": "stream",
     "text": [
      "Enter element [0][0]:  1\n",
      "Enter element [0][1]:  1\n",
      "Enter element [1][0]:  1\n",
      "Enter element [1][1]:  1\n"
     ]
    },
    {
     "name": "stdout",
     "output_type": "stream",
     "text": [
      "Elements of Matrix2......\n"
     ]
    },
    {
     "name": "stdin",
     "output_type": "stream",
     "text": [
      "Enter element [0][0]:  1\n",
      "Enter element [0][1]:  1\n",
      "Enter element [1][0]:  1\n",
      "Enter element [1][1]:  1\n"
     ]
    },
    {
     "name": "stdout",
     "output_type": "stream",
     "text": [
      "matrix addition\n",
      "[[2, 2], [2, 2]]\n",
      "matrix subtraction\n",
      "[[0, 0], [0, 0]]\n"
     ]
    }
   ],
   "source": [
    "row = int(input(\"Row : \"))\n",
    "col = int(input(\"Column : \"))\n",
    "\n",
    "l = []\n",
    "print(\"Elements of Matrix1......\")\n",
    "matrix1 = [[int(input(f\"Enter element [{i}][{j}]: \")) for j in range(col)] for i in range(row)]\n",
    "print(\"Elements of Matrix2......\")\n",
    "matrix2 = [[int(input(f\"Enter element [{i}][{j}]: \")) for j in range(col)] for i in range(row)]\n",
    "\n",
    "result1 = [[0 for _ in range(len(matrix1[0]))] for _ in range(len(matrix1))]   ## create Empty Matrix for addition\n",
    "\n",
    "print(\"matrix addition\")\n",
    "for i in range(len(matrix1)):      ## range(len(matrix1)) : strating with first row\n",
    "    for j in range(len(matrix1[0])):  ## range(len(matrix1[0])) : no. of column (no. of element in row) [[1,2],[1,1]]\n",
    "        result1[i][j] = matrix1[i][j] + matrix2[i][j]                                                ##ex:  0      1\n",
    "\n",
    "print(result1)\n",
    "print(\"matrix subtraction\")\n",
    "\n",
    "result2 = [[0 for _ in range(len(matrix1[0]))] for _ in range(len(matrix1))]   ## create Empty Matrix for subtraction\n",
    "\n",
    "for i in range(len(matrix1)):\n",
    "    for j in range(len(matrix1[0])):\n",
    "        result2[i][j] = matrix1[i][j] - matrix2[i][j]\n",
    "\n",
    "print(result2)"
   ]
  },
  {
   "cell_type": "markdown",
   "id": "ef3071bb-040a-4841-b049-115aeede6b4c",
   "metadata": {},
   "source": [
    "33. Write a program that calculates the greatest common divisor (GCD) of two numbers using the Euclidean \n",
    "algorithm"
   ]
  },
  {
   "cell_type": "code",
   "execution_count": 3,
   "id": "c610f775-38b8-4586-be61-16a3f086d862",
   "metadata": {},
   "outputs": [
    {
     "name": "stdin",
     "output_type": "stream",
     "text": [
      "enter num1:  36\n",
      "enter num2 :  60\n"
     ]
    },
    {
     "name": "stdout",
     "output_type": "stream",
     "text": [
      "The greatest common divisor (GCD) of 36 and 60 is: 12\n"
     ]
    }
   ],
   "source": [
    "num1 = int(input(\"enter num1: \"))\n",
    "num2 = int(input(\"enter num2 : \"))\n",
    "a = 0\n",
    "b = 0\n",
    "\n",
    "if num1 < num2:   ## find min and max digit\n",
    "    a = num2\n",
    "    b = num1\n",
    "else:\n",
    "    a = num1\n",
    "    b = num2\n",
    "\n",
    "while b:\n",
    "    a , b = b , a%b   ## that step repeat until b=0 mean remainder =0 than terminate\n",
    "    gcd = a\n",
    "print(\"The greatest common divisor (GCD) of\", num1, \"and\", num2, \"is:\", gcd)"
   ]
  },
  {
   "cell_type": "markdown",
   "id": "978b29b6-ee36-402c-886e-2ca0e64a9d16",
   "metadata": {},
   "source": [
    "34. Build a program that performs matrix multiplication using nested loops and conditional statements"
   ]
  },
  {
   "cell_type": "code",
   "execution_count": 1,
   "id": "f948d30a-a323-452d-9a61-e935e0c8aeb9",
   "metadata": {},
   "outputs": [
    {
     "name": "stdin",
     "output_type": "stream",
     "text": [
      "Enter the number of rows for matrix 1:  2\n",
      "Enter the number of columns for matrix 1:  2\n",
      "Enter the number of rows for matrix 2:  2\n",
      "Enter the number of columns for matrix 2:  2\n"
     ]
    },
    {
     "name": "stdout",
     "output_type": "stream",
     "text": [
      "Enter elements of Matrix 1:\n"
     ]
    },
    {
     "name": "stdin",
     "output_type": "stream",
     "text": [
      "Enter element [0][0]:  1\n",
      "Enter element [0][1]:  1\n",
      "Enter element [1][0]:  1\n",
      "Enter element [1][1]:  1\n"
     ]
    },
    {
     "name": "stdout",
     "output_type": "stream",
     "text": [
      "Enter elements of Matrix 2:\n"
     ]
    },
    {
     "name": "stdin",
     "output_type": "stream",
     "text": [
      "Enter element [0][0]:  1\n",
      "Enter element [0][1]:  1\n",
      "Enter element [1][0]:  1\n",
      "Enter element [1][1]:  1\n"
     ]
    },
    {
     "name": "stdout",
     "output_type": "stream",
     "text": [
      "Matrix Multiplication Result:\n",
      "[2, 2]\n",
      "[2, 2]\n"
     ]
    }
   ],
   "source": [
    "\n",
    "row1 = int(input(\"Enter the number of rows for matrix 1: \"))\n",
    "col1 = int(input(\"Enter the number of columns for matrix 1: \"))\n",
    "row2 = int(input(\"Enter the number of rows for matrix 2: \"))\n",
    "col2 = int(input(\"Enter the number of columns for matrix 2: \"))\n",
    "\n",
    "if col1 != row2:\n",
    "    print(\"Matrices cannot be multiplied: Number of columns in matrix 1 must be equal to the number of rows in matrix 2.\")\n",
    "    \n",
    "\n",
    "print(\"Enter elements of Matrix 1:\")\n",
    "matrix1 = [[int(input(f\"Enter element [{i}][{j}]: \")) for j in range(col1)] for i in range(row1)]\n",
    "\n",
    "print(\"Enter elements of Matrix 2:\")\n",
    "matrix2 = [[int(input(f\"Enter element [{i}][{j}]: \")) for j in range(col2)] for i in range(row2)]\n",
    "\n",
    "  ## create Empty Matrix for addition\n",
    "result = [[0 for _ in range(len(matrix2[0]))] for _ in range(len(matrix1))]\n",
    "for i in range(len(matrix1)):\n",
    "    for j in range(len(matrix2[0])):\n",
    "        for k in range(len(matrix2)):\n",
    "            result[i][j] += matrix1[i][k] * matrix2[k][j]\n",
    "if result:\n",
    "        print(\"Matrix Multiplication Result:\")\n",
    "        for row in result:\n",
    "            print(row)\n"
   ]
  },
  {
   "cell_type": "markdown",
   "id": "8232d9f7-f101-4b46-add7-a3c3310af57a",
   "metadata": {},
   "source": [
    "35. Create a program that simulates a basic text-based tic-tac-toe game against the computer."
   ]
  },
  {
   "cell_type": "code",
   "execution_count": 1,
   "id": "5aee87f7-fbb1-4e05-b038-7e672c4992a2",
   "metadata": {},
   "outputs": [
    {
     "name": "stdout",
     "output_type": "stream",
     "text": [
      "- | - | -\n",
      "- | - | -\n",
      "- | - | -\n",
      "Xyour's turn.\n"
     ]
    },
    {
     "name": "stdin",
     "output_type": "stream",
     "text": [
      "Choose a position from 1-9:  1\n"
     ]
    },
    {
     "name": "stdout",
     "output_type": "stream",
     "text": [
      "X | - | -\n",
      "- | - | -\n",
      "- | - | -\n",
      "OComputer's turn.\n",
      "X | - | -\n",
      "- | - | -\n",
      "- | - | O\n",
      "Xyour's turn.\n"
     ]
    },
    {
     "name": "stdin",
     "output_type": "stream",
     "text": [
      "Choose a position from 1-9:  6\n"
     ]
    },
    {
     "name": "stdout",
     "output_type": "stream",
     "text": [
      "X | - | -\n",
      "- | - | X\n",
      "- | - | O\n",
      "OComputer's turn.\n",
      "X | - | O\n",
      "- | - | X\n",
      "- | - | O\n",
      "Xyour's turn.\n"
     ]
    },
    {
     "name": "stdin",
     "output_type": "stream",
     "text": [
      "Choose a position from 1-9:  3\n",
      "Position already taken. Choose a different position:  4\n"
     ]
    },
    {
     "name": "stdout",
     "output_type": "stream",
     "text": [
      "X | - | O\n",
      "X | - | X\n",
      "- | - | O\n",
      "OComputer's turn.\n",
      "X | O | O\n",
      "X | - | X\n",
      "- | - | O\n",
      "Xyour's turn.\n"
     ]
    },
    {
     "name": "stdin",
     "output_type": "stream",
     "text": [
      "Choose a position from 1-9:  5\n"
     ]
    },
    {
     "name": "stdout",
     "output_type": "stream",
     "text": [
      "X | O | O\n",
      "X | X | X\n",
      "- | - | O\n",
      "X wins!\n"
     ]
    }
   ],
   "source": [
    "import random\n",
    "\n",
    "# Set up the game board as a list\n",
    "board = [\"-\", \"-\", \"-\",\n",
    "         \"-\", \"-\", \"-\",\n",
    "         \"-\", \"-\", \"-\"]\n",
    "\n",
    "# Define a function to print the game board\n",
    "def print_board():\n",
    "    print(board[0] + \" | \" + board[1] + \" | \" + board[2])\n",
    "    print(board[3] + \" | \" + board[4] + \" | \" + board[5])\n",
    "    print(board[6] + \" | \" + board[7] + \" | \" + board[8])\n",
    "\n",
    "# Define a function to handle a player's turn\n",
    "def take_turn(player):\n",
    "    if player == \"X\":\n",
    "        print(player + \"your's turn.\")\n",
    "        position = input(\"Choose a position from 1-9: \")\n",
    "        while position not in [\"1\", \"2\", \"3\", \"4\", \"5\", \"6\", \"7\", \"8\", \"9\"]:\n",
    "            position = input(\"Invalid input. Choose a position from 1-9: \")\n",
    "        position = int(position) - 1\n",
    "        while board[position] != \"-\":\n",
    "            position = int(input(\"Position already taken. Choose a different position: \")) - 1\n",
    "        board[position] = player\n",
    "        print_board()\n",
    "    \n",
    "    elif player == \"O\":\n",
    "        print(player + \"Computer's turn.\")\n",
    "        position = random.randint(0, 8)\n",
    "        while board[position] != \"-\":\n",
    "            position = random.randint(0, 8)\n",
    "        board[position] = player\n",
    "        print_board()\n",
    "\n",
    "# Define a function to check if the game is over\n",
    "def check_game_over():\n",
    "    # Check for a win\n",
    "    if (board[0] == board[1] == board[2] != \"-\") or \\\n",
    "       (board[3] == board[4] == board[5] != \"-\") or \\\n",
    "       (board[6] == board[7] == board[8] != \"-\") or \\\n",
    "       (board[0] == board[3] == board[6] != \"-\") or \\\n",
    "       (board[1] == board[4] == board[7] != \"-\") or \\\n",
    "       (board[2] == board[5] == board[8] != \"-\") or \\\n",
    "       (board[0] == board[4] == board[8] != \"-\") or \\\n",
    "       (board[2] == board[4] == board[6] != \"-\"):\n",
    "        return \"win\"\n",
    "    # Check for a tie\n",
    "    elif \"-\" not in board:\n",
    "        return \"tie\"\n",
    "    # Game is not over\n",
    "    else:\n",
    "        return \"play\"\n",
    "\n",
    "# Define the main game loop\n",
    "def play_game():\n",
    "    print_board()\n",
    "    current_player = \"X\"\n",
    "    game_over = False\n",
    "    while not game_over:\n",
    "        take_turn(current_player)\n",
    "        game_result = check_game_over()\n",
    "        if game_result == \"win\":\n",
    "            print(current_player + \" wins!\")\n",
    "            game_over = True\n",
    "        elif game_result == \"tie\":\n",
    "            print(\"It's a tie!\")\n",
    "            game_over = True\n",
    "        else:\n",
    "            # Switch to the other player\n",
    "            current_player = \"O\" if current_player == \"X\" else \"X\"\n",
    "\n",
    "# Start the game\n",
    "play_game()\n"
   ]
  },
  {
   "cell_type": "markdown",
   "id": "ce0cd64f-b1c5-4825-97a0-b612644dac43",
   "metadata": {},
   "source": [
    "36. Write a program that generates Fibonacci numbers up to a specified term using iterative methods"
   ]
  },
  {
   "cell_type": "code",
   "execution_count": 4,
   "id": "9ffda3fb-78d1-450d-9530-05447a6c1919",
   "metadata": {},
   "outputs": [
    {
     "name": "stdin",
     "output_type": "stream",
     "text": [
      "enerates Fibonacci numbers up to :  10\n"
     ]
    },
    {
     "name": "stdout",
     "output_type": "stream",
     "text": [
      "0\n",
      "1\n",
      "1\n",
      "2\n",
      "3\n",
      "5\n",
      "8\n",
      "13\n",
      "21\n",
      "34\n"
     ]
    }
   ],
   "source": [
    "n = int(input(\"enerates Fibonacci numbers up to : \"))\n",
    "fibonacci_sequence = [0, 1]  # Initialize the sequence with the first two Fibonacci numbers\n",
    "while len(fibonacci_sequence) < n:\n",
    "    next_number = fibonacci_sequence[-1] + fibonacci_sequence[-2]  # Calculate the next Fibonacci number\n",
    "    fibonacci_sequence.append(next_number)  # Add the next Fibonacci number to the sequence\n",
    "for i in fibonacci_sequence:\n",
    "    print(i)"
   ]
  },
  {
   "cell_type": "markdown",
   "id": "14c6ab7f-e39d-4689-abaa-221c57b147aa",
   "metadata": {},
   "source": [
    "37. Develop a program that calculates the nth term of the Fibonacci sequence using memoization"
   ]
  },
  {
   "cell_type": "code",
   "execution_count": 6,
   "id": "f1ddae82-661a-4d73-8f4f-edcb7bc3e1a6",
   "metadata": {},
   "outputs": [
    {
     "name": "stdin",
     "output_type": "stream",
     "text": [
      "enerates Fibonacci numbers up to :  10\n"
     ]
    },
    {
     "name": "stdout",
     "output_type": "stream",
     "text": [
      "nth term of the Fibonacci sequence :34\n"
     ]
    }
   ],
   "source": [
    "n = int(input(\"enerates Fibonacci numbers up to : \"))\n",
    "fibonacci_sequence = [0, 1]  # Initialize the sequence with the first two Fibonacci numbers\n",
    "while len(fibonacci_sequence) < n:\n",
    "    next_number = fibonacci_sequence[-1] + fibonacci_sequence[-2]  # Calculate the next Fibonacci number\n",
    "    fibonacci_sequence.append(next_number)  # Add the next Fibonacci number to the sequence\n",
    "print(f\"nth term of the Fibonacci sequence :{fibonacci_sequence[-1]}\")"
   ]
  },
  {
   "cell_type": "markdown",
   "id": "6f9253a6-a1a1-4f93-8836-7dc0b80707be",
   "metadata": {},
   "source": [
    "38. Create a program that generates a calendar for a given month and year using conditional statements"
   ]
  },
  {
   "cell_type": "code",
   "execution_count": 1,
   "id": "182697de-9449-4866-9226-c1bdc7f96c6d",
   "metadata": {},
   "outputs": [
    {
     "name": "stdin",
     "output_type": "stream",
     "text": [
      "Enter the year:  2024\n",
      "Enter the month (1-12):  2\n"
     ]
    },
    {
     "name": "stdout",
     "output_type": "stream",
     "text": [
      "February 2024\n",
      "Mo Tu We Th Fr Sa Su\n",
      "          1  2  3  4 \n",
      " 5  6  7  8  9 10 11 \n",
      "12 13 14 15 16 17 18 \n",
      "19 20 21 22 23 24 25 \n",
      "26 27 28 29 \n"
     ]
    }
   ],
   "source": [
    "import calendar\n",
    "\n",
    "def generate_calendar(month, year):\n",
    "    # Print the header with the month and year\n",
    "    print(calendar.month_name[month], year)\n",
    "    print(\"Mo Tu We Th Fr Sa Su\")\n",
    "\n",
    "    # Get the weekday of the first day of the month\n",
    "    first_weekday, num_days = calendar.monthrange(year, month)\n",
    "\n",
    "    # Initialize the calendar with spaces for the days before the first day of the month\n",
    "    calendar_string = \"   \" * first_weekday\n",
    "\n",
    "    # Fill in the calendar with the days of the month\n",
    "    for day in range(1, num_days + 1):\n",
    "        calendar_string += f\"{day:2d} \"\n",
    "        # Start a new line for the next week\n",
    "        if (first_weekday + day) % 7 == 0:\n",
    "            calendar_string += \"\\n\"\n",
    "\n",
    "    print(calendar_string)\n",
    "\n",
    "def main():\n",
    "    try:\n",
    "        year = int(input(\"Enter the year: \"))\n",
    "        month = int(input(\"Enter the month (1-12): \"))\n",
    "        if 1 <= month <= 12:\n",
    "            generate_calendar(month, year)\n",
    "        else:\n",
    "            print(\"Please enter a valid month (1-12).\")\n",
    "    except ValueError:\n",
    "        print(\"Invalid input. Please enter valid integers for year and month.\")\n",
    "\n",
    "if __name__ == \"__main__\":\n",
    "    main()\n"
   ]
  },
  {
   "cell_type": "markdown",
   "id": "cf1f0de4-7cae-419b-8876-664523282efc",
   "metadata": {},
   "source": [
    "39. Build a program that simulates a basic text-based blackjack game against the computer"
   ]
  },
  {
   "cell_type": "code",
   "execution_count": 8,
   "id": "81907d0a-7b47-4e91-bde0-80198f506b82",
   "metadata": {},
   "outputs": [
    {
     "name": "stdout",
     "output_type": "stream",
     "text": [
      "\n",
      "===== BLACKJACK =====\n",
      "Player's cards: [8, 7] (Score: 15 )\n",
      "Dealer's cards: [7, 10] (Score: 17 )\n"
     ]
    },
    {
     "name": "stdin",
     "output_type": "stream",
     "text": [
      "\n",
      "Do you want to Hit or Stand? (h/s):  h\n",
      "\n",
      "Do you want to Hit or Stand? (h/s):  s\n"
     ]
    },
    {
     "name": "stdout",
     "output_type": "stream",
     "text": [
      "\n",
      "===== BLACKJACK =====\n",
      "Player's cards: [8, 7, 3] (Score: 18 )\n",
      "Dealer's cards: [7, 10] (Score: 17 )\n",
      "Congratulations! You win.\n"
     ]
    }
   ],
   "source": [
    "import random\n",
    "\n",
    "def deal_card():\n",
    "    \"\"\"Deal a random card.\"\"\"\n",
    "    cards = [2, 3, 4, 5, 6, 7, 8, 9, 10, 10, 10, 10, 11]  # 11 represents Ace\n",
    "    return random.choice(cards)\n",
    "\n",
    "def calculate_score(cards):\n",
    "    \"\"\"Calculate the score of a hand.\"\"\"\n",
    "    score = sum(cards)\n",
    "    if score > 21 and 11 in cards:\n",
    "        cards.remove(11)\n",
    "        cards.append(1)\n",
    "        score = sum(cards)\n",
    "    return score\n",
    "\n",
    "def display_board(player_cards, dealer_cards, player_score, dealer_score, game_over=False):\n",
    "    \"\"\"Display the game board.\"\"\"\n",
    "    print(\"\\n===== BLACKJACK =====\")\n",
    "    print(\"Player's cards:\", player_cards, \"(Score:\", player_score, \")\")\n",
    "    print(\"Dealer's cards:\", dealer_cards, \"(Score:\", dealer_score, \")\")\n",
    "    if game_over:\n",
    "        if player_score > 21:\n",
    "            print(\"Bust! You lose.\")\n",
    "        elif dealer_score > 21 or player_score > dealer_score:\n",
    "            print(\"Congratulations! You win.\")\n",
    "        elif dealer_score > player_score:\n",
    "            print(\"Dealer wins.\")\n",
    "        else:\n",
    "            print(\"It's a tie!\")\n",
    "\n",
    "def play_blackjack():\n",
    "    \"\"\"Play a game of Blackjack.\"\"\"\n",
    "    player_cards = [deal_card(), deal_card()]\n",
    "    dealer_cards = [deal_card(), deal_card()]\n",
    "    player_score = calculate_score(player_cards)\n",
    "    dealer_score = calculate_score(dealer_cards)\n",
    "\n",
    "    display_board(player_cards, dealer_cards, player_score, dealer_score)\n",
    "\n",
    "    game_over = False\n",
    "    while not game_over:\n",
    "        if player_score == 21 or dealer_score == 21 or player_score > 21:\n",
    "            game_over = True\n",
    "            display_board(player_cards, dealer_cards, player_score, dealer_score, game_over=True)\n",
    "            break\n",
    "        \n",
    "        choice = input(\"\\nDo you want to Hit or Stand? (h/s): \").lower()\n",
    "        if choice == 'h':\n",
    "            player_cards.append(deal_card())\n",
    "            player_score = calculate_score(player_cards)\n",
    "        elif choice == 's':\n",
    "            while dealer_score < 17:\n",
    "                dealer_cards.append(deal_card())\n",
    "                dealer_score = calculate_score(dealer_cards)\n",
    "            game_over = True\n",
    "            display_board(player_cards, dealer_cards, player_score, dealer_score, game_over=True)\n",
    "        else:\n",
    "            print(\"Invalid input. Please enter 'h' to Hit or 's' to Stand.\")\n",
    "\n",
    "def main():\n",
    "    play_blackjack()\n",
    "\n",
    "if __name__ == \"__main__\":\n",
    "    main()\n"
   ]
  },
  {
   "cell_type": "markdown",
   "id": "0cd5189d-037b-473b-9760-3d20c7053671",
   "metadata": {},
   "source": [
    "40. Write a program that generates the prime factors of a given number using trial division"
   ]
  },
  {
   "cell_type": "code",
   "execution_count": 9,
   "id": "4aceef47-aa10-4f6a-94ec-1a502fec3b1b",
   "metadata": {},
   "outputs": [
    {
     "name": "stdin",
     "output_type": "stream",
     "text": [
      "Enter a positive integer:  56\n"
     ]
    },
    {
     "name": "stdout",
     "output_type": "stream",
     "text": [
      "The prime factors of 56 are: 2, 2, 2, 7\n"
     ]
    }
   ],
   "source": [
    "def prime_factors(n):\n",
    "    factors = []\n",
    "    divisor = 2\n",
    "    while n > 1:\n",
    "        while n % divisor == 0:\n",
    "            factors.append(divisor)\n",
    "            n //= divisor\n",
    "        divisor += 1\n",
    "    return factors\n",
    "\n",
    "def main():\n",
    "    try:\n",
    "        number = int(input(\"Enter a positive integer: \"))\n",
    "        if number <= 0:\n",
    "            print(\"Please enter a positive integer.\")\n",
    "        else:\n",
    "            factors = prime_factors(number)\n",
    "            if len(factors) == 1:\n",
    "                print(f\"The prime factor of {number} is: {factors[0]}\")\n",
    "            else:\n",
    "                print(f\"The prime factors of {number} are: {', '.join(map(str, factors))}\")\n",
    "    except ValueError:\n",
    "        print(\"Invalid input. Please enter a valid integer.\")\n",
    "\n",
    "if __name__ == \"__main__\":\n",
    "    main()\n"
   ]
  },
  {
   "cell_type": "code",
   "execution_count": null,
   "id": "109f7304-e5de-43de-b427-f76413bdb4cc",
   "metadata": {},
   "outputs": [],
   "source": []
  }
 ],
 "metadata": {
  "kernelspec": {
   "display_name": "Python 3 (ipykernel)",
   "language": "python",
   "name": "python3"
  },
  "language_info": {
   "codemirror_mode": {
    "name": "ipython",
    "version": 3
   },
   "file_extension": ".py",
   "mimetype": "text/x-python",
   "name": "python",
   "nbconvert_exporter": "python",
   "pygments_lexer": "ipython3",
   "version": "3.10.8"
  }
 },
 "nbformat": 4,
 "nbformat_minor": 5
}

{
 "cells": [
  {
   "cell_type": "markdown",
   "id": "a95f70e0-6c50-45ec-a74f-c31530220946",
   "metadata": {},
   "source": [
    "----------------------------------------"
   ]
  },
  {
   "cell_type": "markdown",
   "id": "747c53d4-1a61-43a7-b0e0-3499dd638ebe",
   "metadata": {},
   "source": [
    "For Loop\n",
    "------------"
   ]
  },
  {
   "cell_type": "markdown",
   "id": "14b4b696-5073-4bc0-b83d-82f179d85d64",
   "metadata": {},
   "source": [
    "------------------------------"
   ]
  },
  {
   "cell_type": "raw",
   "id": "f70fba79-d533-4e0d-a12e-85dc8953606e",
   "metadata": {},
   "source": [
    "Basic Level:"
   ]
  },
  {
   "cell_type": "markdown",
   "id": "106ea7a0-5462-4e62-8346-59e3e64dcf35",
   "metadata": {},
   "source": [
    "1. Write a Python program to print the numbers from 1 to 10 using a `for` loop."
   ]
  },
  {
   "cell_type": "code",
   "execution_count": 2,
   "id": "424942ea-3efa-409c-9d9a-44ee90b025a5",
   "metadata": {},
   "outputs": [
    {
     "name": "stdout",
     "output_type": "stream",
     "text": [
      "1\n",
      "2\n",
      "3\n",
      "4\n",
      "5\n",
      "6\n",
      "7\n",
      "8\n",
      "9\n",
      "10\n"
     ]
    }
   ],
   "source": [
    "#start create for loop\n",
    "for i in range(1,11):\n",
    "    print(i)"
   ]
  },
  {
   "cell_type": "markdown",
   "id": "3629eef5-4ed1-4746-99c6-93598ddd3981",
   "metadata": {},
   "source": [
    "2. Create a program that calculates the sum of all numbers in a list using a `for` loop."
   ]
  },
  {
   "cell_type": "code",
   "execution_count": 3,
   "id": "bb319c9a-8b18-4063-9a4e-e5617a7fdde5",
   "metadata": {},
   "outputs": [
    {
     "name": "stdout",
     "output_type": "stream",
     "text": [
      "sum of element in a list :  36\n"
     ]
    }
   ],
   "source": [
    "## create a list\n",
    "l = [1,2,3,4,5,6,7,8]\n",
    "\n",
    "# for loop\n",
    "sum = 0\n",
    "for i in l:\n",
    "    sum += i\n",
    "print(\"sum of element in a list : \",sum)"
   ]
  },
  {
   "cell_type": "markdown",
   "id": "2a4eed13-a926-462a-9a58-0df0bdd87a42",
   "metadata": {},
   "source": [
    "3. Write a program to print the characters of a string in reverse order using a `for` loop."
   ]
  },
  {
   "cell_type": "code",
   "execution_count": 4,
   "id": "05bd0330-d9f7-4537-88ee-07e40f4d7f3f",
   "metadata": {},
   "outputs": [
    {
     "name": "stdout",
     "output_type": "stream",
     "text": [
      "o\n",
      "l\n",
      "l\n",
      "e\n",
      "H\n"
     ]
    }
   ],
   "source": [
    "## create a string\n",
    "s = \"Hello\"\n",
    "\n",
    "## reverse character in a string using foor loop\n",
    "for i in s[::-1]:\n",
    "    print(i)"
   ]
  },
  {
   "cell_type": "markdown",
   "id": "6954ed5f-0786-41c5-aa3f-d4cf03d273a0",
   "metadata": {},
   "source": [
    "4. Develop a program that finds the factorial of a given number using a `for` loop."
   ]
  },
  {
   "cell_type": "code",
   "execution_count": 8,
   "id": "7a63260c-cdfc-48bc-8b50-606e55d89584",
   "metadata": {},
   "outputs": [
    {
     "name": "stdin",
     "output_type": "stream",
     "text": [
      "enter the number: 5\n"
     ]
    },
    {
     "name": "stdout",
     "output_type": "stream",
     "text": [
      "factorial of given number is : 120\n"
     ]
    }
   ],
   "source": [
    "number = int(input(\"enter the number:\"))\n",
    "\n",
    "# finn fatorial using for loop\n",
    "factorial = 1\n",
    "for i in range(number , 1, -1):\n",
    "    factorial = factorial*i\n",
    "print(\"factorial of given number is :\",factorial)"
   ]
  },
  {
   "cell_type": "markdown",
   "id": "e56858e2-d925-48ac-8aa0-be0454febd89",
   "metadata": {},
   "source": [
    "5. Create a program to print the multiplication table of a given number using a `for` loop."
   ]
  },
  {
   "cell_type": "code",
   "execution_count": 9,
   "id": "ba669a1f-fed9-4306-9cc2-1f961e12cbcc",
   "metadata": {},
   "outputs": [
    {
     "name": "stdin",
     "output_type": "stream",
     "text": [
      "enter the number: 2\n"
     ]
    },
    {
     "name": "stdout",
     "output_type": "stream",
     "text": [
      "2 * 1 = 2\n",
      "2 * 2 = 4\n",
      "2 * 3 = 6\n",
      "2 * 4 = 8\n",
      "2 * 5 = 10\n",
      "2 * 6 = 12\n",
      "2 * 7 = 14\n",
      "2 * 8 = 16\n",
      "2 * 9 = 18\n",
      "2 * 10 = 20\n"
     ]
    }
   ],
   "source": [
    "number = int(input(\"enter the number:\"))\n",
    "\n",
    "## print table using for loop\n",
    "for i in range(1,11):\n",
    "    print(f\"{number} * {i} = {number*i}\")"
   ]
  },
  {
   "cell_type": "markdown",
   "id": "4197677b-90a3-4b46-bbc5-cde4330918d7",
   "metadata": {},
   "source": [
    "6. Write a program that counts the number of even and odd numbers in a list using a `for` loop."
   ]
  },
  {
   "cell_type": "code",
   "execution_count": 13,
   "id": "cbcb71a8-2bc5-45dd-ad41-828ea91b4eeb",
   "metadata": {},
   "outputs": [
    {
     "name": "stdout",
     "output_type": "stream",
     "text": [
      "number of odd :5 and number of even :5 \n"
     ]
    }
   ],
   "source": [
    "## create a list\n",
    "l = [1,2,3,4,5,6,7,8,9,10]\n",
    "\n",
    "## count num of odd and even using foor loop\n",
    "count_even = 0\n",
    "count_odd = 0\n",
    "for i in l:\n",
    "    if i%2 == 0:\n",
    "        count_even +=1\n",
    "    else:\n",
    "        count_odd +=1\n",
    "print(f\"number of odd :{count_odd} and number of even :{count_even} \")\n"
   ]
  },
  {
   "cell_type": "markdown",
   "id": "d7d36673-6003-4dc1-a667-d8731e24153d",
   "metadata": {},
   "source": [
    "7. Develop a program that prints the squares of numbers from 1 to 5 using a `for` loop"
   ]
  },
  {
   "cell_type": "code",
   "execution_count": 14,
   "id": "8f2ceef7-c2db-4fe7-9a8e-ca82803e1a4f",
   "metadata": {},
   "outputs": [
    {
     "name": "stdout",
     "output_type": "stream",
     "text": [
      "1\n",
      "4\n",
      "9\n",
      "16\n",
      "25\n"
     ]
    }
   ],
   "source": [
    "## square of 1 to 5 num print using for loop\n",
    "for i in range(1,6):\n",
    "    print(i**2)"
   ]
  },
  {
   "cell_type": "markdown",
   "id": "5185b3d9-3da4-432d-a544-c6958198ab38",
   "metadata": {},
   "source": [
    "8. Create a program to find the length of a string without using the `len()` function."
   ]
  },
  {
   "cell_type": "code",
   "execution_count": 17,
   "id": "c5935969-ba64-433a-b96c-ff3b3136d774",
   "metadata": {},
   "outputs": [
    {
     "name": "stdout",
     "output_type": "stream",
     "text": [
      "length of string : 5\n"
     ]
    }
   ],
   "source": [
    "## create a string \n",
    "s = \"Hello\"\n",
    "\n",
    "## find length of string using foor loop\n",
    "le = 0\n",
    "for i in s:\n",
    "    le +=1\n",
    "print(f\"length of string : {le}\")"
   ]
  },
  {
   "cell_type": "markdown",
   "id": "b240b225-9b69-44b6-bc23-00a6762be696",
   "metadata": {},
   "source": [
    "9. Write a program that calculates the average of a list of numbers using a `for` loop."
   ]
  },
  {
   "cell_type": "code",
   "execution_count": 21,
   "id": "426d1898-0f63-420b-ab37-f411aac54c65",
   "metadata": {},
   "outputs": [
    {
     "name": "stdout",
     "output_type": "stream",
     "text": [
      "Average of a list : 5.5\n"
     ]
    }
   ],
   "source": [
    "## create a list\n",
    "l = [1,2,3,4,5,6,7,8,9,10]\n",
    "\n",
    "## find a average of a list element using for loop\n",
    "sum = 0\n",
    "n = len(l)\n",
    "for i in l:\n",
    "    sum +=i\n",
    "print(f\"Average of a list : {sum/n}\")"
   ]
  },
  {
   "cell_type": "markdown",
   "id": "bd515bad-a5ff-43c2-9ab2-ef2c4b3e846f",
   "metadata": {},
   "source": [
    "10. Develop a program that prints the first `n` Fibonacci numbers using a `for` loop.\n"
   ]
  },
  {
   "cell_type": "code",
   "execution_count": 26,
   "id": "ce065754-52f4-41ef-b352-529e975a0c9b",
   "metadata": {},
   "outputs": [
    {
     "name": "stdin",
     "output_type": "stream",
     "text": [
      "enter the number : 10\n"
     ]
    },
    {
     "name": "stdout",
     "output_type": "stream",
     "text": [
      "[0, 1, 1, 2, 3, 5, 8, 13, 21, 34]\n"
     ]
    }
   ],
   "source": [
    "## print first n fibonacci number\n",
    "n = int(input(\"enter the number :\"))\n",
    "\n",
    "l = [0,1]\n",
    "## using for loop\n",
    "for i in range(n):\n",
    "    fibo = l[-1] + l[-2]\n",
    "    l.append(fibo)\n",
    "print(l[:n])"
   ]
  },
  {
   "cell_type": "markdown",
   "id": "e7696db8-2ab5-4453-9aca-35b3160e1555",
   "metadata": {},
   "source": [
    "----------------------------------------------------------"
   ]
  },
  {
   "cell_type": "raw",
   "id": "e7d126a3-cf69-4c53-ba95-04bb3493f971",
   "metadata": {},
   "source": [
    "Intermediate Level:"
   ]
  },
  {
   "cell_type": "markdown",
   "id": "23c3b4c2-227e-461d-9022-78ed3ddcf7a7",
   "metadata": {},
   "source": [
    "11. Write a program to check if a given list contains any duplicates using a `for` loop"
   ]
  },
  {
   "cell_type": "code",
   "execution_count": 32,
   "id": "10a9c763-437a-43a5-a538-6ebec814e631",
   "metadata": {},
   "outputs": [
    {
     "name": "stdout",
     "output_type": "stream",
     "text": [
      "List is not contain any duplicates\n"
     ]
    }
   ],
   "source": [
    "## create a list\n",
    "l = [1,2,3,4,5,6,7,8]\n",
    "l1 =[]\n",
    "## check if a list contain any dublicates\n",
    "for i in l:\n",
    "        if i not in l1:\n",
    "            l1.append(i)\n",
    "if len(l) == len(l1):\n",
    "    print(\"List is not contain any duplicates\")\n",
    "else:\n",
    "    print(\"yes , List is contain duplicates\")"
   ]
  },
  {
   "cell_type": "markdown",
   "id": "9e819ccb-2501-45a8-8875-b7d7ffc3bae2",
   "metadata": {},
   "source": [
    "12. Create a program that prints the prime numbers in a given range using a `for` loop."
   ]
  },
  {
   "cell_type": "code",
   "execution_count": 1,
   "id": "562bf240-2ae0-4761-9023-f898d7fa06f1",
   "metadata": {},
   "outputs": [
    {
     "name": "stdin",
     "output_type": "stream",
     "text": [
      "Enter the start of range:  0\n",
      "Enter the end of range:  10\n"
     ]
    },
    {
     "name": "stdout",
     "output_type": "stream",
     "text": [
      "2\n",
      "3\n",
      "5\n",
      "7\n"
     ]
    }
   ],
   "source": [
    "## print a prime number in given range using for loop\n",
    "\n",
    "start = int(input(\"Enter the start of range: \"))\n",
    "end = int(input(\"Enter the end of range: \"))\n",
    "\n",
    "for num in range(start, end + 1):\n",
    "   if num > 1:\n",
    "       for i in range(2, int(num**0.5) + 1):\n",
    "           if (num % i) == 0:\n",
    "               break\n",
    "       else:\n",
    "           print(num)"
   ]
  },
  {
   "cell_type": "markdown",
   "id": "045c6fc0-f942-43e6-9dba-9ecfd7323279",
   "metadata": {},
   "source": [
    "13. Develop a program that counts the number of vowels in a string using a `for` loop."
   ]
  },
  {
   "cell_type": "code",
   "execution_count": 2,
   "id": "62e70f9f-a397-4b9f-ad43-86794129e517",
   "metadata": {},
   "outputs": [
    {
     "name": "stdout",
     "output_type": "stream",
     "text": [
      "Number of vowels in a givem string :  2\n"
     ]
    }
   ],
   "source": [
    "## create a string\n",
    "s = \"krishna\"\n",
    "\n",
    "## count number of vowels in string\n",
    "count = 0\n",
    "for i in s:\n",
    "    if i.lower() in \"aeiou\":\n",
    "        count +=1\n",
    "print(\"Number of vowels in a givem string : \" ,count)"
   ]
  },
  {
   "cell_type": "markdown",
   "id": "e4ecba4d-acf9-49cd-8ee3-50e49262f2cf",
   "metadata": {},
   "source": [
    "14. Write a program to find the maximum element in a 2D list using a nested `for` loop"
   ]
  },
  {
   "cell_type": "code",
   "execution_count": 4,
   "id": "3ad43d2a-eb7f-42ff-8e92-0014c5237d3b",
   "metadata": {},
   "outputs": [
    {
     "name": "stdout",
     "output_type": "stream",
     "text": [
      "maximum element in a 2D list is a :  12\n"
     ]
    }
   ],
   "source": [
    "## 2D list\n",
    "l = [[1,2,3,4] , [12,11] , [3,6,7]]\n",
    "\n",
    "## find maximum element in a 2d list using nested for loop\n",
    "l1 = []\n",
    "max = 0\n",
    "for n in l:\n",
    "    for i in n:\n",
    "        l1.append(i)\n",
    "        for i in range(len(l1)):\n",
    "            if l1[i] > max:\n",
    "                max = l1[i]\n",
    "print(\"maximum element in a 2D list is a : \",max)"
   ]
  },
  {
   "cell_type": "markdown",
   "id": "f4f49989-8ec9-4121-9267-05bf3f84694a",
   "metadata": {},
   "source": [
    "15. Create a program that removes all occurrences of a specific element from a list using a `for` loop."
   ]
  },
  {
   "cell_type": "code",
   "execution_count": 35,
   "id": "c0629c27-bee4-4151-b289-045cd30d1996",
   "metadata": {},
   "outputs": [
    {
     "name": "stdout",
     "output_type": "stream",
     "text": [
      "remove all occurence element : []\n"
     ]
    }
   ],
   "source": [
    "## create a list \n",
    "l = [1,2,3,4,5,6,7,8]\n",
    "\n",
    "## remove all occurence specific element in a list using for loop\n",
    "## by use pop() funtion in a list\n",
    "for i in range(len(l)):\n",
    "    l.pop()\n",
    "print(\"remove all occurence element :\",l)"
   ]
  },
  {
   "cell_type": "markdown",
   "id": "49e84432-eaa2-4adb-b756-ff85869961cf",
   "metadata": {},
   "source": [
    "16. Develop a program that generates a multiplication table for numbers from 1 to 5 using a nested `for` loop."
   ]
  },
  {
   "cell_type": "code",
   "execution_count": 36,
   "id": "d0578dd8-1687-4cc6-a7a5-5f5a670471d4",
   "metadata": {},
   "outputs": [
    {
     "name": "stdout",
     "output_type": "stream",
     "text": [
      "Multiplication table for 1:\n",
      "1 x 1 = 1\n",
      "1 x 2 = 2\n",
      "1 x 3 = 3\n",
      "1 x 4 = 4\n",
      "1 x 5 = 5\n",
      "1 x 6 = 6\n",
      "1 x 7 = 7\n",
      "1 x 8 = 8\n",
      "1 x 9 = 9\n",
      "1 x 10 = 10\n",
      "\n",
      "Multiplication table for 2:\n",
      "2 x 1 = 2\n",
      "2 x 2 = 4\n",
      "2 x 3 = 6\n",
      "2 x 4 = 8\n",
      "2 x 5 = 10\n",
      "2 x 6 = 12\n",
      "2 x 7 = 14\n",
      "2 x 8 = 16\n",
      "2 x 9 = 18\n",
      "2 x 10 = 20\n",
      "\n",
      "Multiplication table for 3:\n",
      "3 x 1 = 3\n",
      "3 x 2 = 6\n",
      "3 x 3 = 9\n",
      "3 x 4 = 12\n",
      "3 x 5 = 15\n",
      "3 x 6 = 18\n",
      "3 x 7 = 21\n",
      "3 x 8 = 24\n",
      "3 x 9 = 27\n",
      "3 x 10 = 30\n",
      "\n",
      "Multiplication table for 4:\n",
      "4 x 1 = 4\n",
      "4 x 2 = 8\n",
      "4 x 3 = 12\n",
      "4 x 4 = 16\n",
      "4 x 5 = 20\n",
      "4 x 6 = 24\n",
      "4 x 7 = 28\n",
      "4 x 8 = 32\n",
      "4 x 9 = 36\n",
      "4 x 10 = 40\n",
      "\n",
      "Multiplication table for 5:\n",
      "5 x 1 = 5\n",
      "5 x 2 = 10\n",
      "5 x 3 = 15\n",
      "5 x 4 = 20\n",
      "5 x 5 = 25\n",
      "5 x 6 = 30\n",
      "5 x 7 = 35\n",
      "5 x 8 = 40\n",
      "5 x 9 = 45\n",
      "5 x 10 = 50\n",
      "\n"
     ]
    }
   ],
   "source": [
    "# Define the range for the multiplication table\n",
    "start = 1\n",
    "end = 5\n",
    "\n",
    "# Generate the multiplication table\n",
    "for i in range(start, end + 1):\n",
    "    print(f\"Multiplication table for {i}:\")\n",
    "    for j in range(1, 11):\n",
    "        result = i * j\n",
    "        print(f\"{i} x {j} = {result}\")\n",
    "    print()  # Add a blank line to separate tables\n"
   ]
  },
  {
   "cell_type": "markdown",
   "id": "cee2127e-eb11-4497-9864-20baeb95d02b",
   "metadata": {},
   "source": [
    "17. Write a program that converts a list of Fahrenheit temperatures to Celsius using a `for` loop."
   ]
  },
  {
   "cell_type": "code",
   "execution_count": 37,
   "id": "d189a32f-e616-4615-8b12-bb83f99247f5",
   "metadata": {},
   "outputs": [
    {
     "name": "stdout",
     "output_type": "stream",
     "text": [
      "Fahrenheit Temperatures: [32, 68, 86, 104, 122]\n",
      "Celsius Temperatures: [0.0, 20.0, 30.0, 40.0, 50.0]\n"
     ]
    }
   ],
   "source": [
    "# List of Fahrenheit temperatures\n",
    "fahrenheit_temperatures = [32, 68, 86, 104, 122]\n",
    "\n",
    "# Create an empty list to store the Celsius temperatures\n",
    "celsius_temperatures = []\n",
    "\n",
    "# Convert Fahrenheit to Celsius using a for loop\n",
    "for fahrenheit in fahrenheit_temperatures:\n",
    "    celsius = (fahrenheit - 32) * 5/9\n",
    "    celsius_temperatures.append(celsius)\n",
    "\n",
    "# Print the results\n",
    "print(\"Fahrenheit Temperatures:\", fahrenheit_temperatures)\n",
    "print(\"Celsius Temperatures:\", celsius_temperatures)\n"
   ]
  },
  {
   "cell_type": "markdown",
   "id": "54731d5b-9617-4edb-b034-04358b8d310d",
   "metadata": {},
   "source": [
    "18. Create a program to print the common elements from two lists using a `for` loop."
   ]
  },
  {
   "cell_type": "code",
   "execution_count": 38,
   "id": "a9904811-04d2-4e0a-bb74-ffc70df31724",
   "metadata": {},
   "outputs": [
    {
     "name": "stdout",
     "output_type": "stream",
     "text": [
      "common element from two list is : [1, 2, 13]\n"
     ]
    }
   ],
   "source": [
    "## create a two list\n",
    "l1 = [1,2,3,4,6,13]\n",
    "l2 = [1,2,7,9,10,11,12,13]\n",
    "\n",
    "## find a common element in a list \n",
    "l3 = []\n",
    "for i1 in l1:\n",
    "    for i2 in l2:\n",
    "        if i1 == i2:\n",
    "            l3.append(i1)\n",
    "print(\"common element from two list is :\",l3)"
   ]
  },
  {
   "cell_type": "markdown",
   "id": "7d74a4f1-7beb-4560-9855-6e202b081ede",
   "metadata": {},
   "source": [
    "19. Develop a program that prints the pattern of right-angled triangles using a `for` loop. Use ‘*’ to draw the\n",
    "pattern"
   ]
  },
  {
   "cell_type": "code",
   "execution_count": 39,
   "id": "69986c2f-a6d4-4f76-98d9-1e53a719f6c9",
   "metadata": {},
   "outputs": [
    {
     "name": "stdout",
     "output_type": "stream",
     "text": [
      "\n",
      "* \n",
      "* * \n",
      "* * * \n",
      "* * * * \n",
      "* * * * * \n"
     ]
    }
   ],
   "source": [
    "## define height of right-angle-triangle\n",
    "h = 5\n",
    "\n",
    "## draw pattern '*' using for loop\n",
    "for i in range(h+1):\n",
    "    for j in range(i):\n",
    "        print(\"*\",end=\" \")\n",
    "    print()"
   ]
  },
  {
   "cell_type": "markdown",
   "id": "a205507d-3d7f-4311-8c47-b4118a03e09a",
   "metadata": {},
   "source": [
    "20. Write a program to find the greatest common divisor (GCD) of two numbers using a `for` loop"
   ]
  },
  {
   "cell_type": "code",
   "execution_count": 5,
   "id": "524a5e35-521a-46f8-92f9-81ac0dac2e0b",
   "metadata": {},
   "outputs": [
    {
     "name": "stdin",
     "output_type": "stream",
     "text": [
      "enter number 1: 81\n",
      "enter number 2 : 153\n"
     ]
    },
    {
     "name": "stdout",
     "output_type": "stream",
     "text": [
      "greatest common divisor (GCD) : 9\n"
     ]
    }
   ],
   "source": [
    "## define two user input number\n",
    "n1 = int(input(\"enter number 1:\"))\n",
    "n2 = int(input(\"enter number 2 :\"))\n",
    "\n",
    "## check small enter number\n",
    "if n1 > n2 :\n",
    "    small_num = n2\n",
    "else:\n",
    "    small_num = n1\n",
    "## calculate greatest common divisor(GCD) using for loop\n",
    "GCD = 0\n",
    "for i in range(1,small_num+1):\n",
    "    if n1%i == 0 and n2%i ==0 :\n",
    "        GCD = i\n",
    "print(\"greatest common divisor (GCD) :\",GCD)"
   ]
  },
  {
   "cell_type": "markdown",
   "id": "c70fc626-b758-465a-b300-578512999183",
   "metadata": {},
   "source": [
    "-----------------------------------"
   ]
  },
  {
   "cell_type": "raw",
   "id": "2a5d6f4e-68bf-4668-9271-44ea27dea9a2",
   "metadata": {},
   "source": [
    "Advanced Level:"
   ]
  },
  {
   "cell_type": "markdown",
   "id": "79b2ce3a-c500-4d14-a46f-0a8180b3ced3",
   "metadata": {},
   "source": [
    "21. Create a program that calculates the sum of the digits of numbers in a list using a list comprehension."
   ]
  },
  {
   "cell_type": "code",
   "execution_count": 91,
   "id": "5b0ee9d1-5548-48b7-9194-29b9235bfbda",
   "metadata": {},
   "outputs": [
    {
     "name": "stdout",
     "output_type": "stream",
     "text": [
      "sum of all num : 15\n"
     ]
    }
   ],
   "source": [
    "# Consider the list of integers\n",
    "l =[1,2,3,4,5]\n",
    "total=0\n",
    "\n",
    "##using assignment expression\n",
    "l1= [total:=total+x for x in l]\n",
    "print(\"sum of all num :\",total)"
   ]
  },
  {
   "cell_type": "markdown",
   "id": "b7fe2eca-bb56-4b7f-b805-cf42c2c011e5",
   "metadata": {},
   "source": [
    "22. Write a program to find the prime factors of a given number using a `for` loop and list comprehension."
   ]
  },
  {
   "cell_type": "code",
   "execution_count": 6,
   "id": "405e0ecb-da58-437f-aa83-9e1c3eca8b6f",
   "metadata": {},
   "outputs": [
    {
     "name": "stdin",
     "output_type": "stream",
     "text": [
      "prime factors of : 10\n"
     ]
    },
    {
     "name": "stdout",
     "output_type": "stream",
     "text": [
      "2\n",
      "5\n"
     ]
    }
   ],
   "source": [
    "## difine user input\n",
    "n = int(input(\"prime factors of :\"))\n",
    "for i in range(2,n):\n",
    "    if n%i ==0:\n",
    "        print(i)"
   ]
  },
  {
   "cell_type": "markdown",
   "id": "9a8c9d09-0764-4c62-88fa-f0fa146e9ce5",
   "metadata": {},
   "source": [
    "23. Develop a program that extracts unique elements from a list and stores them in a new list using a list\n",
    "comprehension."
   ]
  },
  {
   "cell_type": "code",
   "execution_count": 9,
   "id": "e22b16ec-8195-4909-9786-89f8d3215216",
   "metadata": {},
   "outputs": [
    {
     "name": "stdout",
     "output_type": "stream",
     "text": [
      "original_list : [1, 2, 2, 3, 4, 4, 5, 6, 6, 7]\n",
      "unique list : [1, 2, 3, 4, 5, 6, 7]\n"
     ]
    }
   ],
   "source": [
    "# Sample list with duplicate elements\n",
    "original_list = [1, 2, 2, 3, 4, 4, 5, 6, 6, 7]\n",
    "\n",
    "## abtract unique elemrnt in a list\n",
    "uni_list = [v for i,v in enumerate(original_list) if v not in original_list[:i]]\n",
    "\n",
    "## print unique list\n",
    "print(\"original_list :\",original_list)\n",
    "print(\"unique list :\",uni_list)"
   ]
  },
  {
   "cell_type": "markdown",
   "id": "35754a49-1a29-4d2f-9772-2eaf8a7f8592",
   "metadata": {},
   "source": [
    "24. Create a program that generates a list of all palindromic numbers up to a specified limit using a list\n",
    "comprehension."
   ]
  },
  {
   "cell_type": "code",
   "execution_count": 13,
   "id": "0c654755-6bb5-449a-afa6-fe8fd00b64f5",
   "metadata": {},
   "outputs": [
    {
     "name": "stdin",
     "output_type": "stream",
     "text": [
      "enter limit: 20\n"
     ]
    },
    {
     "name": "stdout",
     "output_type": "stream",
     "text": [
      "list of palindromic number: [0, 1, 2, 3, 4, 5, 6, 7, 8, 9, 11]\n"
     ]
    }
   ],
   "source": [
    "## define funtion to cheack number is palindrom\n",
    "def ispalidn(n):\n",
    "    return str(n) == str(n)[::-1]\n",
    "\n",
    "##specify a limit to gnerate palidromic number\n",
    "n = int(input(\"enter limit:\"))\n",
    "\n",
    "## gnerate list of palidromic number usin list comprehension\n",
    "gen_pali = [i for i in range(n+1) if ispalidn(i)]\n",
    "\n",
    "## print list of palindromic number\n",
    "print(\"list of palindromic number:\",gen_pali)"
   ]
  },
  {
   "cell_type": "markdown",
   "id": "bb7f1386-7fbe-4791-a968-d420937a23ec",
   "metadata": {},
   "source": [
    "25. Write a program to flatten a nested list using list comprehension."
   ]
  },
  {
   "cell_type": "code",
   "execution_count": 16,
   "id": "a7cf2c7b-7b77-4a1f-ada3-e48c92b8376f",
   "metadata": {},
   "outputs": [
    {
     "name": "stdout",
     "output_type": "stream",
     "text": [
      "Original Nested List: [1, [2, 3], [4, [5, 6]], 7, [8, 9]]\n",
      "Flattened List: [1, 2, 3, 4, [5, 6], 7, 8, 9]\n"
     ]
    }
   ],
   "source": [
    "# Function to flatten a nested list using list comprehension\n",
    "def flatten_nested_list(nested_list):\n",
    "    return [item for sublist in nested_list for item in (sublist if isinstance(sublist, list) else [sublist])]\n",
    "\n",
    "# Example nested list\n",
    "nested_list = [1, [2, 3], [4, [5, 6]], 7, [8, 9]]\n",
    "\n",
    "# Flatten the nested list\n",
    "flattened_list = flatten_nested_list(nested_list)\n",
    "\n",
    "# Print the flattened list\n",
    "print(\"Original Nested List:\", nested_list)\n",
    "print(\"Flattened List:\", flattened_list)\n"
   ]
  },
  {
   "cell_type": "markdown",
   "id": "4a74a755-d5f4-4b58-8fae-bb05b6df4fcb",
   "metadata": {},
   "source": [
    "26. Develop a program that computes the sum of even and odd numbers in a list separately using list\n",
    "comprehension."
   ]
  },
  {
   "cell_type": "code",
   "execution_count": 17,
   "id": "f1758103-8486-4b93-a130-7b52cd969a23",
   "metadata": {},
   "outputs": [
    {
     "name": "stdout",
     "output_type": "stream",
     "text": [
      "List of numbers: [1, 2, 3, 4, 5, 6, 7, 8, 9]\n",
      "Sum of even numbers: 20\n",
      "Sum of odd numbers: 25\n"
     ]
    }
   ],
   "source": [
    "# Example list of numbers\n",
    "numbers = [1, 2, 3, 4, 5, 6, 7, 8, 9]\n",
    "\n",
    "# Use list comprehensions to compute the sum of even and odd numbers separately\n",
    "even_sum = sum([x for x in numbers if x % 2 == 0])\n",
    "odd_sum = sum([x for x in numbers if x % 2 != 0])\n",
    "\n",
    "# Print the results\n",
    "print(\"List of numbers:\", numbers)\n",
    "print(\"Sum of even numbers:\", even_sum)\n",
    "print(\"Sum of odd numbers:\", odd_sum)\n"
   ]
  },
  {
   "cell_type": "markdown",
   "id": "88662bcd-ca80-49d7-8aac-b3fdc13364ad",
   "metadata": {},
   "source": [
    "27. Create a program that generates a list of squares of odd numbers between 1 and 10 using list\n",
    "comprehension."
   ]
  },
  {
   "cell_type": "code",
   "execution_count": 21,
   "id": "cae81c0a-fa3b-4ad2-b123-eb40280fe0ef",
   "metadata": {},
   "outputs": [
    {
     "name": "stdout",
     "output_type": "stream",
     "text": [
      "list of odd number square:  [1, 9, 25, 49, 81]\n"
     ]
    }
   ],
   "source": [
    "# Example list of numbers\n",
    "l = [1, 2, 3, 4, 5, 6, 7, 8, 9, 10]\n",
    "\n",
    "##list of odd num square using list comprehension\n",
    "list_square = [x**2 for x in l if x%2 !=0]\n",
    "\n",
    "## print list of odd number square\n",
    "print(\"list of odd number square: \",list_square)"
   ]
  },
  {
   "cell_type": "markdown",
   "id": "af98a540-c0c7-4c7b-8db3-cb350192169a",
   "metadata": {},
   "source": [
    "28. Write a program that combines two lists into a dictionary using list comprehension."
   ]
  },
  {
   "cell_type": "code",
   "execution_count": 22,
   "id": "beed607e-81ed-4d25-97e3-baf98eee861c",
   "metadata": {},
   "outputs": [
    {
     "name": "stdout",
     "output_type": "stream",
     "text": [
      "Combined Dictionary: {'a': 1, 'b': 2, 'c': 3}\n"
     ]
    }
   ],
   "source": [
    "# Example lists to combine into a dictionary\n",
    "keys = ['a', 'b', 'c']\n",
    "values = [1, 2, 3]\n",
    "\n",
    "# Use list comprehension to combine the two lists into a dictionary\n",
    "combined_dict = {key: value for key, value in zip(keys, values)}\n",
    "\n",
    "# Print the resulting dictionary\n",
    "print(\"Combined Dictionary:\", combined_dict)\n"
   ]
  },
  {
   "cell_type": "markdown",
   "id": "3103c459-c258-4357-836d-73ecff8601f6",
   "metadata": {},
   "source": [
    "29. Develop a program that extracts the vowels from a string and stores them in a list using list comprehension."
   ]
  },
  {
   "cell_type": "code",
   "execution_count": 24,
   "id": "1153bea1-b8d3-4e4c-a36e-84113f3cbe41",
   "metadata": {},
   "outputs": [
    {
     "name": "stdout",
     "output_type": "stream",
     "text": [
      "vowels list:  ['e', 'o', 'i', 'i']\n"
     ]
    }
   ],
   "source": [
    "## create a string\n",
    "s = \"Hello hii\"\n",
    "\n",
    "## extract vowels from string and store them list\n",
    "vowls_list = [i for i in s if i.lower() in \"aeiou\"]\n",
    "\n",
    "## print vowels list\n",
    "print(\"vowels list: \",vowls_list)"
   ]
  },
  {
   "cell_type": "markdown",
   "id": "e1b87999-a812-4493-a5b2-005543cebdd3",
   "metadata": {},
   "source": [
    "30. Create a program that removes all non-numeric characters from a list of strings using list comprehension."
   ]
  },
  {
   "cell_type": "code",
   "execution_count": 4,
   "id": "89e06cd0-5cb0-4065-b859-4beb937bf0ff",
   "metadata": {},
   "outputs": [
    {
     "name": "stdout",
     "output_type": "stream",
     "text": [
      "['123', '456', '789', '1', '12345']\n"
     ]
    }
   ],
   "source": [
    "# Input list of strings\n",
    "strings = [\"abc123\", \"456xyz\", \"789\", \"1hello\", \"world12345\"]\n",
    "\n",
    "# List comprehension to remove non-numeric characters\n",
    "numeric = [''.join(i for i in s if i.isdigit()) for s in strings]\n",
    "\n",
    "## print numeric list\n",
    "print(numeric)"
   ]
  },
  {
   "cell_type": "raw",
   "id": "c9f248b2-f1ac-4eb4-9be4-8cd7e6c46c46",
   "metadata": {},
   "source": [
    "Challenge Level:"
   ]
  },
  {
   "cell_type": "markdown",
   "id": "8049de2e-34aa-483d-8884-b8599d3aa4ae",
   "metadata": {},
   "source": [
    "31. Write a program to generate a list of prime numbers using the Sieve of Eratosthenes algorithm and list\n",
    "comprehension."
   ]
  },
  {
   "cell_type": "code",
   "execution_count": 5,
   "id": "b1dc0534-d3dc-4c74-a377-6f584008f8e5",
   "metadata": {},
   "outputs": [
    {
     "name": "stdin",
     "output_type": "stream",
     "text": [
      "Enter the upper limit for prime numbers:  10\n"
     ]
    },
    {
     "name": "stdout",
     "output_type": "stream",
     "text": [
      "Prime numbers up to 10 are: [2, 3, 5, 7]\n"
     ]
    }
   ],
   "source": [
    "def sieve_eratosthenes(n):\n",
    "    sieve = [True] * (n + 1)\n",
    "    sieve[0] = sieve[1] = False\n",
    "    p = 2\n",
    "    while p**2 <= n:\n",
    "        if sieve[p]:\n",
    "            for i in range(p**2, n + 1, p):\n",
    "                sieve[i] = False\n",
    "        p += 1\n",
    "    return [x for x in range(2, n + 1) if sieve[x]]\n",
    "\n",
    "# Specify the upper limit for prime number generation\n",
    "n = int(input(\"Enter the upper limit for prime numbers: \"))\n",
    "\n",
    "# Generate the list of prime numbers using the Sieve of Eratosthenes algorithm\n",
    "prime_numbers = sieve_eratosthenes(n)\n",
    "\n",
    "# Print the list of prime numbers\n",
    "print(\"Prime numbers up to\", n, \"are:\", prime_numbers)\n"
   ]
  },
  {
   "cell_type": "markdown",
   "id": "31c3a278-f3a7-4052-8da9-4bce70a73ecf",
   "metadata": {},
   "source": [
    "32. Create a program that generates a list of all Pythagorean triplets up to a specified limit using list\n",
    "comprehension."
   ]
  },
  {
   "cell_type": "code",
   "execution_count": 6,
   "id": "734c152f-f837-4c53-9593-a9a64e7610fa",
   "metadata": {},
   "outputs": [
    {
     "name": "stdin",
     "output_type": "stream",
     "text": [
      "Enter the upper limit for Pythagorean triplets:  10\n"
     ]
    },
    {
     "name": "stdout",
     "output_type": "stream",
     "text": [
      "Pythagorean triplets up to 10 are: [(3, 4, 5), (6, 8, 10)]\n"
     ]
    }
   ],
   "source": [
    "# Specify the upper limit for Pythagorean triplets\n",
    "limit = int(input(\"Enter the upper limit for Pythagorean triplets: \"))\n",
    "\n",
    "# Generate the list of Pythagorean triplets using list comprehension\n",
    "pythagorean_triplets = [(a, b, c) for a in range(1, limit + 1) for b in range(a, limit + 1) for c in range(b, limit + 1) if a**2 + b**2 == c**2]\n",
    "\n",
    "# Print the list of Pythagorean triplets\n",
    "print(\"Pythagorean triplets up to\", limit, \"are:\", pythagorean_triplets)\n"
   ]
  },
  {
   "cell_type": "markdown",
   "id": "11f728a9-0b05-45a0-b10c-09fe45411b9c",
   "metadata": {},
   "source": [
    "33. Develop a program that generates a list of all possible combinations of two lists using list comprehension."
   ]
  },
  {
   "cell_type": "code",
   "execution_count": 7,
   "id": "f44a5881-579b-4f9a-a7da-0e602e9e709d",
   "metadata": {},
   "outputs": [
    {
     "name": "stdout",
     "output_type": "stream",
     "text": [
      "All possible combinations of list1 and list2 are: [(1, 'a'), (1, 'b'), (1, 'c'), (2, 'a'), (2, 'b'), (2, 'c'), (3, 'a'), (3, 'b'), (3, 'c')]\n"
     ]
    }
   ],
   "source": [
    "# Two input lists\n",
    "list1 = [1, 2, 3]\n",
    "list2 = ['a', 'b', 'c']\n",
    "\n",
    "# Generate all possible combinations of elements from list1 and list2 using list comprehension\n",
    "combinations = [(x, y) for x in list1 for y in list2]\n",
    "\n",
    "# Print the list of combinations\n",
    "print(\"All possible combinations of list1 and list2 are:\", combinations)\n"
   ]
  },
  {
   "cell_type": "markdown",
   "id": "99c8363f-3115-4665-9ccf-85ce99056465",
   "metadata": {},
   "source": [
    "34. Write a program that calculates the mean, median, and mode of a list of numbers using list\n",
    "comprehension"
   ]
  },
  {
   "cell_type": "code",
   "execution_count": 36,
   "id": "29887e11-74d1-4634-a994-40b7adcb5118",
   "metadata": {},
   "outputs": [
    {
     "name": "stdout",
     "output_type": "stream",
     "text": [
      "Mean: 17.363535353535358\n",
      "Median: 6\n",
      "Mode: [2, 9]\n"
     ]
    }
   ],
   "source": [
    "# Input list of numbers\n",
    "numbers = [4, 2, 9, 6, 5, 2, 8, 9, 7]\n",
    "\n",
    "# Calculate the mean using list comprehension\n",
    "l = [sum:=sum+i for i in numbers]\n",
    "mean = sum / len(numbers)\n",
    "\n",
    "# Calculate the median using list comprehension\n",
    "sorted_numbers = sorted(numbers)\n",
    "n = len(sorted_numbers)\n",
    "median = (sorted_numbers[n // 2] + sorted_numbers[(n - 1) // 2]) / 2 if n % 2 == 0 else sorted_numbers[n // 2]\n",
    "\n",
    "# Calculate the mode using list comprehension\n",
    "count_dict = {x: numbers.count(x) for x in numbers}\n",
    "max_count = max(count_dict.values())\n",
    "mode = [key for key, value in count_dict.items() if value == max_count]\n",
    "\n",
    "print(\"Mean:\", mean)\n",
    "print(\"Median:\", median)\n",
    "print(\"Mode:\", mode)\n"
   ]
  },
  {
   "cell_type": "markdown",
   "id": "05b21fca-64e7-4892-b112-8ebabaa246eb",
   "metadata": {},
   "source": [
    "35. Create a program that generates Pascal's triangle up to a specified number of rows using list\n",
    "comprehension."
   ]
  },
  {
   "cell_type": "code",
   "execution_count": 37,
   "id": "882cda26-d520-4df2-8146-e5f43b38fadd",
   "metadata": {},
   "outputs": [
    {
     "name": "stdin",
     "output_type": "stream",
     "text": [
      "Enter the number of rows for Pascal's triangle:  10\n"
     ]
    },
    {
     "name": "stdout",
     "output_type": "stream",
     "text": [
      "             1             \n",
      "            1 1            \n",
      "           1 2 1           \n",
      "          1 3 3 1          \n",
      "         1 4 6 4 1         \n",
      "       1 5 10 10 5 1       \n",
      "      1 6 15 20 15 6 1     \n",
      "    1 7 21 35 35 21 7 1    \n",
      "   1 8 28 56 70 56 28 8 1  \n",
      "1 9 36 84 126 126 84 36 9 1\n"
     ]
    }
   ],
   "source": [
    "def generate_pascals_triangle(rows):\n",
    "    if rows <= 0:\n",
    "        return []\n",
    "    \n",
    "    triangle = [[1]]\n",
    "    \n",
    "    while len(triangle) < rows:\n",
    "        # Generate the next row using the previous row\n",
    "        prev_row = triangle[-1]\n",
    "        next_row = [1] + [prev_row[i] + prev_row[i+1] for i in range(len(prev_row) - 1)] + [1]\n",
    "        triangle.append(next_row)\n",
    "    \n",
    "    return triangle\n",
    "\n",
    "def display_pascals_triangle(triangle):\n",
    "    max_width = len(' '.join(map(str, triangle[-1])))\n",
    "    for row in triangle:\n",
    "        row_str = ' '.join(map(str, row))\n",
    "        print(row_str.center(max_width))\n",
    "\n",
    "# Specify the number of rows you want in Pascal's triangle\n",
    "num_rows = int(input(\"Enter the number of rows for Pascal's triangle: \"))\n",
    "\n",
    "pascals_triangle = generate_pascals_triangle(num_rows)\n",
    "display_pascals_triangle(pascals_triangle)\n"
   ]
  },
  {
   "cell_type": "markdown",
   "id": "27b60c28-c4cd-43c0-8704-51c7a59ca6ed",
   "metadata": {},
   "source": [
    "36. Develop a program that calculates the sum of the digits of a factorial of numbers from 1 to 5 using list\n",
    "comprehension."
   ]
  },
  {
   "cell_type": "code",
   "execution_count": 50,
   "id": "545fd912-da13-40de-99ef-291e74a8f808",
   "metadata": {},
   "outputs": [
    {
     "data": {
      "text/plain": [
       "[1, 2, 6, 6, 3]"
      ]
     },
     "execution_count": 50,
     "metadata": {},
     "output_type": "execute_result"
    }
   ],
   "source": [
    "def sum_of_digits_factorial(n):\n",
    "\tfact = 1\n",
    "\tfor i in range(2, n+1):\n",
    "\t\tfact *= i\n",
    "\tsum_of_digits = 0\n",
    "\tfor digit in str(fact):\n",
    "\t\tsum_of_digits += int(digit)\n",
    "\treturn sum_of_digits\n",
    "\n",
    "# Example usage\n",
    "[sum_of_digits_factorial(i) for i in range(1,6)]\n"
   ]
  },
  {
   "cell_type": "markdown",
   "id": "3dd20c3b-585b-4087-9799-d376fcd5b94b",
   "metadata": {},
   "source": [
    "37. Write a program that finds the longest word in a sentence using list comprehension."
   ]
  },
  {
   "cell_type": "code",
   "execution_count": 52,
   "id": "dbd8a0ff-a464-4c0d-be92-87ccbcce9829",
   "metadata": {},
   "outputs": [
    {
     "name": "stdin",
     "output_type": "stream",
     "text": [
      "Enter a sentence:  hello pw\n"
     ]
    },
    {
     "name": "stdout",
     "output_type": "stream",
     "text": [
      "The longest word in the sentence is: hello\n"
     ]
    }
   ],
   "source": [
    "# Input sentence\n",
    "sentence = input(\"Enter a sentence: \")\n",
    "\n",
    "# Split the sentence into words\n",
    "words = sentence.split()\n",
    "\n",
    "# Find the longest word using list comprehension\n",
    "longest_word = max(words, key=lambda word: len(word))\n",
    "\n",
    "# Print the longest word\n",
    "print(\"The longest word in the sentence is:\", longest_word)\n"
   ]
  },
  {
   "cell_type": "markdown",
   "id": "0f805271-3dbd-485f-85b3-f6ec59f27886",
   "metadata": {},
   "source": [
    "38. Create a program that filters a list of strings to include only those with more than three vowels using list\n",
    "comprehension."
   ]
  },
  {
   "cell_type": "code",
   "execution_count": 32,
   "id": "e662a882-5e4e-4d6a-83c4-cdc4b12baa9f",
   "metadata": {},
   "outputs": [
    {
     "data": {
      "text/plain": [
       "['guava', 'pineapple', 'mandarin orange']"
      ]
     },
     "execution_count": 32,
     "metadata": {},
     "output_type": "execute_result"
    }
   ],
   "source": [
    "import re\n",
    "\n",
    "fruits = [\"mango\", \"kiwi\", \"strawberry\", \"guava\", \"pineapple\", \"mandarin orange\"]\n",
    "results = [i for i in fruits if len(re.sub(r\"[^aeiouAEIOU]\", \"\", i)) > 2]\n",
    "results"
   ]
  },
  {
   "cell_type": "markdown",
   "id": "7b9eb87c-b516-44aa-b51b-d436662d8378",
   "metadata": {},
   "source": [
    "39. Develop a program that calculates the sum of the digits of numbers from 1 to 1000 using list\n",
    "comprehension"
   ]
  },
  {
   "cell_type": "code",
   "execution_count": 2,
   "id": "427d5962-9acb-44d9-8a52-e99908da29a0",
   "metadata": {},
   "outputs": [
    {
     "name": "stdout",
     "output_type": "stream",
     "text": [
      "500500\n"
     ]
    }
   ],
   "source": [
    "sum=0\n",
    "res = [sum:=sum+i for i in range(1,1001)]\n",
    "print(sum)"
   ]
  },
  {
   "cell_type": "markdown",
   "id": "5ea689f2-e1f3-4817-8fb7-c33b838f5604",
   "metadata": {},
   "source": [
    "40. Write a program that generates a list of prime palindromic numbers using list comprehension."
   ]
  },
  {
   "cell_type": "code",
   "execution_count": 12,
   "id": "e7d2913d-dab2-406a-a6f3-03fa8c609fa3",
   "metadata": {},
   "outputs": [
    {
     "name": "stdout",
     "output_type": "stream",
     "text": [
      "list of prime palindromic numbers\n"
     ]
    },
    {
     "data": {
      "text/plain": [
       "[5, 7, 9]"
      ]
     },
     "execution_count": 12,
     "metadata": {},
     "output_type": "execute_result"
    }
   ],
   "source": [
    "prime_list = [x for x in range(0, 11) for y in range(2,int(x**0.5)+1) if x % x == 0 and x % 1 == 0 and x % y != 0]\n",
    "## print list of prime palindromic numbers\n",
    "print(\"list of prime palindromic numbers\")\n",
    "[i for i in prime_list if str(i) == str(i)[::-1]]"
   ]
  },
  {
   "cell_type": "code",
   "execution_count": null,
   "id": "205b3efa-6bb0-43ff-adcd-cee975dfd90a",
   "metadata": {},
   "outputs": [],
   "source": []
  }
 ],
 "metadata": {
  "kernelspec": {
   "display_name": "Python 3 (ipykernel)",
   "language": "python",
   "name": "python3"
  },
  "language_info": {
   "codemirror_mode": {
    "name": "ipython",
    "version": 3
   },
   "file_extension": ".py",
   "mimetype": "text/x-python",
   "name": "python",
   "nbconvert_exporter": "python",
   "pygments_lexer": "ipython3",
   "version": "3.10.8"
  }
 },
 "nbformat": 4,
 "nbformat_minor": 5
}
